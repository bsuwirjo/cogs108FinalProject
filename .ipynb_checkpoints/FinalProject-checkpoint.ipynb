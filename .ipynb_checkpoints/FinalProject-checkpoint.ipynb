{
 "cells": [
  {
   "cell_type": "markdown",
   "metadata": {},
   "source": [
    "# COGS 108 - Final Project "
   ]
  },
  {
   "cell_type": "markdown",
   "metadata": {},
   "source": [
    "# Overview"
   ]
  },
  {
   "cell_type": "markdown",
   "metadata": {},
   "source": [
    "We are exploring the phenomena known as home field advantage and tried to answer this question by exploring different aspects of the sports using datasets from the NBA, MLB, and NFL. We looked at win percentages and score differentials of home and away games and ran statistical tests to determine if there is a significant difference. We also looked at the average number of turnovers/errors committed by teams ant home vs away and also ran statistical tests to determine significance. "
   ]
  },
  {
   "cell_type": "markdown",
   "metadata": {},
   "source": [
    "# Names\n",
    "\n",
    "- Eric Jiang\n",
    "- Ben Hazarian \n",
    "- Gauthier Gris\n",
    "- Bernard Suwirjo\n",
    "- Cesar Reyes "
   ]
  },
  {
   "cell_type": "markdown",
   "metadata": {},
   "source": [
    "# Group Members IDs\n",
    "\n",
    "- A13742681\n",
    "- A11729354\n",
    "- U08216723\n",
    "- A13363140\n",
    "- A14095084"
   ]
  },
  {
   "cell_type": "markdown",
   "metadata": {},
   "source": [
    "# Research Question"
   ]
  },
  {
   "cell_type": "markdown",
   "metadata": {},
   "source": [
    "We are exploring the concept of home field advantage and in what ways can its impact be seen in terms of win percentage, score differential, and turnover rates. Additionally can this be seen across different sports leagues (NBA, NFL, MLB)?\n"
   ]
  },
  {
   "cell_type": "markdown",
   "metadata": {},
   "source": [
    "## Background and Prior Work"
   ]
  },
  {
   "cell_type": "markdown",
   "metadata": {},
   "source": [
    "The current NBA dynasty, Golden State Warriors, have mixed opinions within their team on how important the idea of home court advantage would be to their title run in 2019. In this January 15th Mercury News Article<sup>1</sup>, Stephen Curry states that “it is very important” in regards to securing the number 1 seed and home court advantage in the playoffs. However, their own head coach, Steve Kerr, says it is not really a priority to retain the number 1 seed. This shows that even people within sports organizations are unsure of the importance of home court advantage and what implications it has. \n",
    "\n",
    "Our group has a mutual interest in sports and have found a common intrigue in the idea behind a home field advantage. Specifically if there is even data to suggest its prevalence, and if so how much of an impact does it have. We also have a curiosity on a comparison of this phenomena across different sports and sports leagues. \n",
    "\n",
    "Through some background research we have found data to suggest there are certain influences a home court has across different sports leagues. SBNation reported there was an expected 10.11% win increase if all games were played at home in the NBA<sup>2</sup>. They also showed this for the NFL, MLB and NHL (6.4%, 5.46%, 5.22% respectively).  FiveThirtyEight also has an article which they display results<sup>3</sup> that conclude there is a home court advantage within sports. One odd data point FiveThirtyEight found in their research was that the advantage from regular season to postseason decreased, while in the other major leagues (MLB, NFL, and NBA) saw increased. Inside the Pylon did statistical analysis on NFL seasons between 1978-2013<sup>4</sup>, they found significant additional sack yards lost in away teams (.49 correlation), and fourth quarter point differential in favor of home teams (.43 correlation).\n",
    "\n",
    "Additionally a meta-analysis<sup>5</sup> done by Jeremy P. Jamieson, at Northeastern University, found there should be approximately 60% win rate for home team in all athletic events. He came up with this statistic by examining home field studies across a multitude of sports. He also found that “However, time era, season length, game type, and sport all had a significant impact on the home-field advantage.”\n",
    "\n",
    "Expanding further we researched what some of the possible extents home court advantage has and what its causes could be. Research done at Seton Hall University<sup>6</sup> has shown that fan hostility towards refs makes and impact in calls towards the home teams favor, this shows there could be a bias impacting data that we cannot account for. \n",
    "\n",
    "The research above shows that there seems to be some sort of correlation, but more research can be done to examine what impact home field advantage actually has on games. Can home field advantage be seen across factors such as home differential and turnovers and does this carry over across sports?\n",
    "\n",
    "We would also like to explain the subtle differences between baseball and other sports. Baseball has lengths of games determined by innings and not by time (compared to football and basketball). This also comes with additional rules with inning. The home team bats at the bottom of each inning, this means if they have a lead entering into the bottom of the 9th inning they will not bat. This has an impact on data because the amount of times each team bats is affected by this condition. Additionally since we are analyzing turnovers and there  is no official “turnover” stat for baseball we will using errors as the turnover variable. This would be baseballs equivalent of a turnover because it is a mistake leading to the opposing teams advantage. This is the official definition of an error according to baseball reference<sup>7</sup>. “An Error is a mistake by a fielder that allows a batter to reach base, or a runner to advance an extra base, or allows an at bat to continue after the batter should have been put out; it is determined by the judgment of the official scorer. In most cases, a batter who reaches base as a result of an error is charged with an at bat, while any run which he eventually scores is considered unearned.”\n",
    "\n",
    "References\n",
    "- 1) https://www.mercurynews.com/2019/01/15/to-what-extent-do-the-warriors-value-home-court-advantage-this-season/\n",
    "- 2) https://www.sbnation.com/2011/1/19/1940438/home-field-advantage-sports-stats-data\n",
    "- 3) https://fivethirtyeight.com/features/a-home-playoff-game-is-a-big-advantage-unless-you-play-hockey/\n",
    "- 4) http://insidethepylon.com/football-science/football-statistics/2014/09/26/the-curious-case-of-home-field-advantage-part-i-2/\n",
    "- 5) http://www.psych.rochester.edu/research/jamiesonlab/wp-content/uploads/2014/07/JJ_JASP.pdf\n",
    "- 6) http://pirate.shu.edu/~rotthoku/papers/MLS.pdf\n",
    "- 7) https://www.baseball-reference.com/bullpen/Error"
   ]
  },
  {
   "cell_type": "markdown",
   "metadata": {},
   "source": [
    "# Hypothesis\n"
   ]
  },
  {
   "cell_type": "markdown",
   "metadata": {},
   "source": [
    "Our hypothesis is that home field advantage does not play a role in determining the outcome of a game or match. All professional sports fields/arenas are held to a high standard and as such playing the sport in a different location should be pretty much the same minus minute differences that shouldn’t factor into a teams ability to play. Because of this similarity we think that home field advantage does not play a role in determining the outcome of a game or any specific factors. "
   ]
  },
  {
   "cell_type": "markdown",
   "metadata": {},
   "source": [
    "# Dataset(s)"
   ]
  },
  {
   "cell_type": "markdown",
   "metadata": {},
   "source": [
    "- Dataset Name: NBA Team Game Stats from 2014 to 2018\n",
    "- Link to the dataset: https://www.kaggle.com/ionaskel/nba-games-stats-from-2014-to-2018\n",
    "- Number of observations: over 40,000 data points\n",
    "\n",
    "This data set included information from every game in the 5 season from 2014-2018 in the NBA. \n",
    "This set included information regarding the team, points, turnovers, rebounds, steals, assists, free throws and certain shot selections (3pt and 2pt field goals).\n",
    " \n",
    " \n",
    "- Dataset Name: 2016 MLB Season\n",
    "- Link to the dataset: https://www.kaggle.com/cyaris/2016-mlb-season\n",
    "- Number of observations: over 64,000 data points\n",
    "\n",
    "This data set was available on kaggle and was sourced from baseball-reference. This Data set was for the 2016 MLB season, for every game played and included variables such as attendance, away/home team, stats for each team (runs, errors and hits),date and venue descriptions.\n",
    "\n",
    "\n",
    "- Dataset Name: 2016 NFL Weekly League Schedule\n",
    "- Link to the dataset: https://www.pro-football-reference.com/years/2016/games.htm\n",
    "- Number of observations: over 3,000 data points \n",
    "\n",
    "This data includes information for every regular season game in the NFL. This will include 16 games per week (17 weeks of games, with each team getting 1 week off) which means there are a total of 256 games. This data set has information on time of game, winning and losing team, score for winning team, score for losing team, yards for winning team, yards for losing team, turnover for winning team, and turnovers for losing team. \n"
   ]
  },
  {
   "cell_type": "markdown",
   "metadata": {},
   "source": [
    "# Setup"
   ]
  },
  {
   "cell_type": "code",
   "execution_count": 2,
   "metadata": {},
   "outputs": [],
   "source": [
    "# Necessary Imports\n",
    "import numpy as np\n",
    "import pandas as pd\n",
    "import matplotlib.pyplot as plt\n",
    "from scipy import stats\n",
    "# Display plots directly in the notebook instead of in a new window\n",
    "%matplotlib inline"
   ]
  },
  {
   "cell_type": "code",
   "execution_count": 163,
   "metadata": {},
   "outputs": [],
   "source": [
    "# NBA Dataset\n",
    "nba_data = pd.read_csv('data/nba.games.stats.csv')\n",
    "# MLB Dataset\n",
    "MLB_data = pd.read_csv('data/baseball2016-2017.csv')\n",
    "# NFL Dataset\n",
    "NFL_data = pd.read_csv('data/nfl_16.csv')"
   ]
  },
  {
   "cell_type": "markdown",
   "metadata": {},
   "source": [
    "# Data Cleaning"
   ]
  },
  {
   "cell_type": "markdown",
   "metadata": {},
   "source": [
    "# NBA"
   ]
  },
  {
   "cell_type": "code",
   "execution_count": 9,
   "metadata": {},
   "outputs": [
    {
     "data": {
      "text/html": [
       "<div>\n",
       "<style scoped>\n",
       "    .dataframe tbody tr th:only-of-type {\n",
       "        vertical-align: middle;\n",
       "    }\n",
       "\n",
       "    .dataframe tbody tr th {\n",
       "        vertical-align: top;\n",
       "    }\n",
       "\n",
       "    .dataframe thead th {\n",
       "        text-align: right;\n",
       "    }\n",
       "</style>\n",
       "<table border=\"1\" class=\"dataframe\">\n",
       "  <thead>\n",
       "    <tr style=\"text-align: right;\">\n",
       "      <th></th>\n",
       "      <th>Unnamed: 0</th>\n",
       "      <th>Team</th>\n",
       "      <th>Game</th>\n",
       "      <th>Date</th>\n",
       "      <th>Home</th>\n",
       "      <th>Opponent</th>\n",
       "      <th>WINorLOSS</th>\n",
       "      <th>TeamPoints</th>\n",
       "      <th>OpponentPoints</th>\n",
       "      <th>FieldGoals</th>\n",
       "      <th>...</th>\n",
       "      <th>Opp.FreeThrows</th>\n",
       "      <th>Opp.FreeThrowsAttempted</th>\n",
       "      <th>Opp.FreeThrows.</th>\n",
       "      <th>Opp.OffRebounds</th>\n",
       "      <th>Opp.TotalRebounds</th>\n",
       "      <th>Opp.Assists</th>\n",
       "      <th>Opp.Steals</th>\n",
       "      <th>Opp.Blocks</th>\n",
       "      <th>Opp.Turnovers</th>\n",
       "      <th>Opp.TotalFouls</th>\n",
       "    </tr>\n",
       "  </thead>\n",
       "  <tbody>\n",
       "    <tr>\n",
       "      <th>0</th>\n",
       "      <td>1</td>\n",
       "      <td>ATL</td>\n",
       "      <td>1</td>\n",
       "      <td>2014-10-29</td>\n",
       "      <td>Away</td>\n",
       "      <td>TOR</td>\n",
       "      <td>L</td>\n",
       "      <td>102</td>\n",
       "      <td>109</td>\n",
       "      <td>40</td>\n",
       "      <td>...</td>\n",
       "      <td>27</td>\n",
       "      <td>33</td>\n",
       "      <td>0.818</td>\n",
       "      <td>16</td>\n",
       "      <td>48</td>\n",
       "      <td>26</td>\n",
       "      <td>13</td>\n",
       "      <td>9</td>\n",
       "      <td>9</td>\n",
       "      <td>22</td>\n",
       "    </tr>\n",
       "    <tr>\n",
       "      <th>1</th>\n",
       "      <td>2</td>\n",
       "      <td>ATL</td>\n",
       "      <td>2</td>\n",
       "      <td>2014-11-01</td>\n",
       "      <td>Home</td>\n",
       "      <td>IND</td>\n",
       "      <td>W</td>\n",
       "      <td>102</td>\n",
       "      <td>92</td>\n",
       "      <td>35</td>\n",
       "      <td>...</td>\n",
       "      <td>18</td>\n",
       "      <td>21</td>\n",
       "      <td>0.857</td>\n",
       "      <td>11</td>\n",
       "      <td>44</td>\n",
       "      <td>25</td>\n",
       "      <td>5</td>\n",
       "      <td>5</td>\n",
       "      <td>18</td>\n",
       "      <td>26</td>\n",
       "    </tr>\n",
       "    <tr>\n",
       "      <th>2</th>\n",
       "      <td>3</td>\n",
       "      <td>ATL</td>\n",
       "      <td>3</td>\n",
       "      <td>2014-11-05</td>\n",
       "      <td>Away</td>\n",
       "      <td>SAS</td>\n",
       "      <td>L</td>\n",
       "      <td>92</td>\n",
       "      <td>94</td>\n",
       "      <td>38</td>\n",
       "      <td>...</td>\n",
       "      <td>27</td>\n",
       "      <td>38</td>\n",
       "      <td>0.711</td>\n",
       "      <td>11</td>\n",
       "      <td>50</td>\n",
       "      <td>25</td>\n",
       "      <td>7</td>\n",
       "      <td>9</td>\n",
       "      <td>19</td>\n",
       "      <td>15</td>\n",
       "    </tr>\n",
       "    <tr>\n",
       "      <th>3</th>\n",
       "      <td>4</td>\n",
       "      <td>ATL</td>\n",
       "      <td>4</td>\n",
       "      <td>2014-11-07</td>\n",
       "      <td>Away</td>\n",
       "      <td>CHO</td>\n",
       "      <td>L</td>\n",
       "      <td>119</td>\n",
       "      <td>122</td>\n",
       "      <td>43</td>\n",
       "      <td>...</td>\n",
       "      <td>20</td>\n",
       "      <td>27</td>\n",
       "      <td>0.741</td>\n",
       "      <td>11</td>\n",
       "      <td>51</td>\n",
       "      <td>31</td>\n",
       "      <td>6</td>\n",
       "      <td>7</td>\n",
       "      <td>19</td>\n",
       "      <td>30</td>\n",
       "    </tr>\n",
       "    <tr>\n",
       "      <th>4</th>\n",
       "      <td>5</td>\n",
       "      <td>ATL</td>\n",
       "      <td>5</td>\n",
       "      <td>2014-11-08</td>\n",
       "      <td>Home</td>\n",
       "      <td>NYK</td>\n",
       "      <td>W</td>\n",
       "      <td>103</td>\n",
       "      <td>96</td>\n",
       "      <td>33</td>\n",
       "      <td>...</td>\n",
       "      <td>8</td>\n",
       "      <td>11</td>\n",
       "      <td>0.727</td>\n",
       "      <td>13</td>\n",
       "      <td>44</td>\n",
       "      <td>26</td>\n",
       "      <td>2</td>\n",
       "      <td>6</td>\n",
       "      <td>15</td>\n",
       "      <td>29</td>\n",
       "    </tr>\n",
       "  </tbody>\n",
       "</table>\n",
       "<p>5 rows × 41 columns</p>\n",
       "</div>"
      ],
      "text/plain": [
       "   Unnamed: 0 Team  Game       Date  Home Opponent WINorLOSS  TeamPoints  \\\n",
       "0           1  ATL     1 2014-10-29  Away      TOR         L         102   \n",
       "1           2  ATL     2 2014-11-01  Home      IND         W         102   \n",
       "2           3  ATL     3 2014-11-05  Away      SAS         L          92   \n",
       "3           4  ATL     4 2014-11-07  Away      CHO         L         119   \n",
       "4           5  ATL     5 2014-11-08  Home      NYK         W         103   \n",
       "\n",
       "   OpponentPoints  FieldGoals  ...  Opp.FreeThrows  Opp.FreeThrowsAttempted  \\\n",
       "0             109          40  ...              27                       33   \n",
       "1              92          35  ...              18                       21   \n",
       "2              94          38  ...              27                       38   \n",
       "3             122          43  ...              20                       27   \n",
       "4              96          33  ...               8                       11   \n",
       "\n",
       "   Opp.FreeThrows.  Opp.OffRebounds  Opp.TotalRebounds  Opp.Assists  \\\n",
       "0            0.818               16                 48           26   \n",
       "1            0.857               11                 44           25   \n",
       "2            0.711               11                 50           25   \n",
       "3            0.741               11                 51           31   \n",
       "4            0.727               13                 44           26   \n",
       "\n",
       "   Opp.Steals  Opp.Blocks  Opp.Turnovers  Opp.TotalFouls  \n",
       "0          13           9              9              22  \n",
       "1           5           5             18              26  \n",
       "2           7           9             19              15  \n",
       "3           6           7             19              30  \n",
       "4           2           6             15              29  \n",
       "\n",
       "[5 rows x 41 columns]"
      ]
     },
     "execution_count": 9,
     "metadata": {},
     "output_type": "execute_result"
    }
   ],
   "source": [
    "#Original dataset\n",
    "nba_data.head()"
   ]
  },
  {
   "cell_type": "code",
   "execution_count": 10,
   "metadata": {},
   "outputs": [
    {
     "data": {
      "text/html": [
       "<div>\n",
       "<style scoped>\n",
       "    .dataframe tbody tr th:only-of-type {\n",
       "        vertical-align: middle;\n",
       "    }\n",
       "\n",
       "    .dataframe tbody tr th {\n",
       "        vertical-align: top;\n",
       "    }\n",
       "\n",
       "    .dataframe thead th {\n",
       "        text-align: right;\n",
       "    }\n",
       "</style>\n",
       "<table border=\"1\" class=\"dataframe\">\n",
       "  <thead>\n",
       "    <tr style=\"text-align: right;\">\n",
       "      <th></th>\n",
       "      <th>Team</th>\n",
       "      <th>Game</th>\n",
       "      <th>Home</th>\n",
       "      <th>Opponent</th>\n",
       "      <th>WINorLOSS</th>\n",
       "      <th>TeamPoints</th>\n",
       "      <th>OpponentPoints</th>\n",
       "      <th>FieldGoals</th>\n",
       "      <th>FieldGoalsAttempted</th>\n",
       "      <th>FieldGoals.</th>\n",
       "      <th>...</th>\n",
       "      <th>Opp.FreeThrows</th>\n",
       "      <th>Opp.FreeThrowsAttempted</th>\n",
       "      <th>Opp.FreeThrows.</th>\n",
       "      <th>Opp.OffRebounds</th>\n",
       "      <th>Opp.TotalRebounds</th>\n",
       "      <th>Opp.Assists</th>\n",
       "      <th>Opp.Steals</th>\n",
       "      <th>Opp.Blocks</th>\n",
       "      <th>Opp.Turnovers</th>\n",
       "      <th>Opp.TotalFouls</th>\n",
       "    </tr>\n",
       "  </thead>\n",
       "  <tbody>\n",
       "    <tr>\n",
       "      <th>4920</th>\n",
       "      <td>ATL</td>\n",
       "      <td>1</td>\n",
       "      <td>Home</td>\n",
       "      <td>WAS</td>\n",
       "      <td>1</td>\n",
       "      <td>114</td>\n",
       "      <td>99</td>\n",
       "      <td>44</td>\n",
       "      <td>88</td>\n",
       "      <td>0.500</td>\n",
       "      <td>...</td>\n",
       "      <td>13</td>\n",
       "      <td>18</td>\n",
       "      <td>0.722</td>\n",
       "      <td>12</td>\n",
       "      <td>40</td>\n",
       "      <td>25</td>\n",
       "      <td>14</td>\n",
       "      <td>4</td>\n",
       "      <td>19</td>\n",
       "      <td>20</td>\n",
       "    </tr>\n",
       "    <tr>\n",
       "      <th>4921</th>\n",
       "      <td>ATL</td>\n",
       "      <td>2</td>\n",
       "      <td>Away</td>\n",
       "      <td>PHI</td>\n",
       "      <td>1</td>\n",
       "      <td>104</td>\n",
       "      <td>72</td>\n",
       "      <td>42</td>\n",
       "      <td>85</td>\n",
       "      <td>0.494</td>\n",
       "      <td>...</td>\n",
       "      <td>11</td>\n",
       "      <td>15</td>\n",
       "      <td>0.733</td>\n",
       "      <td>4</td>\n",
       "      <td>39</td>\n",
       "      <td>16</td>\n",
       "      <td>9</td>\n",
       "      <td>5</td>\n",
       "      <td>20</td>\n",
       "      <td>20</td>\n",
       "    </tr>\n",
       "    <tr>\n",
       "      <th>4922</th>\n",
       "      <td>ATL</td>\n",
       "      <td>3</td>\n",
       "      <td>Home</td>\n",
       "      <td>SAC</td>\n",
       "      <td>1</td>\n",
       "      <td>106</td>\n",
       "      <td>95</td>\n",
       "      <td>33</td>\n",
       "      <td>79</td>\n",
       "      <td>0.418</td>\n",
       "      <td>...</td>\n",
       "      <td>13</td>\n",
       "      <td>19</td>\n",
       "      <td>0.684</td>\n",
       "      <td>6</td>\n",
       "      <td>38</td>\n",
       "      <td>26</td>\n",
       "      <td>10</td>\n",
       "      <td>6</td>\n",
       "      <td>19</td>\n",
       "      <td>34</td>\n",
       "    </tr>\n",
       "    <tr>\n",
       "      <th>4923</th>\n",
       "      <td>ATL</td>\n",
       "      <td>4</td>\n",
       "      <td>Home</td>\n",
       "      <td>LAL</td>\n",
       "      <td>0</td>\n",
       "      <td>116</td>\n",
       "      <td>123</td>\n",
       "      <td>41</td>\n",
       "      <td>85</td>\n",
       "      <td>0.482</td>\n",
       "      <td>...</td>\n",
       "      <td>18</td>\n",
       "      <td>20</td>\n",
       "      <td>0.900</td>\n",
       "      <td>11</td>\n",
       "      <td>42</td>\n",
       "      <td>24</td>\n",
       "      <td>11</td>\n",
       "      <td>9</td>\n",
       "      <td>15</td>\n",
       "      <td>25</td>\n",
       "    </tr>\n",
       "    <tr>\n",
       "      <th>4924</th>\n",
       "      <td>ATL</td>\n",
       "      <td>5</td>\n",
       "      <td>Away</td>\n",
       "      <td>WAS</td>\n",
       "      <td>0</td>\n",
       "      <td>92</td>\n",
       "      <td>95</td>\n",
       "      <td>32</td>\n",
       "      <td>83</td>\n",
       "      <td>0.386</td>\n",
       "      <td>...</td>\n",
       "      <td>28</td>\n",
       "      <td>35</td>\n",
       "      <td>0.800</td>\n",
       "      <td>11</td>\n",
       "      <td>46</td>\n",
       "      <td>13</td>\n",
       "      <td>7</td>\n",
       "      <td>3</td>\n",
       "      <td>19</td>\n",
       "      <td>23</td>\n",
       "    </tr>\n",
       "  </tbody>\n",
       "</table>\n",
       "<p>5 rows × 39 columns</p>\n",
       "</div>"
      ],
      "text/plain": [
       "     Team  Game  Home Opponent  WINorLOSS  TeamPoints  OpponentPoints  \\\n",
       "4920  ATL     1  Home      WAS          1         114              99   \n",
       "4921  ATL     2  Away      PHI          1         104              72   \n",
       "4922  ATL     3  Home      SAC          1         106              95   \n",
       "4923  ATL     4  Home      LAL          0         116             123   \n",
       "4924  ATL     5  Away      WAS          0          92              95   \n",
       "\n",
       "      FieldGoals  FieldGoalsAttempted  FieldGoals.  ...  Opp.FreeThrows  \\\n",
       "4920          44                   88        0.500  ...              13   \n",
       "4921          42                   85        0.494  ...              11   \n",
       "4922          33                   79        0.418  ...              13   \n",
       "4923          41                   85        0.482  ...              18   \n",
       "4924          32                   83        0.386  ...              28   \n",
       "\n",
       "      Opp.FreeThrowsAttempted  Opp.FreeThrows.  Opp.OffRebounds  \\\n",
       "4920                       18            0.722               12   \n",
       "4921                       15            0.733                4   \n",
       "4922                       19            0.684                6   \n",
       "4923                       20            0.900               11   \n",
       "4924                       35            0.800               11   \n",
       "\n",
       "      Opp.TotalRebounds  Opp.Assists  Opp.Steals  Opp.Blocks  Opp.Turnovers  \\\n",
       "4920                 40           25          14           4             19   \n",
       "4921                 39           16           9           5             20   \n",
       "4922                 38           26          10           6             19   \n",
       "4923                 42           24          11           9             15   \n",
       "4924                 46           13           7           3             19   \n",
       "\n",
       "      Opp.TotalFouls  \n",
       "4920              20  \n",
       "4921              20  \n",
       "4922              34  \n",
       "4923              25  \n",
       "4924              23  \n",
       "\n",
       "[5 rows x 39 columns]"
      ]
     },
     "execution_count": 10,
     "metadata": {},
     "output_type": "execute_result"
    }
   ],
   "source": [
    "#Convert 'Date' column to datetime objects\n",
    "nba_data['Date'] = pd.to_datetime(nba_data['Date'])\n",
    "#Grab data from only 2016-2017 season\n",
    "one_season = nba_data.loc[(nba_data['Date'] >= '2016-10-25') & (nba_data['Date'] <= '2017-04-12')]\n",
    "#Drop unnecessary columns\n",
    "one_season = one_season.drop(columns = ['Date', 'Unnamed: 0'])\n",
    "#Convert WINorLOSS column to binary (1 for win, 0 for loss)\n",
    "one_season['WINorLOSS'] = one_season['WINorLOSS'].eq('W').mul(1)\n",
    "#Cleaned dataset\n",
    "one_season.head()"
   ]
  },
  {
   "cell_type": "markdown",
   "metadata": {},
   "source": [
    "# NFL"
   ]
  },
  {
   "cell_type": "code",
   "execution_count": 13,
   "metadata": {},
   "outputs": [
    {
     "data": {
      "text/html": [
       "<div>\n",
       "<style scoped>\n",
       "    .dataframe tbody tr th:only-of-type {\n",
       "        vertical-align: middle;\n",
       "    }\n",
       "\n",
       "    .dataframe tbody tr th {\n",
       "        vertical-align: top;\n",
       "    }\n",
       "\n",
       "    .dataframe thead th {\n",
       "        text-align: right;\n",
       "    }\n",
       "</style>\n",
       "<table border=\"1\" class=\"dataframe\">\n",
       "  <thead>\n",
       "    <tr style=\"text-align: right;\">\n",
       "      <th></th>\n",
       "      <th>Week</th>\n",
       "      <th>Day</th>\n",
       "      <th>Date</th>\n",
       "      <th>Time</th>\n",
       "      <th>Winner/tie</th>\n",
       "      <th>Unnamed: 5</th>\n",
       "      <th>Loser/tie</th>\n",
       "      <th>Unnamed: 7</th>\n",
       "      <th>Pts</th>\n",
       "      <th>Pts.1</th>\n",
       "      <th>YdsW</th>\n",
       "      <th>TOW</th>\n",
       "      <th>YdsL</th>\n",
       "      <th>TOL</th>\n",
       "    </tr>\n",
       "  </thead>\n",
       "  <tbody>\n",
       "    <tr>\n",
       "      <th>0</th>\n",
       "      <td>1</td>\n",
       "      <td>Thu</td>\n",
       "      <td>September 8</td>\n",
       "      <td>8:40PM</td>\n",
       "      <td>Denver Broncos</td>\n",
       "      <td>NaN</td>\n",
       "      <td>Carolina Panthers</td>\n",
       "      <td>boxscore</td>\n",
       "      <td>21</td>\n",
       "      <td>20</td>\n",
       "      <td>307</td>\n",
       "      <td>3</td>\n",
       "      <td>333</td>\n",
       "      <td>1</td>\n",
       "    </tr>\n",
       "    <tr>\n",
       "      <th>1</th>\n",
       "      <td>1</td>\n",
       "      <td>Sun</td>\n",
       "      <td>September 11</td>\n",
       "      <td>1:04PM</td>\n",
       "      <td>Green Bay Packers</td>\n",
       "      <td>@</td>\n",
       "      <td>Jacksonville Jaguars</td>\n",
       "      <td>boxscore</td>\n",
       "      <td>27</td>\n",
       "      <td>23</td>\n",
       "      <td>294</td>\n",
       "      <td>0</td>\n",
       "      <td>348</td>\n",
       "      <td>1</td>\n",
       "    </tr>\n",
       "    <tr>\n",
       "      <th>2</th>\n",
       "      <td>1</td>\n",
       "      <td>Sun</td>\n",
       "      <td>September 11</td>\n",
       "      <td>1:04PM</td>\n",
       "      <td>Baltimore Ravens</td>\n",
       "      <td>NaN</td>\n",
       "      <td>Buffalo Bills</td>\n",
       "      <td>boxscore</td>\n",
       "      <td>13</td>\n",
       "      <td>7</td>\n",
       "      <td>308</td>\n",
       "      <td>1</td>\n",
       "      <td>160</td>\n",
       "      <td>0</td>\n",
       "    </tr>\n",
       "    <tr>\n",
       "      <th>3</th>\n",
       "      <td>1</td>\n",
       "      <td>Sun</td>\n",
       "      <td>September 11</td>\n",
       "      <td>1:05PM</td>\n",
       "      <td>Houston Texans</td>\n",
       "      <td>NaN</td>\n",
       "      <td>Chicago Bears</td>\n",
       "      <td>boxscore</td>\n",
       "      <td>23</td>\n",
       "      <td>14</td>\n",
       "      <td>344</td>\n",
       "      <td>1</td>\n",
       "      <td>258</td>\n",
       "      <td>1</td>\n",
       "    </tr>\n",
       "    <tr>\n",
       "      <th>4</th>\n",
       "      <td>1</td>\n",
       "      <td>Sun</td>\n",
       "      <td>September 11</td>\n",
       "      <td>1:05PM</td>\n",
       "      <td>Kansas City Chiefs</td>\n",
       "      <td>NaN</td>\n",
       "      <td>San Diego Chargers</td>\n",
       "      <td>boxscore</td>\n",
       "      <td>33</td>\n",
       "      <td>27</td>\n",
       "      <td>413</td>\n",
       "      <td>1</td>\n",
       "      <td>388</td>\n",
       "      <td>0</td>\n",
       "    </tr>\n",
       "  </tbody>\n",
       "</table>\n",
       "</div>"
      ],
      "text/plain": [
       "   Week  Day          Date    Time          Winner/tie Unnamed: 5  \\\n",
       "0     1  Thu   September 8  8:40PM      Denver Broncos        NaN   \n",
       "1     1  Sun  September 11  1:04PM   Green Bay Packers          @   \n",
       "2     1  Sun  September 11  1:04PM    Baltimore Ravens        NaN   \n",
       "3     1  Sun  September 11  1:05PM      Houston Texans        NaN   \n",
       "4     1  Sun  September 11  1:05PM  Kansas City Chiefs        NaN   \n",
       "\n",
       "              Loser/tie Unnamed: 7  Pts  Pts.1  YdsW  TOW  YdsL  TOL  \n",
       "0     Carolina Panthers   boxscore   21     20   307    3   333    1  \n",
       "1  Jacksonville Jaguars   boxscore   27     23   294    0   348    1  \n",
       "2         Buffalo Bills   boxscore   13      7   308    1   160    0  \n",
       "3         Chicago Bears   boxscore   23     14   344    1   258    1  \n",
       "4    San Diego Chargers   boxscore   33     27   413    1   388    0  "
      ]
     },
     "execution_count": 13,
     "metadata": {},
     "output_type": "execute_result"
    }
   ],
   "source": [
    "#Original dataset\n",
    "NFL_data.head()"
   ]
  },
  {
   "cell_type": "code",
   "execution_count": 87,
   "metadata": {},
   "outputs": [
    {
     "data": {
      "text/html": [
       "<div>\n",
       "<style scoped>\n",
       "    .dataframe tbody tr th:only-of-type {\n",
       "        vertical-align: middle;\n",
       "    }\n",
       "\n",
       "    .dataframe tbody tr th {\n",
       "        vertical-align: top;\n",
       "    }\n",
       "\n",
       "    .dataframe thead th {\n",
       "        text-align: right;\n",
       "    }\n",
       "</style>\n",
       "<table border=\"1\" class=\"dataframe\">\n",
       "  <thead>\n",
       "    <tr style=\"text-align: right;\">\n",
       "      <th></th>\n",
       "      <th>Week</th>\n",
       "      <th>Winner/tie</th>\n",
       "      <th>Home_play</th>\n",
       "      <th>Loser/tie</th>\n",
       "      <th>Pts</th>\n",
       "      <th>Pts.1</th>\n",
       "      <th>YdsW</th>\n",
       "      <th>TOW</th>\n",
       "      <th>YdsL</th>\n",
       "      <th>TOL</th>\n",
       "    </tr>\n",
       "  </thead>\n",
       "  <tbody>\n",
       "    <tr>\n",
       "      <th>0</th>\n",
       "      <td>1</td>\n",
       "      <td>Denver Broncos</td>\n",
       "      <td>NaN</td>\n",
       "      <td>Carolina Panthers</td>\n",
       "      <td>21</td>\n",
       "      <td>20</td>\n",
       "      <td>307</td>\n",
       "      <td>3</td>\n",
       "      <td>333</td>\n",
       "      <td>1</td>\n",
       "    </tr>\n",
       "    <tr>\n",
       "      <th>1</th>\n",
       "      <td>1</td>\n",
       "      <td>Green Bay Packers</td>\n",
       "      <td>@</td>\n",
       "      <td>Jacksonville Jaguars</td>\n",
       "      <td>27</td>\n",
       "      <td>23</td>\n",
       "      <td>294</td>\n",
       "      <td>0</td>\n",
       "      <td>348</td>\n",
       "      <td>1</td>\n",
       "    </tr>\n",
       "    <tr>\n",
       "      <th>2</th>\n",
       "      <td>1</td>\n",
       "      <td>Baltimore Ravens</td>\n",
       "      <td>NaN</td>\n",
       "      <td>Buffalo Bills</td>\n",
       "      <td>13</td>\n",
       "      <td>7</td>\n",
       "      <td>308</td>\n",
       "      <td>1</td>\n",
       "      <td>160</td>\n",
       "      <td>0</td>\n",
       "    </tr>\n",
       "    <tr>\n",
       "      <th>3</th>\n",
       "      <td>1</td>\n",
       "      <td>Houston Texans</td>\n",
       "      <td>NaN</td>\n",
       "      <td>Chicago Bears</td>\n",
       "      <td>23</td>\n",
       "      <td>14</td>\n",
       "      <td>344</td>\n",
       "      <td>1</td>\n",
       "      <td>258</td>\n",
       "      <td>1</td>\n",
       "    </tr>\n",
       "    <tr>\n",
       "      <th>4</th>\n",
       "      <td>1</td>\n",
       "      <td>Kansas City Chiefs</td>\n",
       "      <td>NaN</td>\n",
       "      <td>San Diego Chargers</td>\n",
       "      <td>33</td>\n",
       "      <td>27</td>\n",
       "      <td>413</td>\n",
       "      <td>1</td>\n",
       "      <td>388</td>\n",
       "      <td>0</td>\n",
       "    </tr>\n",
       "  </tbody>\n",
       "</table>\n",
       "</div>"
      ],
      "text/plain": [
       "   Week          Winner/tie Home_play             Loser/tie  Pts  Pts.1  YdsW  \\\n",
       "0     1      Denver Broncos       NaN     Carolina Panthers   21     20   307   \n",
       "1     1   Green Bay Packers         @  Jacksonville Jaguars   27     23   294   \n",
       "2     1    Baltimore Ravens       NaN         Buffalo Bills   13      7   308   \n",
       "3     1      Houston Texans       NaN         Chicago Bears   23     14   344   \n",
       "4     1  Kansas City Chiefs       NaN    San Diego Chargers   33     27   413   \n",
       "\n",
       "   TOW  YdsL  TOL  \n",
       "0    3   333    1  \n",
       "1    0   348    1  \n",
       "2    1   160    0  \n",
       "3    1   258    1  \n",
       "4    1   388    0  "
      ]
     },
     "execution_count": 87,
     "metadata": {},
     "output_type": "execute_result"
    }
   ],
   "source": [
    "#Drop unecessary problems\n",
    "NFL_frame = NFL_data.drop(columns=['Day','Time','Date', 'Unnamed: 7'])\n",
    "\n",
    "#Rename column for home team\n",
    "NFL_frame.rename(columns={'Unnamed: 5':'Home_play'}, inplace=True)\n",
    "NFL_frame.head()"
   ]
  },
  {
   "cell_type": "code",
   "execution_count": 15,
   "metadata": {},
   "outputs": [
    {
     "name": "stderr",
     "output_type": "stream",
     "text": [
      "C:\\Users\\ericj\\Anaconda3\\lib\\site-packages\\ipykernel_launcher.py:6: FutureWarning: set_value is deprecated and will be removed in a future release. Please use .at[] or .iat[] accessors instead\n",
      "  \n",
      "C:\\Users\\ericj\\Anaconda3\\lib\\site-packages\\ipykernel_launcher.py:4: FutureWarning: set_value is deprecated and will be removed in a future release. Please use .at[] or .iat[] accessors instead\n",
      "  after removing the cwd from sys.path.\n"
     ]
    },
    {
     "data": {
      "text/html": [
       "<div>\n",
       "<style scoped>\n",
       "    .dataframe tbody tr th:only-of-type {\n",
       "        vertical-align: middle;\n",
       "    }\n",
       "\n",
       "    .dataframe tbody tr th {\n",
       "        vertical-align: top;\n",
       "    }\n",
       "\n",
       "    .dataframe thead th {\n",
       "        text-align: right;\n",
       "    }\n",
       "</style>\n",
       "<table border=\"1\" class=\"dataframe\">\n",
       "  <thead>\n",
       "    <tr style=\"text-align: right;\">\n",
       "      <th></th>\n",
       "      <th>Week</th>\n",
       "      <th>Winner/tie</th>\n",
       "      <th>Home_play</th>\n",
       "      <th>Loser/tie</th>\n",
       "      <th>Pts</th>\n",
       "      <th>Pts.1</th>\n",
       "      <th>YdsW</th>\n",
       "      <th>TOW</th>\n",
       "      <th>YdsL</th>\n",
       "      <th>TOL</th>\n",
       "    </tr>\n",
       "  </thead>\n",
       "  <tbody>\n",
       "    <tr>\n",
       "      <th>0</th>\n",
       "      <td>1</td>\n",
       "      <td>Denver Broncos</td>\n",
       "      <td>1</td>\n",
       "      <td>Carolina Panthers</td>\n",
       "      <td>21</td>\n",
       "      <td>20</td>\n",
       "      <td>307</td>\n",
       "      <td>3</td>\n",
       "      <td>333</td>\n",
       "      <td>1</td>\n",
       "    </tr>\n",
       "    <tr>\n",
       "      <th>1</th>\n",
       "      <td>1</td>\n",
       "      <td>Green Bay Packers</td>\n",
       "      <td>0</td>\n",
       "      <td>Jacksonville Jaguars</td>\n",
       "      <td>27</td>\n",
       "      <td>23</td>\n",
       "      <td>294</td>\n",
       "      <td>0</td>\n",
       "      <td>348</td>\n",
       "      <td>1</td>\n",
       "    </tr>\n",
       "    <tr>\n",
       "      <th>2</th>\n",
       "      <td>1</td>\n",
       "      <td>Baltimore Ravens</td>\n",
       "      <td>1</td>\n",
       "      <td>Buffalo Bills</td>\n",
       "      <td>13</td>\n",
       "      <td>7</td>\n",
       "      <td>308</td>\n",
       "      <td>1</td>\n",
       "      <td>160</td>\n",
       "      <td>0</td>\n",
       "    </tr>\n",
       "    <tr>\n",
       "      <th>3</th>\n",
       "      <td>1</td>\n",
       "      <td>Houston Texans</td>\n",
       "      <td>1</td>\n",
       "      <td>Chicago Bears</td>\n",
       "      <td>23</td>\n",
       "      <td>14</td>\n",
       "      <td>344</td>\n",
       "      <td>1</td>\n",
       "      <td>258</td>\n",
       "      <td>1</td>\n",
       "    </tr>\n",
       "    <tr>\n",
       "      <th>4</th>\n",
       "      <td>1</td>\n",
       "      <td>Kansas City Chiefs</td>\n",
       "      <td>1</td>\n",
       "      <td>San Diego Chargers</td>\n",
       "      <td>33</td>\n",
       "      <td>27</td>\n",
       "      <td>413</td>\n",
       "      <td>1</td>\n",
       "      <td>388</td>\n",
       "      <td>0</td>\n",
       "    </tr>\n",
       "  </tbody>\n",
       "</table>\n",
       "</div>"
      ],
      "text/plain": [
       "   Week          Winner/tie Home_play             Loser/tie  Pts  Pts.1  YdsW  \\\n",
       "0     1      Denver Broncos         1     Carolina Panthers   21     20   307   \n",
       "1     1   Green Bay Packers         0  Jacksonville Jaguars   27     23   294   \n",
       "2     1    Baltimore Ravens         1         Buffalo Bills   13      7   308   \n",
       "3     1      Houston Texans         1         Chicago Bears   23     14   344   \n",
       "4     1  Kansas City Chiefs         1    San Diego Chargers   33     27   413   \n",
       "\n",
       "   TOW  YdsL  TOL  \n",
       "0    3   333    1  \n",
       "1    0   348    1  \n",
       "2    1   160    0  \n",
       "3    1   258    1  \n",
       "4    1   388    0  "
      ]
     },
     "execution_count": 15,
     "metadata": {},
     "output_type": "execute_result"
    }
   ],
   "source": [
    "#Putting 1 if winning team played at home and 0 otherwise; changes to a binary column\n",
    "for index, row in NFL_frame.iterrows():\n",
    "    if row['Home_play'] =='@':\n",
    "        NFL_frame.set_value(index, 'Home_play', 0)\n",
    "    else:\n",
    "        NFL_frame.set_value(index, 'Home_play', 1)\n",
    "NFL_frame.head()"
   ]
  },
  {
   "cell_type": "code",
   "execution_count": 20,
   "metadata": {},
   "outputs": [],
   "source": [
    "#remove tie games from dataset, only wins and losses important \n",
    "NFL_frame = NFL_frame.loc[NFL_frame['Pts']!=NFL_frame['Pts.1']]"
   ]
  },
  {
   "cell_type": "markdown",
   "metadata": {},
   "source": [
    "# MLB"
   ]
  },
  {
   "cell_type": "code",
   "execution_count": 164,
   "metadata": {},
   "outputs": [
    {
     "data": {
      "text/html": [
       "<div>\n",
       "<style scoped>\n",
       "    .dataframe tbody tr th:only-of-type {\n",
       "        vertical-align: middle;\n",
       "    }\n",
       "\n",
       "    .dataframe tbody tr th {\n",
       "        vertical-align: top;\n",
       "    }\n",
       "\n",
       "    .dataframe thead th {\n",
       "        text-align: right;\n",
       "    }\n",
       "</style>\n",
       "<table border=\"1\" class=\"dataframe\">\n",
       "  <thead>\n",
       "    <tr style=\"text-align: right;\">\n",
       "      <th></th>\n",
       "      <th>Unnamed: 0</th>\n",
       "      <th>attendance</th>\n",
       "      <th>away_team</th>\n",
       "      <th>away_team_errors</th>\n",
       "      <th>away_team_hits</th>\n",
       "      <th>away_team_runs</th>\n",
       "      <th>date</th>\n",
       "      <th>field_type</th>\n",
       "      <th>game_type</th>\n",
       "      <th>home_team</th>\n",
       "      <th>...</th>\n",
       "      <th>temperature</th>\n",
       "      <th>wind_speed</th>\n",
       "      <th>wind_direction</th>\n",
       "      <th>sky</th>\n",
       "      <th>total_runs</th>\n",
       "      <th>game_hours_dec</th>\n",
       "      <th>season</th>\n",
       "      <th>home_team_win</th>\n",
       "      <th>home_team_loss</th>\n",
       "      <th>home_team_outcome</th>\n",
       "    </tr>\n",
       "  </thead>\n",
       "  <tbody>\n",
       "    <tr>\n",
       "      <th>0</th>\n",
       "      <td>0</td>\n",
       "      <td>40030.0</td>\n",
       "      <td>New York Mets</td>\n",
       "      <td>1</td>\n",
       "      <td>7</td>\n",
       "      <td>3</td>\n",
       "      <td>2016-04-03</td>\n",
       "      <td>on grass</td>\n",
       "      <td>Night Game</td>\n",
       "      <td>Kansas City Royals</td>\n",
       "      <td>...</td>\n",
       "      <td>74.0</td>\n",
       "      <td>14.0</td>\n",
       "      <td>from Right to Left</td>\n",
       "      <td>Sunny</td>\n",
       "      <td>7</td>\n",
       "      <td>3.216667</td>\n",
       "      <td>regular season</td>\n",
       "      <td>1</td>\n",
       "      <td>0</td>\n",
       "      <td>Win</td>\n",
       "    </tr>\n",
       "    <tr>\n",
       "      <th>1</th>\n",
       "      <td>1</td>\n",
       "      <td>21621.0</td>\n",
       "      <td>Philadelphia Phillies</td>\n",
       "      <td>0</td>\n",
       "      <td>5</td>\n",
       "      <td>2</td>\n",
       "      <td>2016-04-06</td>\n",
       "      <td>on grass</td>\n",
       "      <td>Night Game</td>\n",
       "      <td>Cincinnati Reds</td>\n",
       "      <td>...</td>\n",
       "      <td>55.0</td>\n",
       "      <td>24.0</td>\n",
       "      <td>from Right to Left</td>\n",
       "      <td>Overcast</td>\n",
       "      <td>5</td>\n",
       "      <td>2.383333</td>\n",
       "      <td>regular season</td>\n",
       "      <td>1</td>\n",
       "      <td>0</td>\n",
       "      <td>Win</td>\n",
       "    </tr>\n",
       "    <tr>\n",
       "      <th>2</th>\n",
       "      <td>2</td>\n",
       "      <td>12622.0</td>\n",
       "      <td>Minnesota Twins</td>\n",
       "      <td>0</td>\n",
       "      <td>5</td>\n",
       "      <td>2</td>\n",
       "      <td>2016-04-06</td>\n",
       "      <td>on grass</td>\n",
       "      <td>Night Game</td>\n",
       "      <td>Baltimore Orioles</td>\n",
       "      <td>...</td>\n",
       "      <td>48.0</td>\n",
       "      <td>7.0</td>\n",
       "      <td>out to Leftfield</td>\n",
       "      <td>Unknown</td>\n",
       "      <td>6</td>\n",
       "      <td>3.183333</td>\n",
       "      <td>regular season</td>\n",
       "      <td>1</td>\n",
       "      <td>0</td>\n",
       "      <td>Win</td>\n",
       "    </tr>\n",
       "    <tr>\n",
       "      <th>3</th>\n",
       "      <td>3</td>\n",
       "      <td>18531.0</td>\n",
       "      <td>Washington Nationals</td>\n",
       "      <td>0</td>\n",
       "      <td>8</td>\n",
       "      <td>3</td>\n",
       "      <td>2016-04-06</td>\n",
       "      <td>on grass</td>\n",
       "      <td>Night Game</td>\n",
       "      <td>Atlanta Braves</td>\n",
       "      <td>...</td>\n",
       "      <td>65.0</td>\n",
       "      <td>10.0</td>\n",
       "      <td>from Right to Left</td>\n",
       "      <td>Cloudy</td>\n",
       "      <td>4</td>\n",
       "      <td>2.883333</td>\n",
       "      <td>regular season</td>\n",
       "      <td>0</td>\n",
       "      <td>1</td>\n",
       "      <td>Loss</td>\n",
       "    </tr>\n",
       "    <tr>\n",
       "      <th>4</th>\n",
       "      <td>4</td>\n",
       "      <td>18572.0</td>\n",
       "      <td>Colorado Rockies</td>\n",
       "      <td>1</td>\n",
       "      <td>8</td>\n",
       "      <td>4</td>\n",
       "      <td>2016-04-06</td>\n",
       "      <td>on grass</td>\n",
       "      <td>Day Game</td>\n",
       "      <td>Arizona Diamondbacks</td>\n",
       "      <td>...</td>\n",
       "      <td>77.0</td>\n",
       "      <td>0.0</td>\n",
       "      <td>in unknown direction</td>\n",
       "      <td>In Dome</td>\n",
       "      <td>7</td>\n",
       "      <td>2.650000</td>\n",
       "      <td>regular season</td>\n",
       "      <td>0</td>\n",
       "      <td>1</td>\n",
       "      <td>Loss</td>\n",
       "    </tr>\n",
       "  </tbody>\n",
       "</table>\n",
       "<p>5 rows × 26 columns</p>\n",
       "</div>"
      ],
      "text/plain": [
       "   Unnamed: 0  attendance              away_team  away_team_errors  \\\n",
       "0           0     40030.0          New York Mets                 1   \n",
       "1           1     21621.0  Philadelphia Phillies                 0   \n",
       "2           2     12622.0        Minnesota Twins                 0   \n",
       "3           3     18531.0   Washington Nationals                 0   \n",
       "4           4     18572.0       Colorado Rockies                 1   \n",
       "\n",
       "   away_team_hits  away_team_runs        date field_type   game_type  \\\n",
       "0               7               3  2016-04-03   on grass  Night Game   \n",
       "1               5               2  2016-04-06   on grass  Night Game   \n",
       "2               5               2  2016-04-06   on grass  Night Game   \n",
       "3               8               3  2016-04-06   on grass  Night Game   \n",
       "4               8               4  2016-04-06   on grass    Day Game   \n",
       "\n",
       "              home_team  ...  temperature  wind_speed         wind_direction  \\\n",
       "0    Kansas City Royals  ...         74.0        14.0     from Right to Left   \n",
       "1       Cincinnati Reds  ...         55.0        24.0     from Right to Left   \n",
       "2     Baltimore Orioles  ...         48.0         7.0       out to Leftfield   \n",
       "3        Atlanta Braves  ...         65.0        10.0     from Right to Left   \n",
       "4  Arizona Diamondbacks  ...         77.0         0.0   in unknown direction   \n",
       "\n",
       "        sky total_runs game_hours_dec          season  home_team_win  \\\n",
       "0     Sunny          7       3.216667  regular season              1   \n",
       "1  Overcast          5       2.383333  regular season              1   \n",
       "2   Unknown          6       3.183333  regular season              1   \n",
       "3    Cloudy          4       2.883333  regular season              0   \n",
       "4   In Dome          7       2.650000  regular season              0   \n",
       "\n",
       "  home_team_loss home_team_outcome  \n",
       "0              0               Win  \n",
       "1              0               Win  \n",
       "2              0               Win  \n",
       "3              1              Loss  \n",
       "4              1              Loss  \n",
       "\n",
       "[5 rows x 26 columns]"
      ]
     },
     "execution_count": 164,
     "metadata": {},
     "output_type": "execute_result"
    }
   ],
   "source": [
    "#Original dataset\n",
    "MLB_data.head()"
   ]
  },
  {
   "cell_type": "code",
   "execution_count": 166,
   "metadata": {},
   "outputs": [
    {
     "data": {
      "text/html": [
       "<div>\n",
       "<style scoped>\n",
       "    .dataframe tbody tr th:only-of-type {\n",
       "        vertical-align: middle;\n",
       "    }\n",
       "\n",
       "    .dataframe tbody tr th {\n",
       "        vertical-align: top;\n",
       "    }\n",
       "\n",
       "    .dataframe thead th {\n",
       "        text-align: right;\n",
       "    }\n",
       "</style>\n",
       "<table border=\"1\" class=\"dataframe\">\n",
       "  <thead>\n",
       "    <tr style=\"text-align: right;\">\n",
       "      <th></th>\n",
       "      <th>away_team</th>\n",
       "      <th>away_team_errors</th>\n",
       "      <th>away_team_hits</th>\n",
       "      <th>away_team_runs</th>\n",
       "      <th>home_team</th>\n",
       "      <th>home_team_errors</th>\n",
       "      <th>home_team_hits</th>\n",
       "      <th>home_team_runs</th>\n",
       "      <th>total_runs</th>\n",
       "      <th>home_team_win</th>\n",
       "      <th>home_team_loss</th>\n",
       "      <th>home_team_outcome</th>\n",
       "    </tr>\n",
       "  </thead>\n",
       "  <tbody>\n",
       "    <tr>\n",
       "      <th>0</th>\n",
       "      <td>New York Mets</td>\n",
       "      <td>1</td>\n",
       "      <td>7</td>\n",
       "      <td>3</td>\n",
       "      <td>Kansas City Royals</td>\n",
       "      <td>0</td>\n",
       "      <td>9</td>\n",
       "      <td>4</td>\n",
       "      <td>7</td>\n",
       "      <td>1</td>\n",
       "      <td>0</td>\n",
       "      <td>Win</td>\n",
       "    </tr>\n",
       "    <tr>\n",
       "      <th>1</th>\n",
       "      <td>Philadelphia Phillies</td>\n",
       "      <td>0</td>\n",
       "      <td>5</td>\n",
       "      <td>2</td>\n",
       "      <td>Cincinnati Reds</td>\n",
       "      <td>0</td>\n",
       "      <td>8</td>\n",
       "      <td>3</td>\n",
       "      <td>5</td>\n",
       "      <td>1</td>\n",
       "      <td>0</td>\n",
       "      <td>Win</td>\n",
       "    </tr>\n",
       "    <tr>\n",
       "      <th>2</th>\n",
       "      <td>Minnesota Twins</td>\n",
       "      <td>0</td>\n",
       "      <td>5</td>\n",
       "      <td>2</td>\n",
       "      <td>Baltimore Orioles</td>\n",
       "      <td>0</td>\n",
       "      <td>9</td>\n",
       "      <td>4</td>\n",
       "      <td>6</td>\n",
       "      <td>1</td>\n",
       "      <td>0</td>\n",
       "      <td>Win</td>\n",
       "    </tr>\n",
       "    <tr>\n",
       "      <th>3</th>\n",
       "      <td>Washington Nationals</td>\n",
       "      <td>0</td>\n",
       "      <td>8</td>\n",
       "      <td>3</td>\n",
       "      <td>Atlanta Braves</td>\n",
       "      <td>1</td>\n",
       "      <td>8</td>\n",
       "      <td>1</td>\n",
       "      <td>4</td>\n",
       "      <td>0</td>\n",
       "      <td>1</td>\n",
       "      <td>Loss</td>\n",
       "    </tr>\n",
       "    <tr>\n",
       "      <th>4</th>\n",
       "      <td>Colorado Rockies</td>\n",
       "      <td>1</td>\n",
       "      <td>8</td>\n",
       "      <td>4</td>\n",
       "      <td>Arizona Diamondbacks</td>\n",
       "      <td>0</td>\n",
       "      <td>8</td>\n",
       "      <td>3</td>\n",
       "      <td>7</td>\n",
       "      <td>0</td>\n",
       "      <td>1</td>\n",
       "      <td>Loss</td>\n",
       "    </tr>\n",
       "  </tbody>\n",
       "</table>\n",
       "</div>"
      ],
      "text/plain": [
       "               away_team  away_team_errors  away_team_hits  away_team_runs  \\\n",
       "0          New York Mets                 1               7               3   \n",
       "1  Philadelphia Phillies                 0               5               2   \n",
       "2        Minnesota Twins                 0               5               2   \n",
       "3   Washington Nationals                 0               8               3   \n",
       "4       Colorado Rockies                 1               8               4   \n",
       "\n",
       "              home_team  home_team_errors  home_team_hits  home_team_runs  \\\n",
       "0    Kansas City Royals                 0               9               4   \n",
       "1       Cincinnati Reds                 0               8               3   \n",
       "2     Baltimore Orioles                 0               9               4   \n",
       "3        Atlanta Braves                 1               8               1   \n",
       "4  Arizona Diamondbacks                 0               8               3   \n",
       "\n",
       "   total_runs  home_team_win  home_team_loss home_team_outcome  \n",
       "0           7              1               0               Win  \n",
       "1           5              1               0               Win  \n",
       "2           6              1               0               Win  \n",
       "3           4              0               1              Loss  \n",
       "4           7              0               1              Loss  "
      ]
     },
     "execution_count": 166,
     "metadata": {},
     "output_type": "execute_result"
    }
   ],
   "source": [
    "data = MLB_data\n",
    "\n",
    "#Drop postseason games\n",
    "data = data[data['season'] != \"post season\"]\n",
    "\n",
    "#Drop columns that don't have effect\n",
    "data = data.drop(\"temperature\", axis=1)\n",
    "data = data.drop(\"wind_speed\", axis=1)\n",
    "data = data.drop(\"sky\", axis=1)\n",
    "data = data.drop(\"game_hours_dec\", axis=1)\n",
    "data = data.drop(\"wind_direction\", axis=1)\n",
    "data = data.drop(\"season\", axis=1)\n",
    "data = data.drop(\"game_type\", axis=1)\n",
    "data = data.drop(\"date\", axis=1)\n",
    "data = data.drop(\"day_of_week\", axis=1)\n",
    "data = data.drop(\"start_time\", axis=1)\n",
    "data = data.drop(\"venue\", axis=1)\n",
    "data = data.drop(\"field_type\", axis=1)\n",
    "\n",
    "#Drop teams because not looking individually\n",
    "data = data.drop(\"attendance\", axis=1)\n",
    "\n",
    "data = data.drop(data.columns[0], axis=1)\n",
    "data.head()"
   ]
  },
  {
   "cell_type": "markdown",
   "metadata": {},
   "source": [
    "# Data Analysis & Results"
   ]
  },
  {
   "cell_type": "markdown",
   "metadata": {},
   "source": [
    "Include cells that describe the steps in your data analysis."
   ]
  },
  {
   "cell_type": "markdown",
   "metadata": {},
   "source": [
    "# NBA"
   ]
  },
  {
   "cell_type": "code",
   "execution_count": 15,
   "metadata": {},
   "outputs": [
    {
     "data": {
      "text/html": [
       "<div>\n",
       "<style scoped>\n",
       "    .dataframe tbody tr th:only-of-type {\n",
       "        vertical-align: middle;\n",
       "    }\n",
       "\n",
       "    .dataframe tbody tr th {\n",
       "        vertical-align: top;\n",
       "    }\n",
       "\n",
       "    .dataframe thead th {\n",
       "        text-align: right;\n",
       "    }\n",
       "</style>\n",
       "<table border=\"1\" class=\"dataframe\">\n",
       "  <thead>\n",
       "    <tr style=\"text-align: right;\">\n",
       "      <th></th>\n",
       "      <th></th>\n",
       "      <th>Game</th>\n",
       "      <th>WINorLOSS</th>\n",
       "      <th>TeamPoints</th>\n",
       "      <th>OpponentPoints</th>\n",
       "      <th>FieldGoals</th>\n",
       "      <th>FieldGoalsAttempted</th>\n",
       "      <th>FieldGoals.</th>\n",
       "      <th>X3PointShots</th>\n",
       "      <th>X3PointShotsAttempted</th>\n",
       "      <th>X3PointShots.</th>\n",
       "      <th>...</th>\n",
       "      <th>Opp.FreeThrows</th>\n",
       "      <th>Opp.FreeThrowsAttempted</th>\n",
       "      <th>Opp.FreeThrows.</th>\n",
       "      <th>Opp.OffRebounds</th>\n",
       "      <th>Opp.TotalRebounds</th>\n",
       "      <th>Opp.Assists</th>\n",
       "      <th>Opp.Steals</th>\n",
       "      <th>Opp.Blocks</th>\n",
       "      <th>Opp.Turnovers</th>\n",
       "      <th>Opp.TotalFouls</th>\n",
       "    </tr>\n",
       "    <tr>\n",
       "      <th>Team</th>\n",
       "      <th>Home</th>\n",
       "      <th></th>\n",
       "      <th></th>\n",
       "      <th></th>\n",
       "      <th></th>\n",
       "      <th></th>\n",
       "      <th></th>\n",
       "      <th></th>\n",
       "      <th></th>\n",
       "      <th></th>\n",
       "      <th></th>\n",
       "      <th></th>\n",
       "      <th></th>\n",
       "      <th></th>\n",
       "      <th></th>\n",
       "      <th></th>\n",
       "      <th></th>\n",
       "      <th></th>\n",
       "      <th></th>\n",
       "      <th></th>\n",
       "      <th></th>\n",
       "      <th></th>\n",
       "    </tr>\n",
       "  </thead>\n",
       "  <tbody>\n",
       "    <tr>\n",
       "      <th rowspan=\"2\" valign=\"top\">ATL</th>\n",
       "      <th>Away</th>\n",
       "      <td>1685</td>\n",
       "      <td>20</td>\n",
       "      <td>4116</td>\n",
       "      <td>4190</td>\n",
       "      <td>1523</td>\n",
       "      <td>3416</td>\n",
       "      <td>18.282</td>\n",
       "      <td>366</td>\n",
       "      <td>1077</td>\n",
       "      <td>13.934</td>\n",
       "      <td>...</td>\n",
       "      <td>637</td>\n",
       "      <td>831</td>\n",
       "      <td>31.849</td>\n",
       "      <td>424</td>\n",
       "      <td>1810</td>\n",
       "      <td>894</td>\n",
       "      <td>366</td>\n",
       "      <td>196</td>\n",
       "      <td>578</td>\n",
       "      <td>845</td>\n",
       "    </tr>\n",
       "    <tr>\n",
       "      <th>Home</th>\n",
       "      <td>1718</td>\n",
       "      <td>23</td>\n",
       "      <td>4343</td>\n",
       "      <td>4339</td>\n",
       "      <td>1600</td>\n",
       "      <td>3502</td>\n",
       "      <td>18.790</td>\n",
       "      <td>363</td>\n",
       "      <td>1060</td>\n",
       "      <td>14.056</td>\n",
       "      <td>...</td>\n",
       "      <td>643</td>\n",
       "      <td>827</td>\n",
       "      <td>31.965</td>\n",
       "      <td>452</td>\n",
       "      <td>1788</td>\n",
       "      <td>1025</td>\n",
       "      <td>372</td>\n",
       "      <td>228</td>\n",
       "      <td>629</td>\n",
       "      <td>923</td>\n",
       "    </tr>\n",
       "    <tr>\n",
       "      <th rowspan=\"2\" valign=\"top\">BOS</th>\n",
       "      <th>Away</th>\n",
       "      <td>1607</td>\n",
       "      <td>23</td>\n",
       "      <td>4367</td>\n",
       "      <td>4318</td>\n",
       "      <td>1566</td>\n",
       "      <td>3462</td>\n",
       "      <td>18.589</td>\n",
       "      <td>467</td>\n",
       "      <td>1366</td>\n",
       "      <td>13.975</td>\n",
       "      <td>...</td>\n",
       "      <td>831</td>\n",
       "      <td>1089</td>\n",
       "      <td>31.459</td>\n",
       "      <td>418</td>\n",
       "      <td>1822</td>\n",
       "      <td>892</td>\n",
       "      <td>300</td>\n",
       "      <td>201</td>\n",
       "      <td>556</td>\n",
       "      <td>830</td>\n",
       "    </tr>\n",
       "    <tr>\n",
       "      <th>Home</th>\n",
       "      <td>1796</td>\n",
       "      <td>30</td>\n",
       "      <td>4490</td>\n",
       "      <td>4323</td>\n",
       "      <td>1602</td>\n",
       "      <td>3516</td>\n",
       "      <td>18.718</td>\n",
       "      <td>518</td>\n",
       "      <td>1376</td>\n",
       "      <td>15.433</td>\n",
       "      <td>...</td>\n",
       "      <td>739</td>\n",
       "      <td>953</td>\n",
       "      <td>31.671</td>\n",
       "      <td>465</td>\n",
       "      <td>1830</td>\n",
       "      <td>959</td>\n",
       "      <td>323</td>\n",
       "      <td>224</td>\n",
       "      <td>546</td>\n",
       "      <td>834</td>\n",
       "    </tr>\n",
       "    <tr>\n",
       "      <th>BRK</th>\n",
       "      <th>Away</th>\n",
       "      <td>1745</td>\n",
       "      <td>7</td>\n",
       "      <td>4393</td>\n",
       "      <td>4718</td>\n",
       "      <td>1568</td>\n",
       "      <td>3469</td>\n",
       "      <td>18.595</td>\n",
       "      <td>442</td>\n",
       "      <td>1282</td>\n",
       "      <td>14.007</td>\n",
       "      <td>...</td>\n",
       "      <td>818</td>\n",
       "      <td>1041</td>\n",
       "      <td>32.379</td>\n",
       "      <td>441</td>\n",
       "      <td>1923</td>\n",
       "      <td>1010</td>\n",
       "      <td>375</td>\n",
       "      <td>237</td>\n",
       "      <td>521</td>\n",
       "      <td>822</td>\n",
       "    </tr>\n",
       "  </tbody>\n",
       "</table>\n",
       "<p>5 rows × 36 columns</p>\n",
       "</div>"
      ],
      "text/plain": [
       "           Game  WINorLOSS  TeamPoints  OpponentPoints  FieldGoals  \\\n",
       "Team Home                                                            \n",
       "ATL  Away  1685         20        4116            4190        1523   \n",
       "     Home  1718         23        4343            4339        1600   \n",
       "BOS  Away  1607         23        4367            4318        1566   \n",
       "     Home  1796         30        4490            4323        1602   \n",
       "BRK  Away  1745          7        4393            4718        1568   \n",
       "\n",
       "           FieldGoalsAttempted  FieldGoals.  X3PointShots  \\\n",
       "Team Home                                                   \n",
       "ATL  Away                 3416       18.282           366   \n",
       "     Home                 3502       18.790           363   \n",
       "BOS  Away                 3462       18.589           467   \n",
       "     Home                 3516       18.718           518   \n",
       "BRK  Away                 3469       18.595           442   \n",
       "\n",
       "           X3PointShotsAttempted  X3PointShots.  ...  Opp.FreeThrows  \\\n",
       "Team Home                                        ...                   \n",
       "ATL  Away                   1077         13.934  ...             637   \n",
       "     Home                   1060         14.056  ...             643   \n",
       "BOS  Away                   1366         13.975  ...             831   \n",
       "     Home                   1376         15.433  ...             739   \n",
       "BRK  Away                   1282         14.007  ...             818   \n",
       "\n",
       "           Opp.FreeThrowsAttempted  Opp.FreeThrows.  Opp.OffRebounds  \\\n",
       "Team Home                                                              \n",
       "ATL  Away                      831           31.849              424   \n",
       "     Home                      827           31.965              452   \n",
       "BOS  Away                     1089           31.459              418   \n",
       "     Home                      953           31.671              465   \n",
       "BRK  Away                     1041           32.379              441   \n",
       "\n",
       "           Opp.TotalRebounds  Opp.Assists  Opp.Steals  Opp.Blocks  \\\n",
       "Team Home                                                           \n",
       "ATL  Away               1810          894         366         196   \n",
       "     Home               1788         1025         372         228   \n",
       "BOS  Away               1822          892         300         201   \n",
       "     Home               1830          959         323         224   \n",
       "BRK  Away               1923         1010         375         237   \n",
       "\n",
       "           Opp.Turnovers  Opp.TotalFouls  \n",
       "Team Home                                 \n",
       "ATL  Away            578             845  \n",
       "     Home            629             923  \n",
       "BOS  Away            556             830  \n",
       "     Home            546             834  \n",
       "BRK  Away            521             822  \n",
       "\n",
       "[5 rows x 36 columns]"
      ]
     },
     "execution_count": 15,
     "metadata": {},
     "output_type": "execute_result"
    }
   ],
   "source": [
    "#Group data by teams, and for each team, group by home and away\n",
    "teams_ha = one_season.groupby(['Team', 'Home']).sum()\n",
    "teams_ha.head()"
   ]
  },
  {
   "cell_type": "code",
   "execution_count": 72,
   "metadata": {},
   "outputs": [
    {
     "data": {
      "text/plain": [
       "<matplotlib.legend.Legend at 0x1dd709081d0>"
      ]
     },
     "execution_count": 72,
     "metadata": {},
     "output_type": "execute_result"
    },
    {
     "data": {
      "image/png": "[encoded data removed]",
      "text/plain": [
       "<Figure size 1224x576 with 1 Axes>"
      ]
     },
     "metadata": {
      "needs_background": "light"
     },
     "output_type": "display_data"
    }
   ],
   "source": [
    "#Calculate win percentages for each team at home vs away\n",
    "win_percentages = teams_ha['WINorLOSS']/41\n",
    "\n",
    "#Plot bar chart comparing the percentages\n",
    "win_percent_team = win_percentages.unstack().plot.bar(figsize=(17,8))\n",
    "win_percent_team.set_ylabel(\"Win %\")\n",
    "win_percent_team.legend(prop={'size':15})"
   ]
  },
  {
   "cell_type": "code",
   "execution_count": 34,
   "metadata": {},
   "outputs": [
    {
     "data": {
      "text/plain": [
       "30"
      ]
     },
     "execution_count": 34,
     "metadata": {},
     "output_type": "execute_result"
    }
   ],
   "source": [
    "'''Calculate the number of teams that have a higher win percentage at home than away. Every team won more games\n",
    "at home than on the road.'''\n",
    "len(win_percentages.unstack().loc[win_percentages.unstack()['Home'] > win_percentages.unstack()['Away']])"
   ]
  },
  {
   "cell_type": "code",
   "execution_count": 19,
   "metadata": {},
   "outputs": [
    {
     "data": {
      "text/html": [
       "<div>\n",
       "<style scoped>\n",
       "    .dataframe tbody tr th:only-of-type {\n",
       "        vertical-align: middle;\n",
       "    }\n",
       "\n",
       "    .dataframe tbody tr th {\n",
       "        vertical-align: top;\n",
       "    }\n",
       "\n",
       "    .dataframe thead th {\n",
       "        text-align: right;\n",
       "    }\n",
       "</style>\n",
       "<table border=\"1\" class=\"dataframe\">\n",
       "  <thead>\n",
       "    <tr style=\"text-align: right;\">\n",
       "      <th></th>\n",
       "      <th>Team</th>\n",
       "      <th>WINorLOSS</th>\n",
       "      <th>Game</th>\n",
       "      <th>Home</th>\n",
       "      <th>TeamPoints</th>\n",
       "      <th>OpponentPoints</th>\n",
       "      <th>ScoreDiff</th>\n",
       "    </tr>\n",
       "  </thead>\n",
       "  <tbody>\n",
       "    <tr>\n",
       "      <th>4920</th>\n",
       "      <td>ATL</td>\n",
       "      <td>1</td>\n",
       "      <td>1</td>\n",
       "      <td>Home</td>\n",
       "      <td>114</td>\n",
       "      <td>99</td>\n",
       "      <td>15</td>\n",
       "    </tr>\n",
       "    <tr>\n",
       "      <th>4921</th>\n",
       "      <td>ATL</td>\n",
       "      <td>1</td>\n",
       "      <td>2</td>\n",
       "      <td>Away</td>\n",
       "      <td>104</td>\n",
       "      <td>72</td>\n",
       "      <td>32</td>\n",
       "    </tr>\n",
       "    <tr>\n",
       "      <th>4922</th>\n",
       "      <td>ATL</td>\n",
       "      <td>1</td>\n",
       "      <td>3</td>\n",
       "      <td>Home</td>\n",
       "      <td>106</td>\n",
       "      <td>95</td>\n",
       "      <td>11</td>\n",
       "    </tr>\n",
       "    <tr>\n",
       "      <th>4925</th>\n",
       "      <td>ATL</td>\n",
       "      <td>1</td>\n",
       "      <td>6</td>\n",
       "      <td>Home</td>\n",
       "      <td>112</td>\n",
       "      <td>97</td>\n",
       "      <td>15</td>\n",
       "    </tr>\n",
       "    <tr>\n",
       "      <th>4926</th>\n",
       "      <td>ATL</td>\n",
       "      <td>1</td>\n",
       "      <td>7</td>\n",
       "      <td>Away</td>\n",
       "      <td>110</td>\n",
       "      <td>106</td>\n",
       "      <td>4</td>\n",
       "    </tr>\n",
       "  </tbody>\n",
       "</table>\n",
       "</div>"
      ],
      "text/plain": [
       "     Team  WINorLOSS  Game  Home  TeamPoints  OpponentPoints  ScoreDiff\n",
       "4920  ATL          1     1  Home         114              99         15\n",
       "4921  ATL          1     2  Away         104              72         32\n",
       "4922  ATL          1     3  Home         106              95         11\n",
       "4925  ATL          1     6  Home         112              97         15\n",
       "4926  ATL          1     7  Away         110             106          4"
      ]
     },
     "execution_count": 19,
     "metadata": {},
     "output_type": "execute_result"
    }
   ],
   "source": [
    "#Grab columns necessary for score differential calculation\n",
    "team_scores = one_season[['Team','WINorLOSS', 'Game', 'Home','TeamPoints', 'OpponentPoints']]\n",
    "\n",
    "#Get wins ONLY\n",
    "team_scores = team_scores[team_scores['WINorLOSS'] == 1]\n",
    "\n",
    "#Get score differential in wins\n",
    "team_scores['ScoreDiff'] = team_scores['TeamPoints'].sub(team_scores['OpponentPoints'], axis=0)\n",
    "team_scores.head()"
   ]
  },
  {
   "cell_type": "code",
   "execution_count": 21,
   "metadata": {},
   "outputs": [
    {
     "data": {
      "text/plain": [
       "Team  Home\n",
       "ATL   Away     9.500000\n",
       "      Home    10.130435\n",
       "BOS   Away     8.869565\n",
       "      Home     9.366667\n",
       "BRK   Away    16.857143\n",
       "Name: ScoreDiff, dtype: float64"
      ]
     },
     "execution_count": 21,
     "metadata": {},
     "output_type": "execute_result"
    }
   ],
   "source": [
    "#Group by team, and for each team, group by home and away. Grab the score differential column.\n",
    "ha_win_score_diff = team_scores.groupby(['Team','Home']).mean()['ScoreDiff']\n",
    "ha_win_score_diff.head()"
   ]
  },
  {
   "cell_type": "code",
   "execution_count": 68,
   "metadata": {},
   "outputs": [
    {
     "data": {
      "text/plain": [
       "<matplotlib.legend.Legend at 0x1dd7056e048>"
      ]
     },
     "execution_count": 68,
     "metadata": {},
     "output_type": "execute_result"
    },
    {
     "data": {
      "image/png": "[encoded data removed]",
      "text/plain": [
       "<Figure size 1224x576 with 1 Axes>"
      ]
     },
     "metadata": {
      "needs_background": "light"
     },
     "output_type": "display_data"
    }
   ],
   "source": [
    "#Plot bar chart to compare score differential in home wins vs away wins\n",
    "score_diff = ha_win_score_diff.unstack().plot.bar(figsize=(17,8))\n",
    "score_diff.set_ylabel(\"Avg Score Differential in Wins\")\n",
    "score_diff.legend(prop={'size':15})"
   ]
  },
  {
   "cell_type": "code",
   "execution_count": 25,
   "metadata": {},
   "outputs": [
    {
     "data": {
      "text/plain": [
       "25"
      ]
     },
     "execution_count": 25,
     "metadata": {},
     "output_type": "execute_result"
    }
   ],
   "source": [
    "'''Calculate the number of teams with a higher score differential in home wins than away wins. \n",
    "25 teams won more comfortably at home than on the road. The other 5 teams did not perform to our \n",
    "expectations, so they were not considered in the analysis'''\n",
    "\n",
    "df_ha = ha_win_score_diff.unstack()\n",
    "len(df_ha.loc[df_ha['Home'] > df_ha['Away']])"
   ]
  },
  {
   "cell_type": "code",
   "execution_count": 26,
   "metadata": {},
   "outputs": [
    {
     "data": {
      "text/plain": [
       "3.25724297549729"
      ]
     },
     "execution_count": 26,
     "metadata": {},
     "output_type": "execute_result"
    }
   ],
   "source": [
    "#Calculate the average difference in score differential for home vs away\n",
    "home_greater = df_ha.loc[df_ha['Home'] > df_ha['Away']]\n",
    "home_greater['Home'].mean() - home_greater['Away'].mean()"
   ]
  },
  {
   "cell_type": "code",
   "execution_count": 35,
   "metadata": {},
   "outputs": [
    {
     "data": {
      "text/plain": [
       "Ttest_indResult(statistic=4.860888174640401, pvalue=1.7247253869154674e-05)"
      ]
     },
     "execution_count": 35,
     "metadata": {},
     "output_type": "execute_result"
    }
   ],
   "source": [
    "'''Run t-test to see if there is a significant difference. The null hypothesis\n",
    "states that there is no significant difference between the mean win score differential \n",
    "at home and the mean win score differential on the road. Our significance level is 0.05. \n",
    "Because our p-value is less than the significance level, we can reject the null hypothesis\n",
    "and say that there is a significant difference. These 25 teams are winning more comfortably\n",
    "at home than away.'''\n",
    "\n",
    "stats.ttest_ind(home_greater['Home'], home_greater['Away'], equal_var = False)"
   ]
  },
  {
   "cell_type": "code",
   "execution_count": 70,
   "metadata": {},
   "outputs": [
    {
     "data": {
      "text/plain": [
       "<matplotlib.legend.Legend at 0x1dd7067c198>"
      ]
     },
     "execution_count": 70,
     "metadata": {},
     "output_type": "execute_result"
    },
    {
     "data": {
      "image/png": "[encoded data removed]",
      "text/plain": [
       "<Figure size 1224x576 with 1 Axes>"
      ]
     },
     "metadata": {
      "needs_background": "light"
     },
     "output_type": "display_data"
    }
   ],
   "source": [
    "#find average TO per game split by home and away games for every team\n",
    "to_ha = (teams_ha['Turnovers']/41).unstack()\n",
    "\n",
    "#average TO per game, not split by home and away, for every team\n",
    "avg_to = one_season.groupby('Team').sum()['Turnovers']/82\n",
    "\n",
    "#calculates difference in average TO at home/away vs average TO overall\n",
    "to_ha['Away TO Diff'] = to_ha['Away'].sub(avg_to, axis=0)\n",
    "to_ha['Home TO Diff'] = to_ha['Home'].sub(avg_to, axis=0)\n",
    "\n",
    "#drop unecessary columns\n",
    "to_ha = to_ha.drop(columns=['Home', 'Away'])\n",
    "\n",
    "#rename columns\n",
    "to_ha = to_ha.rename(columns={'Home TO Diff': 'Home', 'Away TO Diff': 'Away'})\n",
    "\n",
    "#plot bar chart to compare TO differential between home and away\n",
    "to_plot = to_ha.plot.bar(figsize=(17,8))\n",
    "to_plot.set_ylabel('Avg TO Differential')\n",
    "to_plot.legend(prop={'size':15})"
   ]
  },
  {
   "cell_type": "code",
   "execution_count": 39,
   "metadata": {},
   "outputs": [
    {
     "data": {
      "text/plain": [
       "-0.45853658536585384"
      ]
     },
     "execution_count": 39,
     "metadata": {},
     "output_type": "execute_result"
    }
   ],
   "source": [
    "'''15 teams averaged less TO's at home compared to their overall average TO on the season, for an overall \n",
    "difference of 0.46 less TO's'''\n",
    "to_ha.loc[to_ha['Home TO Diff'] < 0].mean()['Home TO Diff']"
   ]
  },
  {
   "cell_type": "code",
   "execution_count": 40,
   "metadata": {},
   "outputs": [
    {
     "data": {
      "text/plain": [
       "-0.28048780487804864"
      ]
     },
     "execution_count": 40,
     "metadata": {},
     "output_type": "execute_result"
    }
   ],
   "source": [
    "'''15 teams averaged less TO's on the road compared to their overall average on the season, for an overall \n",
    "difference of 0.28 less TO's'''\n",
    "to_ha.loc[to_ha['Away TO Diff'] < 0].mean()['Away TO Diff']"
   ]
  },
  {
   "cell_type": "code",
   "execution_count": 41,
   "metadata": {},
   "outputs": [
    {
     "data": {
      "text/plain": [
       "Ttest_indResult(statistic=1.7780215101087347, pvalue=0.08787410116740832)"
      ]
     },
     "execution_count": 41,
     "metadata": {},
     "output_type": "execute_result"
    }
   ],
   "source": [
    "'''There are 15 teams that average less TO's at home than they do on the season, and 15 that average less \n",
    "TO's away than they do on the season. The null hypothesis states that there is no significant difference\n",
    "between the home TO differential and the away TO differential. When running the t-test for a significant \n",
    "difference between the TO differences, I got a p-value of 0.087, which is greater than 0.05. Therefore, \n",
    "we cannot reject the null hypothesis. We cannot say that turnovers are less frequent at home due to \n",
    "home court advantage.'''\n",
    "stats.ttest_ind(to_ha.loc[to_ha['Away TO Diff'] < 0]['Away TO Diff'], \n",
    "                to_ha.loc[to_ha['Home TO Diff'] < 0]['Home TO Diff'], equal_var = False)"
   ]
  },
  {
   "cell_type": "markdown",
   "metadata": {},
   "source": [
    "# NFL"
   ]
  },
  {
   "cell_type": "code",
   "execution_count": 23,
   "metadata": {},
   "outputs": [
    {
     "data": {
      "text/html": [
       "<div>\n",
       "<style scoped>\n",
       "    .dataframe tbody tr th:only-of-type {\n",
       "        vertical-align: middle;\n",
       "    }\n",
       "\n",
       "    .dataframe tbody tr th {\n",
       "        vertical-align: top;\n",
       "    }\n",
       "\n",
       "    .dataframe thead th {\n",
       "        text-align: right;\n",
       "    }\n",
       "</style>\n",
       "<table border=\"1\" class=\"dataframe\">\n",
       "  <thead>\n",
       "    <tr style=\"text-align: right;\">\n",
       "      <th></th>\n",
       "      <th>Week</th>\n",
       "      <th>Winner/tie</th>\n",
       "      <th>Home_play</th>\n",
       "      <th>Loser/tie</th>\n",
       "      <th>Pts</th>\n",
       "      <th>Pts.1</th>\n",
       "      <th>YdsW</th>\n",
       "      <th>TOW</th>\n",
       "      <th>YdsL</th>\n",
       "      <th>TOL</th>\n",
       "      <th>score_diff</th>\n",
       "    </tr>\n",
       "  </thead>\n",
       "  <tbody>\n",
       "    <tr>\n",
       "      <th>0</th>\n",
       "      <td>1</td>\n",
       "      <td>Denver Broncos</td>\n",
       "      <td>1</td>\n",
       "      <td>Carolina Panthers</td>\n",
       "      <td>21</td>\n",
       "      <td>20</td>\n",
       "      <td>307</td>\n",
       "      <td>3</td>\n",
       "      <td>333</td>\n",
       "      <td>1</td>\n",
       "      <td>1</td>\n",
       "    </tr>\n",
       "    <tr>\n",
       "      <th>1</th>\n",
       "      <td>1</td>\n",
       "      <td>Green Bay Packers</td>\n",
       "      <td>0</td>\n",
       "      <td>Jacksonville Jaguars</td>\n",
       "      <td>27</td>\n",
       "      <td>23</td>\n",
       "      <td>294</td>\n",
       "      <td>0</td>\n",
       "      <td>348</td>\n",
       "      <td>1</td>\n",
       "      <td>4</td>\n",
       "    </tr>\n",
       "    <tr>\n",
       "      <th>2</th>\n",
       "      <td>1</td>\n",
       "      <td>Baltimore Ravens</td>\n",
       "      <td>1</td>\n",
       "      <td>Buffalo Bills</td>\n",
       "      <td>13</td>\n",
       "      <td>7</td>\n",
       "      <td>308</td>\n",
       "      <td>1</td>\n",
       "      <td>160</td>\n",
       "      <td>0</td>\n",
       "      <td>6</td>\n",
       "    </tr>\n",
       "    <tr>\n",
       "      <th>3</th>\n",
       "      <td>1</td>\n",
       "      <td>Houston Texans</td>\n",
       "      <td>1</td>\n",
       "      <td>Chicago Bears</td>\n",
       "      <td>23</td>\n",
       "      <td>14</td>\n",
       "      <td>344</td>\n",
       "      <td>1</td>\n",
       "      <td>258</td>\n",
       "      <td>1</td>\n",
       "      <td>9</td>\n",
       "    </tr>\n",
       "    <tr>\n",
       "      <th>4</th>\n",
       "      <td>1</td>\n",
       "      <td>Kansas City Chiefs</td>\n",
       "      <td>1</td>\n",
       "      <td>San Diego Chargers</td>\n",
       "      <td>33</td>\n",
       "      <td>27</td>\n",
       "      <td>413</td>\n",
       "      <td>1</td>\n",
       "      <td>388</td>\n",
       "      <td>0</td>\n",
       "      <td>6</td>\n",
       "    </tr>\n",
       "  </tbody>\n",
       "</table>\n",
       "</div>"
      ],
      "text/plain": [
       "   Week          Winner/tie Home_play             Loser/tie  Pts  Pts.1  YdsW  \\\n",
       "0     1      Denver Broncos         1     Carolina Panthers   21     20   307   \n",
       "1     1   Green Bay Packers         0  Jacksonville Jaguars   27     23   294   \n",
       "2     1    Baltimore Ravens         1         Buffalo Bills   13      7   308   \n",
       "3     1      Houston Texans         1         Chicago Bears   23     14   344   \n",
       "4     1  Kansas City Chiefs         1    San Diego Chargers   33     27   413   \n",
       "\n",
       "   TOW  YdsL  TOL  score_diff  \n",
       "0    3   333    1           1  \n",
       "1    0   348    1           4  \n",
       "2    1   160    0           6  \n",
       "3    1   258    1           9  \n",
       "4    1   388    0           6  "
      ]
     },
     "execution_count": 23,
     "metadata": {},
     "output_type": "execute_result"
    }
   ],
   "source": [
    "#Create column for the score differential for every game\n",
    "NFL_frame['score_diff'] = NFL_frame['Pts'] - NFL_frame['Pts.1']\n",
    "NFL_frame.head()"
   ]
  },
  {
   "cell_type": "code",
   "execution_count": 26,
   "metadata": {},
   "outputs": [
    {
     "data": {
      "text/plain": [
       "Arizona Cardinals    15.0\n",
       "Atlanta Falcons      16.0\n",
       "Baltimore Ravens     16.0\n",
       "Buffalo Bills        16.0\n",
       "Carolina Panthers    16.0\n",
       "Name: Home_play, dtype: float64"
      ]
     },
     "execution_count": 26,
     "metadata": {},
     "output_type": "execute_result"
    }
   ],
   "source": [
    "#Separate the home and away games in the NFL \n",
    "df_home = NFL_frame.loc[NFL_frame['Home_play']==1]\n",
    "df_away = NFL_frame.loc[NFL_frame['Home_play']==0]\n",
    "\n",
    "#group by the teams, so every team has cumulative stats for their home wins vs away wins\n",
    "df_win_home = df_home.groupby('Winner/tie')['Home_play'].count()\n",
    "df_win_away = df_away.groupby('Winner/tie')['Home_play'].count()\n",
    "\n",
    "#group by the teams, so every team has cumulative stats for their home losses vs away losses\n",
    "df_loss_home = df_away.groupby('Loser/tie')['Home_play'].count()\n",
    "df_loss_away = df_home.groupby('Loser/tie')['Home_play'].count()\n",
    "\n",
    "#group by team to get average score difference over all games for each team \n",
    "home_score_diff = df_home.groupby('Winner/tie').mean()['score_diff']\n",
    "away_score_diff = df_away.groupby('Winner/tie').mean()['score_diff']\n",
    "\n",
    "#find total number of wins/losses for each team\n",
    "df_total = df_loss_home + df_loss_away + df_win_home + df_win_away\n",
    "df_total.head()"
   ]
  },
  {
   "cell_type": "code",
   "execution_count": 28,
   "metadata": {},
   "outputs": [
    {
     "data": {
      "text/html": [
       "<div>\n",
       "<style scoped>\n",
       "    .dataframe tbody tr th:only-of-type {\n",
       "        vertical-align: middle;\n",
       "    }\n",
       "\n",
       "    .dataframe tbody tr th {\n",
       "        vertical-align: top;\n",
       "    }\n",
       "\n",
       "    .dataframe thead th {\n",
       "        text-align: right;\n",
       "    }\n",
       "</style>\n",
       "<table border=\"1\" class=\"dataframe\">\n",
       "  <thead>\n",
       "    <tr style=\"text-align: right;\">\n",
       "      <th></th>\n",
       "      <th>home_win</th>\n",
       "      <th>home_win_diff</th>\n",
       "      <th>away_win</th>\n",
       "      <th>away_win_diff</th>\n",
       "      <th>home_loss</th>\n",
       "      <th>away_loss</th>\n",
       "      <th>nb_games</th>\n",
       "    </tr>\n",
       "  </thead>\n",
       "  <tbody>\n",
       "    <tr>\n",
       "      <th>Arizona Cardinals</th>\n",
       "      <td>4</td>\n",
       "      <td>17.25</td>\n",
       "      <td>3.0</td>\n",
       "      <td>17.666667</td>\n",
       "      <td>3</td>\n",
       "      <td>5.0</td>\n",
       "      <td>15.0</td>\n",
       "    </tr>\n",
       "    <tr>\n",
       "      <th>Atlanta Falcons</th>\n",
       "      <td>5</td>\n",
       "      <td>13.80</td>\n",
       "      <td>6.0</td>\n",
       "      <td>14.500000</td>\n",
       "      <td>3</td>\n",
       "      <td>2.0</td>\n",
       "      <td>16.0</td>\n",
       "    </tr>\n",
       "    <tr>\n",
       "      <th>Baltimore Ravens</th>\n",
       "      <td>6</td>\n",
       "      <td>12.00</td>\n",
       "      <td>2.0</td>\n",
       "      <td>3.500000</td>\n",
       "      <td>2</td>\n",
       "      <td>6.0</td>\n",
       "      <td>16.0</td>\n",
       "    </tr>\n",
       "    <tr>\n",
       "      <th>Buffalo Bills</th>\n",
       "      <td>4</td>\n",
       "      <td>17.75</td>\n",
       "      <td>3.0</td>\n",
       "      <td>10.333333</td>\n",
       "      <td>4</td>\n",
       "      <td>5.0</td>\n",
       "      <td>16.0</td>\n",
       "    </tr>\n",
       "    <tr>\n",
       "      <th>Carolina Panthers</th>\n",
       "      <td>4</td>\n",
       "      <td>11.00</td>\n",
       "      <td>2.0</td>\n",
       "      <td>7.000000</td>\n",
       "      <td>4</td>\n",
       "      <td>6.0</td>\n",
       "      <td>16.0</td>\n",
       "    </tr>\n",
       "  </tbody>\n",
       "</table>\n",
       "</div>"
      ],
      "text/plain": [
       "                   home_win  home_win_diff  away_win  away_win_diff  \\\n",
       "Arizona Cardinals         4          17.25       3.0      17.666667   \n",
       "Atlanta Falcons           5          13.80       6.0      14.500000   \n",
       "Baltimore Ravens          6          12.00       2.0       3.500000   \n",
       "Buffalo Bills             4          17.75       3.0      10.333333   \n",
       "Carolina Panthers         4          11.00       2.0       7.000000   \n",
       "\n",
       "                   home_loss  away_loss  nb_games  \n",
       "Arizona Cardinals          3        5.0      15.0  \n",
       "Atlanta Falcons            3        2.0      16.0  \n",
       "Baltimore Ravens           2        6.0      16.0  \n",
       "Buffalo Bills              4        5.0      16.0  \n",
       "Carolina Panthers          4        6.0      16.0  "
      ]
     },
     "execution_count": 28,
     "metadata": {},
     "output_type": "execute_result"
    }
   ],
   "source": [
    "#combine all stats into one dataframe\n",
    "data = {'home_win': df_win_home,'home_win_diff': home_score_diff, 'away_win': df_win_away,\n",
    "        'away_win_diff': away_score_diff, 'home_loss': df_loss_home, 'away_loss': df_loss_away, 'nb_games': df_total}\n",
    "df_results = pd.DataFrame(data)\n",
    "df_results.fillna(0, inplace=True)\n",
    "\n",
    "df_results.head()"
   ]
  },
  {
   "cell_type": "code",
   "execution_count": 208,
   "metadata": {},
   "outputs": [
    {
     "data": {
      "text/plain": [
       "Text(0.5, 0, 'Team')"
      ]
     },
     "execution_count": 208,
     "metadata": {},
     "output_type": "execute_result"
    },
    {
     "data": {
      "image/png": "[encoded data removed]",
      "text/plain": [
       "<Figure size 1224x576 with 1 Axes>"
      ]
     },
     "metadata": {
      "needs_background": "light"
     },
     "output_type": "display_data"
    }
   ],
   "source": [
    "#find the win percentages of every team at home and away, plot bar chart comparing the two\n",
    "win_percentages_chart = (df_results[['away_win', 'home_win']]/8).plot.bar(figsize=(17,8))\n",
    "win_percentages_chart.set_ylabel(\"Win %\")\n",
    "win_percentages_chart.set_xlabel(\"Team\")"
   ]
  },
  {
   "cell_type": "code",
   "execution_count": 209,
   "metadata": {},
   "outputs": [
    {
     "data": {
      "text/plain": [
       "22"
      ]
     },
     "execution_count": 209,
     "metadata": {},
     "output_type": "execute_result"
    }
   ],
   "source": [
    "'''Calculate the number of teams that have a higher win percentage at home than away. 22 teams won\n",
    "more games at home than on the road'''\n",
    "len(df_results.loc[df_results['home_win'] > df_results['away_win']])"
   ]
  },
  {
   "cell_type": "code",
   "execution_count": 32,
   "metadata": {},
   "outputs": [
    {
     "data": {
      "text/plain": [
       "Text(0.5, 0, 'Team')"
      ]
     },
     "execution_count": 32,
     "metadata": {},
     "output_type": "execute_result"
    },
    {
     "data": {
      "image/png": "[encoded data removed]",
      "text/plain": [
       "<Figure size 1224x576 with 1 Axes>"
      ]
     },
     "metadata": {
      "needs_background": "light"
     },
     "output_type": "display_data"
    }
   ],
   "source": [
    "#find the average score differential for teams at home and away, and plot bar chart comparinng to two\n",
    "score_win_diff = df_results[['away_win_diff', 'home_win_diff']].plot.bar(figsize=(17,8))\n",
    "score_win_diff.set_ylabel(\"Avg score difference in wins\")\n",
    "score_win_diff.set_xlabel(\"Team\")"
   ]
  },
  {
   "cell_type": "code",
   "execution_count": 33,
   "metadata": {},
   "outputs": [
    {
     "data": {
      "text/plain": [
       "24"
      ]
     },
     "execution_count": 33,
     "metadata": {},
     "output_type": "execute_result"
    }
   ],
   "source": [
    "#find the number of teams with a greater average score differntial at home vs away\n",
    "len(df_results .loc[df_results ['home_win_diff'] > df_results ['away_win_diff']])"
   ]
  },
  {
   "cell_type": "code",
   "execution_count": 34,
   "metadata": {},
   "outputs": [
    {
     "data": {
      "text/plain": [
       "5.950148809523811"
      ]
     },
     "execution_count": 34,
     "metadata": {},
     "output_type": "execute_result"
    }
   ],
   "source": [
    "#caculate the difference in score differential for home vs away\n",
    "home_greater = df_results.loc[df_results ['home_win_diff'] > df_results ['away_win_diff']]\n",
    "home_greater['home_win_diff'].mean() - home_greater['away_win_diff'].mean()"
   ]
  },
  {
   "cell_type": "code",
   "execution_count": 36,
   "metadata": {},
   "outputs": [
    {
     "data": {
      "text/plain": [
       "Ttest_indResult(statistic=4.827606466012797, pvalue=1.9413479292782724e-05)"
      ]
     },
     "execution_count": 36,
     "metadata": {},
     "output_type": "execute_result"
    }
   ],
   "source": [
    "'''Run t-test to see if there is a significant difference. The null hypothesis\n",
    "states that there is no significant difference between the mean win score differential \n",
    "at home and the mean win score differential on the road. Our significance level is 0.05. \n",
    "Because our p-value is less than the significance level, we can reject the null hypothesis\n",
    "and say that there is a significant difference. These 24 teams are winning more comfortably\n",
    "at home than away.'''\n",
    "\n",
    "stats.ttest_ind(home_greater['home_win_diff'], home_greater['away_win_diff'], equal_var = False)"
   ]
  },
  {
   "cell_type": "code",
   "execution_count": 156,
   "metadata": {},
   "outputs": [
    {
     "name": "stderr",
     "output_type": "stream",
     "text": [
      "C:\\Users\\ericj\\Anaconda3\\lib\\site-packages\\ipykernel_launcher.py:6: FutureWarning: Sorting because non-concatenation axis is not aligned. A future version\n",
      "of pandas will change to not sort by default.\n",
      "\n",
      "To accept the future behavior, pass 'sort=False'.\n",
      "\n",
      "To retain the current behavior and silence the warning, pass 'sort=True'.\n",
      "\n",
      "  \n"
     ]
    },
    {
     "data": {
      "text/plain": [
       "Text(0, 0.5, 'Avg TO Differential')"
      ]
     },
     "execution_count": 156,
     "metadata": {},
     "output_type": "execute_result"
    },
    {
     "data": {
      "image/png": "[encoded data removed]",
      "text/plain": [
       "<Figure size 1224x576 with 1 Axes>"
      ]
     },
     "metadata": {
      "needs_background": "light"
     },
     "output_type": "display_data"
    }
   ],
   "source": [
    "#find the average number of TO's per team in home and away games\n",
    "home_winner_TO = df_home.groupby('Winner/tie')['TOW'].sum().rename('Home winner')\n",
    "home_loser_TO = df_away.groupby('Loser/tie')['TOL'].sum().rename('Home loser')\n",
    "away_winner_TO = df_away.groupby('Winner/tie')['TOW'].sum().rename('Away winner')\n",
    "away_loser_TO = df_home.groupby('Loser/tie')['TOL'].sum().rename('Away loser')\n",
    "df_all = pd.concat([home_winner_TO, home_loser_TO, away_winner_TO, away_loser_TO], axis=1)\n",
    "df_all.fillna(0, inplace=True)\n",
    "\n",
    "#combine means into one dataframe\n",
    "df_TO_mean = pd.DataFrame({'Home': (df_all['Home winner'] + df_all['Home loser'])/8, \n",
    "                           'Away': (df_all['Away winner'] + df_all['Away loser'])/8})\n",
    "\n",
    "#find average TO on the season for every team\n",
    "df_all_TO = (NFL_frame.groupby('Loser/tie').sum()['TOL'] + NFL_frame.groupby('Winner/tie').sum()['TOW'])/16\n",
    "\n",
    "#calculates difference in average TO at home/away vs average TO overall\n",
    "df_TO_mean['Away TO Diff'] = df_TO_mean['Away'] - df_all_TO\n",
    "df_TO_mean['Home TO Diff'] = df_TO_mean['Home'] - df_all_TO\n",
    "\n",
    "#drop unnecessary columns\n",
    "df_TO_mean = df_TO_mean.drop(columns=['Home','Away'])\n",
    "\n",
    "#plot bar chart to compare home/away TO differential \n",
    "plot_TO = df_TO_mean.plot.bar(figsize=(17,8))\n",
    "plot_TO.set_ylabel('Avg TO Differential')"
   ]
  },
  {
   "cell_type": "code",
   "execution_count": 157,
   "metadata": {},
   "outputs": [
    {
     "data": {
      "text/plain": [
       "-0.16319444444444445"
      ]
     },
     "execution_count": 157,
     "metadata": {},
     "output_type": "execute_result"
    }
   ],
   "source": [
    "'''18 teams averaged less TO's at home compared to their overall average TO on the season, for an overall \n",
    "difference of 0.16 less TO's'''\n",
    "df_TO_mean.loc[df_TO_mean['Home TO Diff'] < 0].mean()['Home TO Diff']"
   ]
  },
  {
   "cell_type": "code",
   "execution_count": 158,
   "metadata": {},
   "outputs": [
    {
     "data": {
      "text/plain": [
       "-0.20192307692307693"
      ]
     },
     "execution_count": 158,
     "metadata": {},
     "output_type": "execute_result"
    }
   ],
   "source": [
    "'''14 teams averaged less TO's on the road compared to their overall average TO on the season, for an overall \n",
    "difference of 0.2 less TO's'''\n",
    "df_TO_mean.loc[df_TO_mean['Away TO Diff'] < 0].mean()['Away TO Diff']"
   ]
  },
  {
   "cell_type": "code",
   "execution_count": 160,
   "metadata": {},
   "outputs": [
    {
     "data": {
      "text/plain": [
       "Ttest_indResult(statistic=0.8301467139463103, pvalue=0.41577822990496227)"
      ]
     },
     "execution_count": 160,
     "metadata": {},
     "output_type": "execute_result"
    }
   ],
   "source": [
    "'''There are 18 teams that average less TO's at home than they do on the season, and 14 that average less \n",
    "TO's away than they do on the season. The null hypothesis states that there is no significant difference\n",
    "between the home TO differential and the away TO differential. When running the t-test for a significant \n",
    "difference between the TO differences, I got a p-value of 0.416, which is greater than 0.05. Therefore, \n",
    "we cannot reject the null hypothesis. We cannot say that turnovers are less frequent at home due to home \n",
    "court advantage.'''\n",
    "\n",
    "stats.ttest_ind(df_TO_mean.loc[df_TO_mean['Home TO Diff'] < 0]['Home TO Diff'], \n",
    "                df_TO_mean.loc[df_TO_mean['Away TO Diff'] < 0]['Away TO Diff'], equal_var = False)"
   ]
  },
  {
   "cell_type": "markdown",
   "metadata": {},
   "source": [
    "# MLB"
   ]
  },
  {
   "cell_type": "code",
   "execution_count": 167,
   "metadata": {},
   "outputs": [
    {
     "data": {
      "text/html": [
       "<div>\n",
       "<style scoped>\n",
       "    .dataframe tbody tr th:only-of-type {\n",
       "        vertical-align: middle;\n",
       "    }\n",
       "\n",
       "    .dataframe tbody tr th {\n",
       "        vertical-align: top;\n",
       "    }\n",
       "\n",
       "    .dataframe thead th {\n",
       "        text-align: right;\n",
       "    }\n",
       "</style>\n",
       "<table border=\"1\" class=\"dataframe\">\n",
       "  <thead>\n",
       "    <tr style=\"text-align: right;\">\n",
       "      <th></th>\n",
       "      <th>away_team_errors</th>\n",
       "      <th>away_team_hits</th>\n",
       "      <th>away_team_runs</th>\n",
       "      <th>home_team_errors</th>\n",
       "      <th>home_team_hits</th>\n",
       "      <th>home_team_runs</th>\n",
       "      <th>total_runs</th>\n",
       "      <th>home_team_win</th>\n",
       "      <th>home_team_loss</th>\n",
       "    </tr>\n",
       "    <tr>\n",
       "      <th>home_team</th>\n",
       "      <th></th>\n",
       "      <th></th>\n",
       "      <th></th>\n",
       "      <th></th>\n",
       "      <th></th>\n",
       "      <th></th>\n",
       "      <th></th>\n",
       "      <th></th>\n",
       "      <th></th>\n",
       "    </tr>\n",
       "  </thead>\n",
       "  <tbody>\n",
       "    <tr>\n",
       "      <th>Arizona Diamondbacks</th>\n",
       "      <td>50</td>\n",
       "      <td>855</td>\n",
       "      <td>493</td>\n",
       "      <td>42</td>\n",
       "      <td>765</td>\n",
       "      <td>411</td>\n",
       "      <td>904</td>\n",
       "      <td>33</td>\n",
       "      <td>48</td>\n",
       "    </tr>\n",
       "    <tr>\n",
       "      <th>Atlanta Braves</th>\n",
       "      <td>58</td>\n",
       "      <td>712</td>\n",
       "      <td>404</td>\n",
       "      <td>60</td>\n",
       "      <td>712</td>\n",
       "      <td>335</td>\n",
       "      <td>739</td>\n",
       "      <td>31</td>\n",
       "      <td>50</td>\n",
       "    </tr>\n",
       "    <tr>\n",
       "      <th>Baltimore Orioles</th>\n",
       "      <td>42</td>\n",
       "      <td>699</td>\n",
       "      <td>336</td>\n",
       "      <td>39</td>\n",
       "      <td>688</td>\n",
       "      <td>376</td>\n",
       "      <td>712</td>\n",
       "      <td>50</td>\n",
       "      <td>31</td>\n",
       "    </tr>\n",
       "    <tr>\n",
       "      <th>Boston Red Sox</th>\n",
       "      <td>50</td>\n",
       "      <td>734</td>\n",
       "      <td>380</td>\n",
       "      <td>40</td>\n",
       "      <td>845</td>\n",
       "      <td>477</td>\n",
       "      <td>857</td>\n",
       "      <td>47</td>\n",
       "      <td>34</td>\n",
       "    </tr>\n",
       "    <tr>\n",
       "      <th>Chicago Cubs</th>\n",
       "      <td>40</td>\n",
       "      <td>546</td>\n",
       "      <td>247</td>\n",
       "      <td>47</td>\n",
       "      <td>674</td>\n",
       "      <td>389</td>\n",
       "      <td>636</td>\n",
       "      <td>57</td>\n",
       "      <td>24</td>\n",
       "    </tr>\n",
       "  </tbody>\n",
       "</table>\n",
       "</div>"
      ],
      "text/plain": [
       "                      away_team_errors  away_team_hits  away_team_runs  \\\n",
       "home_team                                                                \n",
       "Arizona Diamondbacks                50             855             493   \n",
       "Atlanta Braves                      58             712             404   \n",
       "Baltimore Orioles                   42             699             336   \n",
       "Boston Red Sox                      50             734             380   \n",
       "Chicago Cubs                        40             546             247   \n",
       "\n",
       "                      home_team_errors  home_team_hits  home_team_runs  \\\n",
       "home_team                                                                \n",
       "Arizona Diamondbacks                42             765             411   \n",
       "Atlanta Braves                      60             712             335   \n",
       "Baltimore Orioles                   39             688             376   \n",
       "Boston Red Sox                      40             845             477   \n",
       "Chicago Cubs                        47             674             389   \n",
       "\n",
       "                      total_runs  home_team_win  home_team_loss  \n",
       "home_team                                                        \n",
       "Arizona Diamondbacks         904             33              48  \n",
       "Atlanta Braves               739             31              50  \n",
       "Baltimore Orioles            712             50              31  \n",
       "Boston Red Sox               857             47              34  \n",
       "Chicago Cubs                 636             57              24  "
      ]
     },
     "execution_count": 167,
     "metadata": {},
     "output_type": "execute_result"
    }
   ],
   "source": [
    "#Group by hometeam get teams based on when they are at home\n",
    "homeTeamSorted = data.groupby('home_team').sum()\n",
    "homeTeamSorted.head()"
   ]
  },
  {
   "cell_type": "code",
   "execution_count": 169,
   "metadata": {},
   "outputs": [
    {
     "data": {
      "text/plain": [
       "home_team\n",
       "Arizona Diamondbacks    0.407407\n",
       "Atlanta Braves          0.382716\n",
       "Baltimore Orioles       0.617284\n",
       "Boston Red Sox          0.580247\n",
       "Chicago Cubs            0.703704\n",
       "Name: home_team_win, dtype: float64"
      ]
     },
     "execution_count": 169,
     "metadata": {},
     "output_type": "execute_result"
    }
   ],
   "source": [
    "#Divide the number of wins by 81 to get win percentage for each time while at home\n",
    "homeWinPercentages = homeTeamSorted['home_team_win']/81\n",
    "homeWinPercentages.head()"
   ]
  },
  {
   "cell_type": "code",
   "execution_count": 170,
   "metadata": {},
   "outputs": [
    {
     "data": {
      "text/html": [
       "<div>\n",
       "<style scoped>\n",
       "    .dataframe tbody tr th:only-of-type {\n",
       "        vertical-align: middle;\n",
       "    }\n",
       "\n",
       "    .dataframe tbody tr th {\n",
       "        vertical-align: top;\n",
       "    }\n",
       "\n",
       "    .dataframe thead th {\n",
       "        text-align: right;\n",
       "    }\n",
       "</style>\n",
       "<table border=\"1\" class=\"dataframe\">\n",
       "  <thead>\n",
       "    <tr style=\"text-align: right;\">\n",
       "      <th></th>\n",
       "      <th>away_team_errors</th>\n",
       "      <th>away_team_hits</th>\n",
       "      <th>away_team_runs</th>\n",
       "      <th>home_team_errors</th>\n",
       "      <th>home_team_hits</th>\n",
       "      <th>home_team_runs</th>\n",
       "      <th>total_runs</th>\n",
       "      <th>home_team_win</th>\n",
       "      <th>home_team_loss</th>\n",
       "    </tr>\n",
       "    <tr>\n",
       "      <th>away_team</th>\n",
       "      <th></th>\n",
       "      <th></th>\n",
       "      <th></th>\n",
       "      <th></th>\n",
       "      <th></th>\n",
       "      <th></th>\n",
       "      <th></th>\n",
       "      <th></th>\n",
       "      <th></th>\n",
       "    </tr>\n",
       "  </thead>\n",
       "  <tbody>\n",
       "    <tr>\n",
       "      <th>Arizona Diamondbacks</th>\n",
       "      <td>59</td>\n",
       "      <td>714</td>\n",
       "      <td>341</td>\n",
       "      <td>53</td>\n",
       "      <td>708</td>\n",
       "      <td>397</td>\n",
       "      <td>738</td>\n",
       "      <td>45</td>\n",
       "      <td>36</td>\n",
       "    </tr>\n",
       "    <tr>\n",
       "      <th>Atlanta Braves</th>\n",
       "      <td>41</td>\n",
       "      <td>692</td>\n",
       "      <td>314</td>\n",
       "      <td>41</td>\n",
       "      <td>702</td>\n",
       "      <td>375</td>\n",
       "      <td>689</td>\n",
       "      <td>43</td>\n",
       "      <td>37</td>\n",
       "    </tr>\n",
       "    <tr>\n",
       "      <th>Baltimore Orioles</th>\n",
       "      <td>41</td>\n",
       "      <td>725</td>\n",
       "      <td>368</td>\n",
       "      <td>33</td>\n",
       "      <td>709</td>\n",
       "      <td>379</td>\n",
       "      <td>747</td>\n",
       "      <td>42</td>\n",
       "      <td>39</td>\n",
       "    </tr>\n",
       "    <tr>\n",
       "      <th>Boston Red Sox</th>\n",
       "      <td>35</td>\n",
       "      <td>753</td>\n",
       "      <td>401</td>\n",
       "      <td>51</td>\n",
       "      <td>608</td>\n",
       "      <td>314</td>\n",
       "      <td>715</td>\n",
       "      <td>35</td>\n",
       "      <td>46</td>\n",
       "    </tr>\n",
       "    <tr>\n",
       "      <th>Chicago Cubs</th>\n",
       "      <td>54</td>\n",
       "      <td>735</td>\n",
       "      <td>419</td>\n",
       "      <td>47</td>\n",
       "      <td>579</td>\n",
       "      <td>309</td>\n",
       "      <td>728</td>\n",
       "      <td>34</td>\n",
       "      <td>46</td>\n",
       "    </tr>\n",
       "  </tbody>\n",
       "</table>\n",
       "</div>"
      ],
      "text/plain": [
       "                      away_team_errors  away_team_hits  away_team_runs  \\\n",
       "away_team                                                                \n",
       "Arizona Diamondbacks                59             714             341   \n",
       "Atlanta Braves                      41             692             314   \n",
       "Baltimore Orioles                   41             725             368   \n",
       "Boston Red Sox                      35             753             401   \n",
       "Chicago Cubs                        54             735             419   \n",
       "\n",
       "                      home_team_errors  home_team_hits  home_team_runs  \\\n",
       "away_team                                                                \n",
       "Arizona Diamondbacks                53             708             397   \n",
       "Atlanta Braves                      41             702             375   \n",
       "Baltimore Orioles                   33             709             379   \n",
       "Boston Red Sox                      51             608             314   \n",
       "Chicago Cubs                        47             579             309   \n",
       "\n",
       "                      total_runs  home_team_win  home_team_loss  \n",
       "away_team                                                        \n",
       "Arizona Diamondbacks         738             45              36  \n",
       "Atlanta Braves               689             43              37  \n",
       "Baltimore Orioles            747             42              39  \n",
       "Boston Red Sox               715             35              46  \n",
       "Chicago Cubs                 728             34              46  "
      ]
     },
     "execution_count": 170,
     "metadata": {},
     "output_type": "execute_result"
    }
   ],
   "source": [
    "#Group by away team to get teams based on when they are away\n",
    "awayTeamSorted = data.groupby('away_team').sum()\n",
    "awayTeamSorted.head()"
   ]
  },
  {
   "cell_type": "code",
   "execution_count": 171,
   "metadata": {},
   "outputs": [
    {
     "data": {
      "text/plain": [
       "away_team\n",
       "Arizona Diamondbacks    0.444444\n",
       "Atlanta Braves          0.456790\n",
       "Baltimore Orioles       0.481481\n",
       "Boston Red Sox          0.567901\n",
       "Chicago Cubs            0.567901\n",
       "Name: home_team_loss, dtype: float64"
      ]
     },
     "execution_count": 171,
     "metadata": {},
     "output_type": "execute_result"
    }
   ],
   "source": [
    "#Calculate win percentage for each team while away\n",
    "awayWinPercentages = awayTeamSorted['home_team_loss']/81\n",
    "awayWinPercentages.head()"
   ]
  },
  {
   "cell_type": "code",
   "execution_count": 172,
   "metadata": {},
   "outputs": [
    {
     "data": {
      "text/html": [
       "<div>\n",
       "<style scoped>\n",
       "    .dataframe tbody tr th:only-of-type {\n",
       "        vertical-align: middle;\n",
       "    }\n",
       "\n",
       "    .dataframe tbody tr th {\n",
       "        vertical-align: top;\n",
       "    }\n",
       "\n",
       "    .dataframe thead th {\n",
       "        text-align: right;\n",
       "    }\n",
       "</style>\n",
       "<table border=\"1\" class=\"dataframe\">\n",
       "  <thead>\n",
       "    <tr style=\"text-align: right;\">\n",
       "      <th></th>\n",
       "      <th>Away Wins</th>\n",
       "      <th>Home Wins</th>\n",
       "    </tr>\n",
       "  </thead>\n",
       "  <tbody>\n",
       "    <tr>\n",
       "      <th>Arizona Diamondbacks</th>\n",
       "      <td>0.444444</td>\n",
       "      <td>0.407407</td>\n",
       "    </tr>\n",
       "    <tr>\n",
       "      <th>Atlanta Braves</th>\n",
       "      <td>0.456790</td>\n",
       "      <td>0.382716</td>\n",
       "    </tr>\n",
       "    <tr>\n",
       "      <th>Baltimore Orioles</th>\n",
       "      <td>0.481481</td>\n",
       "      <td>0.617284</td>\n",
       "    </tr>\n",
       "    <tr>\n",
       "      <th>Boston Red Sox</th>\n",
       "      <td>0.567901</td>\n",
       "      <td>0.580247</td>\n",
       "    </tr>\n",
       "    <tr>\n",
       "      <th>Chicago Cubs</th>\n",
       "      <td>0.567901</td>\n",
       "      <td>0.703704</td>\n",
       "    </tr>\n",
       "  </tbody>\n",
       "</table>\n",
       "</div>"
      ],
      "text/plain": [
       "                      Away Wins  Home Wins\n",
       "Arizona Diamondbacks   0.444444   0.407407\n",
       "Atlanta Braves         0.456790   0.382716\n",
       "Baltimore Orioles      0.481481   0.617284\n",
       "Boston Red Sox         0.567901   0.580247\n",
       "Chicago Cubs           0.567901   0.703704"
      ]
     },
     "execution_count": 172,
     "metadata": {},
     "output_type": "execute_result"
    }
   ],
   "source": [
    "# Concatenate dataset to have away wins and home wins together.\n",
    "winPercentage = pd.concat([awayWinPercentages, homeWinPercentages], sort=True, axis = 1)\n",
    "winPercentage.columns = ['Away Wins', 'Home Wins']\n",
    "winPercentage.head()"
   ]
  },
  {
   "cell_type": "code",
   "execution_count": 174,
   "metadata": {},
   "outputs": [
    {
     "data": {
      "text/plain": [
       "Text(0, 0.5, 'Avg Score Differential in Wins')"
      ]
     },
     "execution_count": 174,
     "metadata": {},
     "output_type": "execute_result"
    },
    {
     "data": {
      "image/png": "[encoded data removed]",
      "text/plain": [
       "<Figure size 1224x576 with 1 Axes>"
      ]
     },
     "metadata": {
      "needs_background": "light"
     },
     "output_type": "display_data"
    }
   ],
   "source": [
    "#Plot bar chart to compare home/away win percentages\n",
    "winPercentagePlot = winPercentage.plot.bar(figsize=(17,8))\n",
    "winPercentagePlot.set_ylabel(\"Avg Score Differential in Wins\")"
   ]
  },
  {
   "cell_type": "code",
   "execution_count": 210,
   "metadata": {},
   "outputs": [
    {
     "data": {
      "text/plain": [
       "25"
      ]
     },
     "execution_count": 210,
     "metadata": {},
     "output_type": "execute_result"
    }
   ],
   "source": [
    "'''Calculate the number of teams that have a higher win percentage at home than away. 25 teams won\n",
    "more games at home than on the road'''\n",
    "len(winPercentage.loc[winPercentage['Home Wins'] > winPercentage['Away Wins']])"
   ]
  },
  {
   "cell_type": "code",
   "execution_count": 175,
   "metadata": {},
   "outputs": [
    {
     "name": "stderr",
     "output_type": "stream",
     "text": [
      "C:\\Users\\ericj\\Anaconda3\\lib\\site-packages\\ipykernel_launcher.py:4: SettingWithCopyWarning: \n",
      "A value is trying to be set on a copy of a slice from a DataFrame.\n",
      "Try using .loc[row_indexer,col_indexer] = value instead\n",
      "\n",
      "See the caveats in the documentation: http://pandas.pydata.org/pandas-docs/stable/indexing.html#indexing-view-versus-copy\n",
      "  after removing the cwd from sys.path.\n"
     ]
    },
    {
     "data": {
      "text/html": [
       "<div>\n",
       "<style scoped>\n",
       "    .dataframe tbody tr th:only-of-type {\n",
       "        vertical-align: middle;\n",
       "    }\n",
       "\n",
       "    .dataframe tbody tr th {\n",
       "        vertical-align: top;\n",
       "    }\n",
       "\n",
       "    .dataframe thead th {\n",
       "        text-align: right;\n",
       "    }\n",
       "</style>\n",
       "<table border=\"1\" class=\"dataframe\">\n",
       "  <thead>\n",
       "    <tr style=\"text-align: right;\">\n",
       "      <th></th>\n",
       "      <th>away_team</th>\n",
       "      <th>away_team_errors</th>\n",
       "      <th>away_team_hits</th>\n",
       "      <th>away_team_runs</th>\n",
       "      <th>home_team</th>\n",
       "      <th>home_team_errors</th>\n",
       "      <th>home_team_hits</th>\n",
       "      <th>home_team_runs</th>\n",
       "      <th>total_runs</th>\n",
       "      <th>home_team_win</th>\n",
       "      <th>home_team_loss</th>\n",
       "      <th>home_team_outcome</th>\n",
       "      <th>HomeScoreDiff</th>\n",
       "    </tr>\n",
       "  </thead>\n",
       "  <tbody>\n",
       "    <tr>\n",
       "      <th>0</th>\n",
       "      <td>New York Mets</td>\n",
       "      <td>1</td>\n",
       "      <td>7</td>\n",
       "      <td>3</td>\n",
       "      <td>Kansas City Royals</td>\n",
       "      <td>0</td>\n",
       "      <td>9</td>\n",
       "      <td>4</td>\n",
       "      <td>7</td>\n",
       "      <td>1</td>\n",
       "      <td>0</td>\n",
       "      <td>Win</td>\n",
       "      <td>1</td>\n",
       "    </tr>\n",
       "    <tr>\n",
       "      <th>1</th>\n",
       "      <td>Philadelphia Phillies</td>\n",
       "      <td>0</td>\n",
       "      <td>5</td>\n",
       "      <td>2</td>\n",
       "      <td>Cincinnati Reds</td>\n",
       "      <td>0</td>\n",
       "      <td>8</td>\n",
       "      <td>3</td>\n",
       "      <td>5</td>\n",
       "      <td>1</td>\n",
       "      <td>0</td>\n",
       "      <td>Win</td>\n",
       "      <td>1</td>\n",
       "    </tr>\n",
       "    <tr>\n",
       "      <th>2</th>\n",
       "      <td>Minnesota Twins</td>\n",
       "      <td>0</td>\n",
       "      <td>5</td>\n",
       "      <td>2</td>\n",
       "      <td>Baltimore Orioles</td>\n",
       "      <td>0</td>\n",
       "      <td>9</td>\n",
       "      <td>4</td>\n",
       "      <td>6</td>\n",
       "      <td>1</td>\n",
       "      <td>0</td>\n",
       "      <td>Win</td>\n",
       "      <td>2</td>\n",
       "    </tr>\n",
       "    <tr>\n",
       "      <th>6</th>\n",
       "      <td>Toronto Blue Jays</td>\n",
       "      <td>0</td>\n",
       "      <td>9</td>\n",
       "      <td>2</td>\n",
       "      <td>Tampa Bay Rays</td>\n",
       "      <td>1</td>\n",
       "      <td>7</td>\n",
       "      <td>3</td>\n",
       "      <td>5</td>\n",
       "      <td>1</td>\n",
       "      <td>0</td>\n",
       "      <td>Win</td>\n",
       "      <td>1</td>\n",
       "    </tr>\n",
       "    <tr>\n",
       "      <th>8</th>\n",
       "      <td>St. Louis Cardinals</td>\n",
       "      <td>1</td>\n",
       "      <td>8</td>\n",
       "      <td>5</td>\n",
       "      <td>Pittsburgh Pirates</td>\n",
       "      <td>2</td>\n",
       "      <td>12</td>\n",
       "      <td>6</td>\n",
       "      <td>11</td>\n",
       "      <td>1</td>\n",
       "      <td>0</td>\n",
       "      <td>Win</td>\n",
       "      <td>1</td>\n",
       "    </tr>\n",
       "  </tbody>\n",
       "</table>\n",
       "</div>"
      ],
      "text/plain": [
       "               away_team  away_team_errors  away_team_hits  away_team_runs  \\\n",
       "0          New York Mets                 1               7               3   \n",
       "1  Philadelphia Phillies                 0               5               2   \n",
       "2        Minnesota Twins                 0               5               2   \n",
       "6      Toronto Blue Jays                 0               9               2   \n",
       "8    St. Louis Cardinals                 1               8               5   \n",
       "\n",
       "            home_team  home_team_errors  home_team_hits  home_team_runs  \\\n",
       "0  Kansas City Royals                 0               9               4   \n",
       "1     Cincinnati Reds                 0               8               3   \n",
       "2   Baltimore Orioles                 0               9               4   \n",
       "6      Tampa Bay Rays                 1               7               3   \n",
       "8  Pittsburgh Pirates                 2              12               6   \n",
       "\n",
       "   total_runs  home_team_win  home_team_loss home_team_outcome  HomeScoreDiff  \n",
       "0           7              1               0               Win              1  \n",
       "1           5              1               0               Win              1  \n",
       "2           6              1               0               Win              2  \n",
       "6           5              1               0               Win              1  \n",
       "8          11              1               0               Win              1  "
      ]
     },
     "execution_count": 175,
     "metadata": {},
     "output_type": "execute_result"
    }
   ],
   "source": [
    "#Create a score differential column for home teams\n",
    "teamScores = data\n",
    "homeTeamScores = teamScores[teamScores['home_team_outcome'] == 'Win']\n",
    "homeTeamScores['HomeScoreDiff'] = homeTeamScores['home_team_runs'].sub(homeTeamScores['away_team_runs'], axis=0)\n",
    "homeTeamScores.head()"
   ]
  },
  {
   "cell_type": "code",
   "execution_count": 176,
   "metadata": {},
   "outputs": [
    {
     "data": {
      "text/plain": [
       "home_team\n",
       "Arizona Diamondbacks    3.424242\n",
       "Atlanta Braves          3.290323\n",
       "Baltimore Orioles       3.260000\n",
       "Boston Red Sox          4.191489\n",
       "Chicago Cubs            3.614035\n",
       "Name: HomeScoreDiff, dtype: float64"
      ]
     },
     "execution_count": 176,
     "metadata": {},
     "output_type": "execute_result"
    }
   ],
   "source": [
    "# Group by hometeam and get average score diff\n",
    "homeScoreDiff = homeTeamScores.groupby('home_team').mean()['HomeScoreDiff']\n",
    "homeScoreDiff.head()"
   ]
  },
  {
   "cell_type": "code",
   "execution_count": 177,
   "metadata": {},
   "outputs": [
    {
     "name": "stderr",
     "output_type": "stream",
     "text": [
      "C:\\Users\\ericj\\Anaconda3\\lib\\site-packages\\ipykernel_launcher.py:4: SettingWithCopyWarning: \n",
      "A value is trying to be set on a copy of a slice from a DataFrame.\n",
      "Try using .loc[row_indexer,col_indexer] = value instead\n",
      "\n",
      "See the caveats in the documentation: http://pandas.pydata.org/pandas-docs/stable/indexing.html#indexing-view-versus-copy\n",
      "  after removing the cwd from sys.path.\n"
     ]
    },
    {
     "data": {
      "text/plain": [
       "away_team\n",
       "Arizona Diamondbacks    3.194444\n",
       "Atlanta Braves          2.513514\n",
       "Baltimore Orioles       3.461538\n",
       "Boston Red Sox          3.956522\n",
       "Chicago Cubs            4.595745\n",
       "Name: AwayScoreDiff, dtype: float64"
      ]
     },
     "execution_count": 177,
     "metadata": {},
     "output_type": "execute_result"
    }
   ],
   "source": [
    "#Create a score differential column for away teams and groupby away teams\n",
    "teamScores = data\n",
    "awayTeamScores = teamScores[teamScores['home_team_outcome'] == 'Loss']\n",
    "awayTeamScores['AwayScoreDiff'] = awayTeamScores['away_team_runs'].sub(awayTeamScores['home_team_runs'], axis=0)\n",
    "awayScoreDiff = awayTeamScores.groupby('away_team').mean()['AwayScoreDiff']\n",
    "awayScoreDiff.head()"
   ]
  },
  {
   "cell_type": "code",
   "execution_count": 178,
   "metadata": {},
   "outputs": [
    {
     "data": {
      "text/html": [
       "<div>\n",
       "<style scoped>\n",
       "    .dataframe tbody tr th:only-of-type {\n",
       "        vertical-align: middle;\n",
       "    }\n",
       "\n",
       "    .dataframe tbody tr th {\n",
       "        vertical-align: top;\n",
       "    }\n",
       "\n",
       "    .dataframe thead th {\n",
       "        text-align: right;\n",
       "    }\n",
       "</style>\n",
       "<table border=\"1\" class=\"dataframe\">\n",
       "  <thead>\n",
       "    <tr style=\"text-align: right;\">\n",
       "      <th></th>\n",
       "      <th>Away Score Diff</th>\n",
       "      <th>Home Score Diff</th>\n",
       "    </tr>\n",
       "  </thead>\n",
       "  <tbody>\n",
       "    <tr>\n",
       "      <th>Arizona Diamondbacks</th>\n",
       "      <td>3.194444</td>\n",
       "      <td>3.424242</td>\n",
       "    </tr>\n",
       "    <tr>\n",
       "      <th>Atlanta Braves</th>\n",
       "      <td>2.513514</td>\n",
       "      <td>3.290323</td>\n",
       "    </tr>\n",
       "    <tr>\n",
       "      <th>Baltimore Orioles</th>\n",
       "      <td>3.461538</td>\n",
       "      <td>3.260000</td>\n",
       "    </tr>\n",
       "    <tr>\n",
       "      <th>Boston Red Sox</th>\n",
       "      <td>3.956522</td>\n",
       "      <td>4.191489</td>\n",
       "    </tr>\n",
       "    <tr>\n",
       "      <th>Chicago Cubs</th>\n",
       "      <td>4.595745</td>\n",
       "      <td>3.614035</td>\n",
       "    </tr>\n",
       "  </tbody>\n",
       "</table>\n",
       "</div>"
      ],
      "text/plain": [
       "                      Away Score Diff  Home Score Diff\n",
       "Arizona Diamondbacks         3.194444         3.424242\n",
       "Atlanta Braves               2.513514         3.290323\n",
       "Baltimore Orioles            3.461538         3.260000\n",
       "Boston Red Sox               3.956522         4.191489\n",
       "Chicago Cubs                 4.595745         3.614035"
      ]
     },
     "execution_count": 178,
     "metadata": {},
     "output_type": "execute_result"
    }
   ],
   "source": [
    "#Create a scoreDiff dataframe\n",
    "scoreDiff = pd.concat([awayScoreDiff, homeScoreDiff], sort=True, axis = 1)\n",
    "scoreDiff.columns = ['Away Score Diff', 'Home Score Diff']\n",
    "scoreDiff.head()"
   ]
  },
  {
   "cell_type": "code",
   "execution_count": 179,
   "metadata": {},
   "outputs": [
    {
     "data": {
      "text/plain": [
       "Text(0, 0.5, 'Avg Score Differential in Wins')"
      ]
     },
     "execution_count": 179,
     "metadata": {},
     "output_type": "execute_result"
    },
    {
     "data": {
      "image/png": "[encoded data removed]",
      "text/plain": [
       "<Figure size 1224x576 with 1 Axes>"
      ]
     },
     "metadata": {
      "needs_background": "light"
     },
     "output_type": "display_data"
    }
   ],
   "source": [
    "#Plot bar chart to compare home/away win score differential \n",
    "score_diff = scoreDiff.plot.bar(figsize=(17,8))\n",
    "score_diff.set_ylabel(\"Avg Score Differential in Wins\")"
   ]
  },
  {
   "cell_type": "code",
   "execution_count": 181,
   "metadata": {},
   "outputs": [
    {
     "name": "stdout",
     "output_type": "stream",
     "text": [
      "Number of teams that have greater score diffferential in home wins then away:  13\n"
     ]
    }
   ],
   "source": [
    "print(\"Number of teams that have greater score diffferential in home wins then away: \", \n",
    "      len(scoreDiff.loc[scoreDiff['Home Score Diff'] > scoreDiff['Away Score Diff']]))"
   ]
  },
  {
   "cell_type": "code",
   "execution_count": 199,
   "metadata": {},
   "outputs": [
    {
     "name": "stdout",
     "output_type": "stream",
     "text": [
      "Difference between mean score differential for home games vs away games 0.31011882708785476\n"
     ]
    }
   ],
   "source": [
    "homeGreater = scoreDiff.loc[scoreDiff['Home Score Diff'] > scoreDiff['Away Score Diff']]\n",
    "averageDiff = homeGreater['Home Score Diff'].mean() - homeGreater['Away Score Diff'].mean()\n",
    "print(\"Difference between mean score differential for home games vs away games\", averageDiff)"
   ]
  },
  {
   "cell_type": "code",
   "execution_count": 200,
   "metadata": {},
   "outputs": [
    {
     "data": {
      "text/plain": [
       "Ttest_indResult(statistic=-1.7972045180290446, pvalue=0.07779432552110915)"
      ]
     },
     "execution_count": 200,
     "metadata": {},
     "output_type": "execute_result"
    }
   ],
   "source": [
    "'''Run t-test to see if there is a significant difference. The null hypothesis\n",
    "states that there is no significant difference between the mean win score differential \n",
    "at home and the mean win score differential on the road. Our significance level is 0.05. \n",
    "Because our p-value is greater than the significance level, we cannot reject the null hypothesis\n",
    "and say that there is a significant difference. Since less than half of the teams on the league\n",
    "are averaging a higher win margin at home than on the road, this result is not surprising.'''\n",
    "\n",
    "stats.ttest_ind(scoreDiff['Home Score Diff'], scoreDiff['Away Score Diff'], equal_var = False)"
   ]
  },
  {
   "cell_type": "code",
   "execution_count": 184,
   "metadata": {},
   "outputs": [
    {
     "data": {
      "text/plain": [
       "home_team\n",
       "Arizona Diamondbacks    0.518519\n",
       "Atlanta Braves          0.740741\n",
       "Baltimore Orioles       0.481481\n",
       "Boston Red Sox          0.493827\n",
       "Chicago Cubs            0.580247\n",
       "Name: home_team_errors, dtype: float64"
      ]
     },
     "execution_count": 184,
     "metadata": {},
     "output_type": "execute_result"
    }
   ],
   "source": [
    "#Create Home errors dataframe\n",
    "homeErrors = homeTeamSorted['home_team_errors']/81\n",
    "homeErrors.head()"
   ]
  },
  {
   "cell_type": "code",
   "execution_count": 185,
   "metadata": {},
   "outputs": [
    {
     "data": {
      "text/plain": [
       "away_team\n",
       "Arizona Diamondbacks    0.728395\n",
       "Atlanta Braves          0.506173\n",
       "Baltimore Orioles       0.506173\n",
       "Boston Red Sox          0.432099\n",
       "Chicago Cubs            0.666667\n",
       "Name: away_team_errors, dtype: float64"
      ]
     },
     "execution_count": 185,
     "metadata": {},
     "output_type": "execute_result"
    }
   ],
   "source": [
    "#Create away errors dataframe\n",
    "awayErrors = awayTeamSorted['away_team_errors']/81\n",
    "awayErrors.head()"
   ]
  },
  {
   "cell_type": "code",
   "execution_count": 204,
   "metadata": {},
   "outputs": [],
   "source": [
    "#Concatenate Errors to make 1 dataframe\n",
    "errors = pd.concat([awayErrors, homeErrors], sort=True, axis = 1)\n",
    "errors.columns = ['Away Errors', 'Home Errors']\n",
    "\n",
    "#Calculate average errors on the season for all teams\n",
    "all_errors = (homeTeamSorted['home_team_errors'] + awayTeamSorted['away_team_errors'])/162\n",
    "\n",
    "##calculates difference in average errors at home/away vs average errors overall\n",
    "errors['Away Error Diff'] = errors['Away Errors'] - all_errors\n",
    "errors['Home Error Diff'] = errors['Home Errors'] - all_errors\n",
    "\n",
    "#drop unnecessary columns\n",
    "errors = errors.drop(columns=['Away Errors', 'Home Errors'])"
   ]
  },
  {
   "cell_type": "code",
   "execution_count": 202,
   "metadata": {},
   "outputs": [
    {
     "data": {
      "text/plain": [
       "Text(0, 0.5, 'Avg Errors')"
      ]
     },
     "execution_count": 202,
     "metadata": {},
     "output_type": "execute_result"
    },
    {
     "data": {
      "image/png": "[encoded data removed]",
      "text/plain": [
       "<Figure size 1440x576 with 1 Axes>"
      ]
     },
     "metadata": {
      "needs_background": "light"
     },
     "output_type": "display_data"
    }
   ],
   "source": [
    "# Plot bar chart to compare home/away error differential \n",
    "errorPlot = errors.plot.bar(figsize=(20,8))\n",
    "errorPlot.set_ylabel(\"Avg Errors\")"
   ]
  },
  {
   "cell_type": "code",
   "execution_count": 205,
   "metadata": {},
   "outputs": [
    {
     "data": {
      "text/plain": [
       "-0.0447530864197531"
      ]
     },
     "execution_count": 205,
     "metadata": {},
     "output_type": "execute_result"
    }
   ],
   "source": [
    "'''16 teams averaged less TO's at home compared to their overall average TO on the season, for an overall \n",
    "difference of 0.045 less TO's'''\n",
    "errors.loc[errors['Home Error Diff'] < 0].mean()['Home Error Diff']"
   ]
  },
  {
   "cell_type": "code",
   "execution_count": 206,
   "metadata": {},
   "outputs": [
    {
     "data": {
      "text/plain": [
       "-0.06430041152263377"
      ]
     },
     "execution_count": 206,
     "metadata": {},
     "output_type": "execute_result"
    }
   ],
   "source": [
    "'''9 teams averaged less TO's on the road compared to their overall average TO on the season, for an overall \n",
    "difference of 0.064 less TO's'''\n",
    "errors.loc[errors['Away Error Diff'] < 0].mean()['Away Error Diff']"
   ]
  },
  {
   "cell_type": "code",
   "execution_count": 207,
   "metadata": {},
   "outputs": [
    {
     "data": {
      "text/plain": [
       "Ttest_indResult(statistic=-0.8832390343925832, pvalue=0.3893052455341175)"
      ]
     },
     "execution_count": 207,
     "metadata": {},
     "output_type": "execute_result"
    }
   ],
   "source": [
    "'''There are 16 teams that average less TO's at home than they do on the season, and 9 that average less \n",
    "TO's away than they do on the season. The null hypothesis states that there is no significant difference\n",
    "between the home error differential and the away error differential. When running the t-test for a significant \n",
    "difference between the TO differences, I got a p-value of 0.389, which is greater than 0.05. Therefore, \n",
    "we cannot reject the null hypothesis. We cannot say that errors are less frequent at home due to home court \n",
    "advantage.'''\n",
    "\n",
    "stats.ttest_ind(errors.loc[errors['Away Error Diff'] < 0]['Away Error Diff'], \n",
    "                errors.loc[errors['Home Error Diff'] < 0]['Home Error Diff'], equal_var=False)"
   ]
  },
  {
   "cell_type": "markdown",
   "metadata": {},
   "source": [
    "# Ethics & Privacy"
   ]
  },
  {
   "cell_type": "markdown",
   "metadata": {},
   "source": [
    "We had originally thought that we didn’t have any ethical issues to consider given that most of our data was public. Our data was still collected from public sites, primarily sources from  Sport Reference<sup>1</sup> pages. The data they have collected are contributed to by various sport statisticians and contributing sports databases. This means the information should be credible. Also, data from large samples is usually of higher quality and represents bigger, more general populations, in this case sports teams and overall leagues. Additionally, the data we are collecting is factual data from sporting events that can be confirmed through their scores online and through review of the live games.\n",
    "\n",
    "Going through the project we realized that there was an ethical issue that we wanted to consider namely that of referee biases in the games across all three different sports. The referee bias is a concern mostly by the fans but is also shared by other groups who have investigated the issue to try and proof or disproof the “conspiracy” that there exists such bias in the sports. In the NFL, Thin Air<sup>2</sup> suggest that there is no such thing simply because “When looking at the numbers, there is a distribution between the number of games that fans think are being favored but in reality, they’re not being favored. There is also an idea that there is no way that 32 different owners would agree to this conspiracy and agree to purposely lose some games or agree to refs being biased in certain games.” WTOP<sup>3</sup> suggests the opposite stating that there is such a thing as referee bias but the way they get around it is by calling it “working the ref.” Furthermore, the authors believe that crowd noise influences the refs decision on certain plays. He states that they “analyzed every regular-season play between 2010 and 2014 and found that defensive pass interference, and other aggressive penalties such as personal fouls, unsportsmanlike conduct and horse-collar tackles, were called significantly more often when plays were run toward the side of the field housing the offensive bench than the defense’s.” And the opposite was true, on running plays, offensive holding penalties were called more frequently on plays run toward the defensive bench’s side of the field.\n",
    "\n",
    "In baseball, a similar vibe to the latter article above was shown. The author<sup>4</sup> explains that “In 2018, MLB umpires, made 34,294 incorrect ball and strike calls for an average of 14 per game or 1.6 per inning. In 2018, a total of 55 games were ended when umpires made incorrect calls.” This a relative big number given that there are no regulations at all that punish the ref or umpires as they are called for making these mistakes. In fact, the more experienced refs earn way more than the younger, less experienced refs but the ones with more experience are the ones making more of the incorrect calls but are still getting paid more and enjoying more benefits paid by the league.\n",
    "\n",
    "In basketball the referee bias was a little more clear. NashVille Post<sup>5</sup> informs that “Teams from the HBCU schools were called for an average of 18.91 personal fouls per game, well above the average of 17.15 from predominantly white institutions (PWI). All 23 HBCU programs had more fouls called than the overall average.” There seems to be a bias here and it goes further than just liking one team over the other. In this case, the bias goes into cultural views giving teams from schools originally intended for African-Americans a disadvantage.\n",
    "\n",
    "We consider this to be an ethical issue because it is a variable in the winning odds of certain teams. We also considered this an ethical issue because the referee biased affects more people than we think. the author explains “These controllable errors<sup>4</sup> impact players, managers, batters, pitchers, performance statistics, game outcomes, and even the big business of fantasy baseball. They shorten careers and diminish fan experience. Pace of play is also impeded.” Even the fantasy sports are affected by these incorrect calls leading people to lose since their players perform based on the statistics that the ref gives them during the real live game.  The argument continues and although there is some data to suggest that the referee bias exists, the corporations, coaches, teams, and others involved in the league do not admit this to be 100% true. However, there are certain scandals that raise the question; scandals like Tim Donaghy<sup>6</sup>, an ex referee in the NBA who reffed for 13 seasons and officiated in 772 regular season games and 20 playoff games, was fixing games for money. Thus, we had to consider this ethical issue in our project.\n",
    "\n",
    "References\n",
    "- 1) https://www.sports-reference.com/\n",
    "- 2) https://in-thinair.com/2017/10/27/bias-in-nfl-referees/\n",
    "- 3) https://wtop.com/nfl/2017/01/whose-side-nfl-referees-make-big-difference/\n",
    "- 4) https://www.bu.edu/today/2019/mlb-umpires-strike-zone-accuracy/\n",
    "- 5) https://www.nashvillepost.com/sports/sports-business/blog/21025582/mtsu-study-finds-bias-in-basketball-officiating\n",
    "- 6) https://www.espn.com/nba/story/_/id/25980368/how-former-ref-tim-donaghy-conspired-fix-nba-games"
   ]
  },
  {
   "cell_type": "markdown",
   "metadata": {},
   "source": [
    "# Conclusion & Discussion"
   ]
  },
  {
   "cell_type": "markdown",
   "metadata": {},
   "source": []
  }
 ],
 "metadata": {
  "kernelspec": {
   "display_name": "Python 3",
   "language": "python",
   "name": "python3"
  },
  "language_info": {
   "codemirror_mode": {
    "name": "ipython",
    "version": 3
   },
   "file_extension": ".py",
   "mimetype": "text/x-python",
   "name": "python",
   "nbconvert_exporter": "python",
   "pygments_lexer": "ipython3",
   "version": "3.7.3"
  }
 },
 "nbformat": 4,
 "nbformat_minor": 2
}
