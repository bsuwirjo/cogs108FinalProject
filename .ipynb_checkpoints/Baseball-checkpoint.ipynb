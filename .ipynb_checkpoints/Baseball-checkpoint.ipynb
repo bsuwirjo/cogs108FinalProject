{
 "cells": [
  {
   "cell_type": "markdown",
   "metadata": {},
   "source": [
    "# Cogs 108 Final Project\n",
    "\n",
    "Bernard Suwirjo\n",
    "\n",
    "Ben Hazarian\n",
    "\n",
    "Cesar Reyes\n",
    "\n",
    "Eric Jiang\n",
    "\n",
    "Gauthier Pred'Astor Gris"
   ]
  },
  {
   "cell_type": "code",
   "execution_count": 1,
   "metadata": {},
   "outputs": [],
   "source": [
    "# Necessary Imports\n",
    "import numpy as np\n",
    "import pandas as pd\n",
    "import matplotlib.pyplot as plt\n",
    "from scipy import stats\n",
    "\n",
    "# Display plots directly in the notebook instead of in a new window\n",
    "%matplotlib inline"
   ]
  },
  {
   "cell_type": "code",
   "execution_count": 2,
   "metadata": {},
   "outputs": [],
   "source": [
    "# Load Datasets\n",
    "\n",
    "# Baseball Dataset\n",
    "data = pd.read_csv('data/baseball2016-2017.csv')"
   ]
  },
  {
   "cell_type": "code",
   "execution_count": 3,
   "metadata": {
    "scrolled": true
   },
   "outputs": [
    {
     "data": {
      "text/html": [
       "<div>\n",
       "<style scoped>\n",
       "    .dataframe tbody tr th:only-of-type {\n",
       "        vertical-align: middle;\n",
       "    }\n",
       "\n",
       "    .dataframe tbody tr th {\n",
       "        vertical-align: top;\n",
       "    }\n",
       "\n",
       "    .dataframe thead th {\n",
       "        text-align: right;\n",
       "    }\n",
       "</style>\n",
       "<table border=\"1\" class=\"dataframe\">\n",
       "  <thead>\n",
       "    <tr style=\"text-align: right;\">\n",
       "      <th></th>\n",
       "      <th>away_team</th>\n",
       "      <th>away_team_errors</th>\n",
       "      <th>away_team_hits</th>\n",
       "      <th>away_team_runs</th>\n",
       "      <th>home_team</th>\n",
       "      <th>home_team_errors</th>\n",
       "      <th>home_team_hits</th>\n",
       "      <th>home_team_runs</th>\n",
       "      <th>total_runs</th>\n",
       "      <th>home_team_win</th>\n",
       "      <th>home_team_loss</th>\n",
       "      <th>home_team_outcome</th>\n",
       "    </tr>\n",
       "  </thead>\n",
       "  <tbody>\n",
       "    <tr>\n",
       "      <th>0</th>\n",
       "      <td>New York Mets</td>\n",
       "      <td>1</td>\n",
       "      <td>7</td>\n",
       "      <td>3</td>\n",
       "      <td>Kansas City Royals</td>\n",
       "      <td>0</td>\n",
       "      <td>9</td>\n",
       "      <td>4</td>\n",
       "      <td>7</td>\n",
       "      <td>1</td>\n",
       "      <td>0</td>\n",
       "      <td>Win</td>\n",
       "    </tr>\n",
       "    <tr>\n",
       "      <th>1</th>\n",
       "      <td>Philadelphia Phillies</td>\n",
       "      <td>0</td>\n",
       "      <td>5</td>\n",
       "      <td>2</td>\n",
       "      <td>Cincinnati Reds</td>\n",
       "      <td>0</td>\n",
       "      <td>8</td>\n",
       "      <td>3</td>\n",
       "      <td>5</td>\n",
       "      <td>1</td>\n",
       "      <td>0</td>\n",
       "      <td>Win</td>\n",
       "    </tr>\n",
       "    <tr>\n",
       "      <th>2</th>\n",
       "      <td>Minnesota Twins</td>\n",
       "      <td>0</td>\n",
       "      <td>5</td>\n",
       "      <td>2</td>\n",
       "      <td>Baltimore Orioles</td>\n",
       "      <td>0</td>\n",
       "      <td>9</td>\n",
       "      <td>4</td>\n",
       "      <td>6</td>\n",
       "      <td>1</td>\n",
       "      <td>0</td>\n",
       "      <td>Win</td>\n",
       "    </tr>\n",
       "    <tr>\n",
       "      <th>3</th>\n",
       "      <td>Washington Nationals</td>\n",
       "      <td>0</td>\n",
       "      <td>8</td>\n",
       "      <td>3</td>\n",
       "      <td>Atlanta Braves</td>\n",
       "      <td>1</td>\n",
       "      <td>8</td>\n",
       "      <td>1</td>\n",
       "      <td>4</td>\n",
       "      <td>0</td>\n",
       "      <td>1</td>\n",
       "      <td>Loss</td>\n",
       "    </tr>\n",
       "    <tr>\n",
       "      <th>4</th>\n",
       "      <td>Colorado Rockies</td>\n",
       "      <td>1</td>\n",
       "      <td>8</td>\n",
       "      <td>4</td>\n",
       "      <td>Arizona Diamondbacks</td>\n",
       "      <td>0</td>\n",
       "      <td>8</td>\n",
       "      <td>3</td>\n",
       "      <td>7</td>\n",
       "      <td>0</td>\n",
       "      <td>1</td>\n",
       "      <td>Loss</td>\n",
       "    </tr>\n",
       "  </tbody>\n",
       "</table>\n",
       "</div>"
      ],
      "text/plain": [
       "               away_team  away_team_errors  away_team_hits  away_team_runs  \\\n",
       "0          New York Mets                 1               7               3   \n",
       "1  Philadelphia Phillies                 0               5               2   \n",
       "2        Minnesota Twins                 0               5               2   \n",
       "3   Washington Nationals                 0               8               3   \n",
       "4       Colorado Rockies                 1               8               4   \n",
       "\n",
       "              home_team  home_team_errors  home_team_hits  home_team_runs  \\\n",
       "0    Kansas City Royals                 0               9               4   \n",
       "1       Cincinnati Reds                 0               8               3   \n",
       "2     Baltimore Orioles                 0               9               4   \n",
       "3        Atlanta Braves                 1               8               1   \n",
       "4  Arizona Diamondbacks                 0               8               3   \n",
       "\n",
       "   total_runs  home_team_win  home_team_loss home_team_outcome  \n",
       "0           7              1               0               Win  \n",
       "1           5              1               0               Win  \n",
       "2           6              1               0               Win  \n",
       "3           4              0               1              Loss  \n",
       "4           7              0               1              Loss  "
      ]
     },
     "execution_count": 3,
     "metadata": {},
     "output_type": "execute_result"
    }
   ],
   "source": [
    "#Drop postseason games\n",
    "data = data[data['season'] != \"post season\"]\n",
    "\n",
    "#Drop columns that don't have effect\n",
    "data = data.drop(\"temperature\", axis=1)\n",
    "data = data.drop(\"wind_speed\", axis=1)\n",
    "data = data.drop(\"sky\", axis=1)\n",
    "data = data.drop(\"game_hours_dec\", axis=1)\n",
    "data = data.drop(\"wind_direction\", axis=1)\n",
    "data = data.drop(\"season\", axis=1)\n",
    "data = data.drop(\"game_type\", axis=1)\n",
    "data = data.drop(\"date\", axis=1)\n",
    "data = data.drop(\"day_of_week\", axis=1)\n",
    "data = data.drop(\"start_time\", axis=1)\n",
    "data = data.drop(\"venue\", axis=1)\n",
    "data = data.drop(\"field_type\", axis=1)\n",
    "\n",
    "#Drop teams because not looking individually\n",
    "#data = data.drop(\"away_team\", axis=1)\n",
    "#data = data.drop(\"home_team\", axis=1)\n",
    "data = data.drop(\"attendance\", axis=1)\n",
    "\n",
    "\n",
    "data = data.drop(data.columns[0], axis=1)\n",
    "data.head()"
   ]
  },
  {
   "cell_type": "code",
   "execution_count": 4,
   "metadata": {},
   "outputs": [],
   "source": [
    "# Get averages of all stats\n",
    "avgAwayErrors = data[\"away_team_errors\"].mean()\n",
    "avgAwayHits = data[\"away_team_hits\"].mean()\n",
    "avgAwayRuns = data[\"away_team_runs\"].mean()\n",
    "\n",
    "avgHomeErrors = data[\"home_team_errors\"].mean()\n",
    "avgHomeHits = data[\"home_team_hits\"].mean()\n",
    "avgHomeRuns = data[\"home_team_runs\"].mean()"
   ]
  },
  {
   "cell_type": "code",
   "execution_count": 5,
   "metadata": {},
   "outputs": [
    {
     "data": {
      "text/html": [
       "<div>\n",
       "<style scoped>\n",
       "    .dataframe tbody tr th:only-of-type {\n",
       "        vertical-align: middle;\n",
       "    }\n",
       "\n",
       "    .dataframe tbody tr th {\n",
       "        vertical-align: top;\n",
       "    }\n",
       "\n",
       "    .dataframe thead th {\n",
       "        text-align: right;\n",
       "    }\n",
       "</style>\n",
       "<table border=\"1\" class=\"dataframe\">\n",
       "  <thead>\n",
       "    <tr style=\"text-align: right;\">\n",
       "      <th></th>\n",
       "      <th>away_team_errors</th>\n",
       "      <th>away_team_hits</th>\n",
       "      <th>away_team_runs</th>\n",
       "      <th>home_team_errors</th>\n",
       "      <th>home_team_hits</th>\n",
       "      <th>home_team_runs</th>\n",
       "      <th>total_runs</th>\n",
       "      <th>home_team_win</th>\n",
       "      <th>home_team_loss</th>\n",
       "    </tr>\n",
       "    <tr>\n",
       "      <th>home_team</th>\n",
       "      <th></th>\n",
       "      <th></th>\n",
       "      <th></th>\n",
       "      <th></th>\n",
       "      <th></th>\n",
       "      <th></th>\n",
       "      <th></th>\n",
       "      <th></th>\n",
       "      <th></th>\n",
       "    </tr>\n",
       "  </thead>\n",
       "  <tbody>\n",
       "    <tr>\n",
       "      <th>Arizona Diamondbacks</th>\n",
       "      <td>50</td>\n",
       "      <td>855</td>\n",
       "      <td>493</td>\n",
       "      <td>42</td>\n",
       "      <td>765</td>\n",
       "      <td>411</td>\n",
       "      <td>904</td>\n",
       "      <td>33</td>\n",
       "      <td>48</td>\n",
       "    </tr>\n",
       "    <tr>\n",
       "      <th>Atlanta Braves</th>\n",
       "      <td>58</td>\n",
       "      <td>712</td>\n",
       "      <td>404</td>\n",
       "      <td>60</td>\n",
       "      <td>712</td>\n",
       "      <td>335</td>\n",
       "      <td>739</td>\n",
       "      <td>31</td>\n",
       "      <td>50</td>\n",
       "    </tr>\n",
       "    <tr>\n",
       "      <th>Baltimore Orioles</th>\n",
       "      <td>42</td>\n",
       "      <td>699</td>\n",
       "      <td>336</td>\n",
       "      <td>39</td>\n",
       "      <td>688</td>\n",
       "      <td>376</td>\n",
       "      <td>712</td>\n",
       "      <td>50</td>\n",
       "      <td>31</td>\n",
       "    </tr>\n",
       "    <tr>\n",
       "      <th>Boston Red Sox</th>\n",
       "      <td>50</td>\n",
       "      <td>734</td>\n",
       "      <td>380</td>\n",
       "      <td>40</td>\n",
       "      <td>845</td>\n",
       "      <td>477</td>\n",
       "      <td>857</td>\n",
       "      <td>47</td>\n",
       "      <td>34</td>\n",
       "    </tr>\n",
       "    <tr>\n",
       "      <th>Chicago Cubs</th>\n",
       "      <td>40</td>\n",
       "      <td>546</td>\n",
       "      <td>247</td>\n",
       "      <td>47</td>\n",
       "      <td>674</td>\n",
       "      <td>389</td>\n",
       "      <td>636</td>\n",
       "      <td>57</td>\n",
       "      <td>24</td>\n",
       "    </tr>\n",
       "  </tbody>\n",
       "</table>\n",
       "</div>"
      ],
      "text/plain": [
       "                      away_team_errors  away_team_hits  away_team_runs  \\\n",
       "home_team                                                                \n",
       "Arizona Diamondbacks                50             855             493   \n",
       "Atlanta Braves                      58             712             404   \n",
       "Baltimore Orioles                   42             699             336   \n",
       "Boston Red Sox                      50             734             380   \n",
       "Chicago Cubs                        40             546             247   \n",
       "\n",
       "                      home_team_errors  home_team_hits  home_team_runs  \\\n",
       "home_team                                                                \n",
       "Arizona Diamondbacks                42             765             411   \n",
       "Atlanta Braves                      60             712             335   \n",
       "Baltimore Orioles                   39             688             376   \n",
       "Boston Red Sox                      40             845             477   \n",
       "Chicago Cubs                        47             674             389   \n",
       "\n",
       "                      total_runs  home_team_win  home_team_loss  \n",
       "home_team                                                        \n",
       "Arizona Diamondbacks         904             33              48  \n",
       "Atlanta Braves               739             31              50  \n",
       "Baltimore Orioles            712             50              31  \n",
       "Boston Red Sox               857             47              34  \n",
       "Chicago Cubs                 636             57              24  "
      ]
     },
     "execution_count": 5,
     "metadata": {},
     "output_type": "execute_result"
    }
   ],
   "source": [
    "homeTeamSorted = data.groupby('home_team').sum()\n",
    "homeTeamSorted.head()"
   ]
  },
  {
   "cell_type": "code",
   "execution_count": 6,
   "metadata": {},
   "outputs": [
    {
     "data": {
      "text/plain": [
       "home_team\n",
       "Arizona Diamondbacks             0.407407\n",
       "Atlanta Braves                   0.382716\n",
       "Baltimore Orioles                0.617284\n",
       "Boston Red Sox                   0.580247\n",
       "Chicago Cubs                     0.703704\n",
       "Chicago White Sox                0.555556\n",
       "Cincinnati Reds                  0.469136\n",
       "Cleveland Indians                0.654321\n",
       "Colorado Rockies                 0.518519\n",
       "Detroit Tigers                   0.555556\n",
       "Houston Astros                   0.530864\n",
       "Kansas City Royals               0.580247\n",
       "Los Angeles Angels of Anaheim    0.493827\n",
       "Los Angeles Dodgers              0.654321\n",
       "Miami Marlins                    0.493827\n",
       "Milwaukee Brewers                0.506173\n",
       "Minnesota Twins                  0.370370\n",
       "New York Mets                    0.543210\n",
       "New York Yankees                 0.592593\n",
       "Oakland Athletics                0.419753\n",
       "Philadelphia Phillies            0.456790\n",
       "Pittsburgh Pirates               0.469136\n",
       "San Diego Padres                 0.481481\n",
       "San Francisco Giants             0.555556\n",
       "Seattle Mariners                 0.543210\n",
       "St. Louis Cardinals              0.469136\n",
       "Tampa Bay Rays                   0.444444\n",
       "Texas Rangers                    0.654321\n",
       "Toronto Blue Jays                0.567901\n",
       "Washington Nationals             0.617284\n",
       "Name: home_team_win, dtype: float64"
      ]
     },
     "execution_count": 6,
     "metadata": {},
     "output_type": "execute_result"
    }
   ],
   "source": [
    "homeWinPercentages = homeTeamSorted['home_team_win']/81\n",
    "homeWinPercentages"
   ]
  },
  {
   "cell_type": "code",
   "execution_count": 7,
   "metadata": {},
   "outputs": [
    {
     "data": {
      "text/html": [
       "<div>\n",
       "<style scoped>\n",
       "    .dataframe tbody tr th:only-of-type {\n",
       "        vertical-align: middle;\n",
       "    }\n",
       "\n",
       "    .dataframe tbody tr th {\n",
       "        vertical-align: top;\n",
       "    }\n",
       "\n",
       "    .dataframe thead th {\n",
       "        text-align: right;\n",
       "    }\n",
       "</style>\n",
       "<table border=\"1\" class=\"dataframe\">\n",
       "  <thead>\n",
       "    <tr style=\"text-align: right;\">\n",
       "      <th></th>\n",
       "      <th>away_team_errors</th>\n",
       "      <th>away_team_hits</th>\n",
       "      <th>away_team_runs</th>\n",
       "      <th>home_team_errors</th>\n",
       "      <th>home_team_hits</th>\n",
       "      <th>home_team_runs</th>\n",
       "      <th>total_runs</th>\n",
       "      <th>home_team_win</th>\n",
       "      <th>home_team_loss</th>\n",
       "    </tr>\n",
       "    <tr>\n",
       "      <th>away_team</th>\n",
       "      <th></th>\n",
       "      <th></th>\n",
       "      <th></th>\n",
       "      <th></th>\n",
       "      <th></th>\n",
       "      <th></th>\n",
       "      <th></th>\n",
       "      <th></th>\n",
       "      <th></th>\n",
       "    </tr>\n",
       "  </thead>\n",
       "  <tbody>\n",
       "    <tr>\n",
       "      <th>Arizona Diamondbacks</th>\n",
       "      <td>59</td>\n",
       "      <td>714</td>\n",
       "      <td>341</td>\n",
       "      <td>53</td>\n",
       "      <td>708</td>\n",
       "      <td>397</td>\n",
       "      <td>738</td>\n",
       "      <td>45</td>\n",
       "      <td>36</td>\n",
       "    </tr>\n",
       "    <tr>\n",
       "      <th>Atlanta Braves</th>\n",
       "      <td>41</td>\n",
       "      <td>692</td>\n",
       "      <td>314</td>\n",
       "      <td>41</td>\n",
       "      <td>702</td>\n",
       "      <td>375</td>\n",
       "      <td>689</td>\n",
       "      <td>43</td>\n",
       "      <td>37</td>\n",
       "    </tr>\n",
       "    <tr>\n",
       "      <th>Baltimore Orioles</th>\n",
       "      <td>41</td>\n",
       "      <td>725</td>\n",
       "      <td>368</td>\n",
       "      <td>33</td>\n",
       "      <td>709</td>\n",
       "      <td>379</td>\n",
       "      <td>747</td>\n",
       "      <td>42</td>\n",
       "      <td>39</td>\n",
       "    </tr>\n",
       "    <tr>\n",
       "      <th>Boston Red Sox</th>\n",
       "      <td>35</td>\n",
       "      <td>753</td>\n",
       "      <td>401</td>\n",
       "      <td>51</td>\n",
       "      <td>608</td>\n",
       "      <td>314</td>\n",
       "      <td>715</td>\n",
       "      <td>35</td>\n",
       "      <td>46</td>\n",
       "    </tr>\n",
       "    <tr>\n",
       "      <th>Chicago Cubs</th>\n",
       "      <td>54</td>\n",
       "      <td>735</td>\n",
       "      <td>419</td>\n",
       "      <td>47</td>\n",
       "      <td>579</td>\n",
       "      <td>309</td>\n",
       "      <td>728</td>\n",
       "      <td>34</td>\n",
       "      <td>46</td>\n",
       "    </tr>\n",
       "  </tbody>\n",
       "</table>\n",
       "</div>"
      ],
      "text/plain": [
       "                      away_team_errors  away_team_hits  away_team_runs  \\\n",
       "away_team                                                                \n",
       "Arizona Diamondbacks                59             714             341   \n",
       "Atlanta Braves                      41             692             314   \n",
       "Baltimore Orioles                   41             725             368   \n",
       "Boston Red Sox                      35             753             401   \n",
       "Chicago Cubs                        54             735             419   \n",
       "\n",
       "                      home_team_errors  home_team_hits  home_team_runs  \\\n",
       "away_team                                                                \n",
       "Arizona Diamondbacks                53             708             397   \n",
       "Atlanta Braves                      41             702             375   \n",
       "Baltimore Orioles                   33             709             379   \n",
       "Boston Red Sox                      51             608             314   \n",
       "Chicago Cubs                        47             579             309   \n",
       "\n",
       "                      total_runs  home_team_win  home_team_loss  \n",
       "away_team                                                        \n",
       "Arizona Diamondbacks         738             45              36  \n",
       "Atlanta Braves               689             43              37  \n",
       "Baltimore Orioles            747             42              39  \n",
       "Boston Red Sox               715             35              46  \n",
       "Chicago Cubs                 728             34              46  "
      ]
     },
     "execution_count": 7,
     "metadata": {},
     "output_type": "execute_result"
    }
   ],
   "source": [
    "awayTeamSorted = data.groupby('away_team').sum()\n",
    "awayTeamSorted.head()"
   ]
  },
  {
   "cell_type": "code",
   "execution_count": 8,
   "metadata": {
    "scrolled": true
   },
   "outputs": [
    {
     "data": {
      "text/plain": [
       "away_team\n",
       "Arizona Diamondbacks    0.444444\n",
       "Atlanta Braves          0.456790\n",
       "Baltimore Orioles       0.481481\n",
       "Boston Red Sox          0.567901\n",
       "Chicago Cubs            0.567901\n",
       "Name: home_team_loss, dtype: float64"
      ]
     },
     "execution_count": 8,
     "metadata": {},
     "output_type": "execute_result"
    }
   ],
   "source": [
    "awayWinPercentages = awayTeamSorted['home_team_loss']/81\n",
    "awayWinPercentages.head()"
   ]
  },
  {
   "cell_type": "code",
   "execution_count": 9,
   "metadata": {},
   "outputs": [
    {
     "data": {
      "text/html": [
       "<div>\n",
       "<style scoped>\n",
       "    .dataframe tbody tr th:only-of-type {\n",
       "        vertical-align: middle;\n",
       "    }\n",
       "\n",
       "    .dataframe tbody tr th {\n",
       "        vertical-align: top;\n",
       "    }\n",
       "\n",
       "    .dataframe thead th {\n",
       "        text-align: right;\n",
       "    }\n",
       "</style>\n",
       "<table border=\"1\" class=\"dataframe\">\n",
       "  <thead>\n",
       "    <tr style=\"text-align: right;\">\n",
       "      <th></th>\n",
       "      <th>Away Wins</th>\n",
       "      <th>Home Wins</th>\n",
       "    </tr>\n",
       "  </thead>\n",
       "  <tbody>\n",
       "    <tr>\n",
       "      <th>Arizona Diamondbacks</th>\n",
       "      <td>0.444444</td>\n",
       "      <td>0.407407</td>\n",
       "    </tr>\n",
       "    <tr>\n",
       "      <th>Atlanta Braves</th>\n",
       "      <td>0.456790</td>\n",
       "      <td>0.382716</td>\n",
       "    </tr>\n",
       "    <tr>\n",
       "      <th>Baltimore Orioles</th>\n",
       "      <td>0.481481</td>\n",
       "      <td>0.617284</td>\n",
       "    </tr>\n",
       "    <tr>\n",
       "      <th>Boston Red Sox</th>\n",
       "      <td>0.567901</td>\n",
       "      <td>0.580247</td>\n",
       "    </tr>\n",
       "    <tr>\n",
       "      <th>Chicago Cubs</th>\n",
       "      <td>0.567901</td>\n",
       "      <td>0.703704</td>\n",
       "    </tr>\n",
       "  </tbody>\n",
       "</table>\n",
       "</div>"
      ],
      "text/plain": [
       "                      Away Wins  Home Wins\n",
       "Arizona Diamondbacks   0.444444   0.407407\n",
       "Atlanta Braves         0.456790   0.382716\n",
       "Baltimore Orioles      0.481481   0.617284\n",
       "Boston Red Sox         0.567901   0.580247\n",
       "Chicago Cubs           0.567901   0.703704"
      ]
     },
     "execution_count": 9,
     "metadata": {},
     "output_type": "execute_result"
    }
   ],
   "source": [
    "winPercentage = pd.concat([awayWinPercentages, homeWinPercentages], sort=True, axis = 1)\n",
    "winPercentage.columns = ['Away Wins', 'Home Wins']\n",
    "winPercentage.head()"
   ]
  },
  {
   "cell_type": "code",
   "execution_count": 10,
   "metadata": {},
   "outputs": [
    {
     "data": {
      "text/plain": [
       "Text(0, 0.5, 'Avg Score Differential in Wins')"
      ]
     },
     "execution_count": 10,
     "metadata": {},
     "output_type": "execute_result"
    },
    {
     "data": {
      "image/png": "[encoded data removed]",
      "text/plain": [
       "<Figure size 1440x576 with 1 Axes>"
      ]
     },
     "metadata": {
      "needs_background": "light"
     },
     "output_type": "display_data"
    }
   ],
   "source": [
    "winPercentagePlot = winPercentage.plot.bar(figsize=(20,8))\n",
    "winPercentagePlot.set_ylabel(\"Avg Score Differential in Wins\")"
   ]
  },
  {
   "cell_type": "markdown",
   "metadata": {},
   "source": [
    "## Score Differential"
   ]
  },
  {
   "cell_type": "code",
   "execution_count": 11,
   "metadata": {},
   "outputs": [
    {
     "name": "stderr",
     "output_type": "stream",
     "text": [
      "/home/bsuwirjo/.local/lib/python3.6/site-packages/ipykernel_launcher.py:3: SettingWithCopyWarning: \n",
      "A value is trying to be set on a copy of a slice from a DataFrame.\n",
      "Try using .loc[row_indexer,col_indexer] = value instead\n",
      "\n",
      "See the caveats in the documentation: http://pandas.pydata.org/pandas-docs/stable/indexing.html#indexing-view-versus-copy\n",
      "  This is separate from the ipykernel package so we can avoid doing imports until\n"
     ]
    },
    {
     "data": {
      "text/html": [
       "<div>\n",
       "<style scoped>\n",
       "    .dataframe tbody tr th:only-of-type {\n",
       "        vertical-align: middle;\n",
       "    }\n",
       "\n",
       "    .dataframe tbody tr th {\n",
       "        vertical-align: top;\n",
       "    }\n",
       "\n",
       "    .dataframe thead th {\n",
       "        text-align: right;\n",
       "    }\n",
       "</style>\n",
       "<table border=\"1\" class=\"dataframe\">\n",
       "  <thead>\n",
       "    <tr style=\"text-align: right;\">\n",
       "      <th></th>\n",
       "      <th>away_team</th>\n",
       "      <th>away_team_errors</th>\n",
       "      <th>away_team_hits</th>\n",
       "      <th>away_team_runs</th>\n",
       "      <th>home_team</th>\n",
       "      <th>home_team_errors</th>\n",
       "      <th>home_team_hits</th>\n",
       "      <th>home_team_runs</th>\n",
       "      <th>total_runs</th>\n",
       "      <th>home_team_win</th>\n",
       "      <th>home_team_loss</th>\n",
       "      <th>home_team_outcome</th>\n",
       "      <th>HomeScoreDiff</th>\n",
       "    </tr>\n",
       "  </thead>\n",
       "  <tbody>\n",
       "    <tr>\n",
       "      <th>0</th>\n",
       "      <td>New York Mets</td>\n",
       "      <td>1</td>\n",
       "      <td>7</td>\n",
       "      <td>3</td>\n",
       "      <td>Kansas City Royals</td>\n",
       "      <td>0</td>\n",
       "      <td>9</td>\n",
       "      <td>4</td>\n",
       "      <td>7</td>\n",
       "      <td>1</td>\n",
       "      <td>0</td>\n",
       "      <td>Win</td>\n",
       "      <td>1</td>\n",
       "    </tr>\n",
       "    <tr>\n",
       "      <th>1</th>\n",
       "      <td>Philadelphia Phillies</td>\n",
       "      <td>0</td>\n",
       "      <td>5</td>\n",
       "      <td>2</td>\n",
       "      <td>Cincinnati Reds</td>\n",
       "      <td>0</td>\n",
       "      <td>8</td>\n",
       "      <td>3</td>\n",
       "      <td>5</td>\n",
       "      <td>1</td>\n",
       "      <td>0</td>\n",
       "      <td>Win</td>\n",
       "      <td>1</td>\n",
       "    </tr>\n",
       "    <tr>\n",
       "      <th>2</th>\n",
       "      <td>Minnesota Twins</td>\n",
       "      <td>0</td>\n",
       "      <td>5</td>\n",
       "      <td>2</td>\n",
       "      <td>Baltimore Orioles</td>\n",
       "      <td>0</td>\n",
       "      <td>9</td>\n",
       "      <td>4</td>\n",
       "      <td>6</td>\n",
       "      <td>1</td>\n",
       "      <td>0</td>\n",
       "      <td>Win</td>\n",
       "      <td>2</td>\n",
       "    </tr>\n",
       "    <tr>\n",
       "      <th>6</th>\n",
       "      <td>Toronto Blue Jays</td>\n",
       "      <td>0</td>\n",
       "      <td>9</td>\n",
       "      <td>2</td>\n",
       "      <td>Tampa Bay Rays</td>\n",
       "      <td>1</td>\n",
       "      <td>7</td>\n",
       "      <td>3</td>\n",
       "      <td>5</td>\n",
       "      <td>1</td>\n",
       "      <td>0</td>\n",
       "      <td>Win</td>\n",
       "      <td>1</td>\n",
       "    </tr>\n",
       "    <tr>\n",
       "      <th>8</th>\n",
       "      <td>St. Louis Cardinals</td>\n",
       "      <td>1</td>\n",
       "      <td>8</td>\n",
       "      <td>5</td>\n",
       "      <td>Pittsburgh Pirates</td>\n",
       "      <td>2</td>\n",
       "      <td>12</td>\n",
       "      <td>6</td>\n",
       "      <td>11</td>\n",
       "      <td>1</td>\n",
       "      <td>0</td>\n",
       "      <td>Win</td>\n",
       "      <td>1</td>\n",
       "    </tr>\n",
       "  </tbody>\n",
       "</table>\n",
       "</div>"
      ],
      "text/plain": [
       "               away_team  away_team_errors  away_team_hits  away_team_runs  \\\n",
       "0          New York Mets                 1               7               3   \n",
       "1  Philadelphia Phillies                 0               5               2   \n",
       "2        Minnesota Twins                 0               5               2   \n",
       "6      Toronto Blue Jays                 0               9               2   \n",
       "8    St. Louis Cardinals                 1               8               5   \n",
       "\n",
       "            home_team  home_team_errors  home_team_hits  home_team_runs  \\\n",
       "0  Kansas City Royals                 0               9               4   \n",
       "1     Cincinnati Reds                 0               8               3   \n",
       "2   Baltimore Orioles                 0               9               4   \n",
       "6      Tampa Bay Rays                 1               7               3   \n",
       "8  Pittsburgh Pirates                 2              12               6   \n",
       "\n",
       "   total_runs  home_team_win  home_team_loss home_team_outcome  HomeScoreDiff  \n",
       "0           7              1               0               Win              1  \n",
       "1           5              1               0               Win              1  \n",
       "2           6              1               0               Win              2  \n",
       "6           5              1               0               Win              1  \n",
       "8          11              1               0               Win              1  "
      ]
     },
     "execution_count": 11,
     "metadata": {},
     "output_type": "execute_result"
    }
   ],
   "source": [
    "teamScores = data\n",
    "homeTeamScores = teamScores[teamScores['home_team_outcome'] == 'Win']\n",
    "homeTeamScores['HomeScoreDiff'] = homeTeamScores['home_team_runs'].sub(homeTeamScores['away_team_runs'], axis=0)\n",
    "homeTeamScores.head()"
   ]
  },
  {
   "cell_type": "code",
   "execution_count": 12,
   "metadata": {},
   "outputs": [
    {
     "data": {
      "text/plain": [
       "home_team\n",
       "Arizona Diamondbacks    3.424242\n",
       "Atlanta Braves          3.290323\n",
       "Baltimore Orioles       3.260000\n",
       "Boston Red Sox          4.191489\n",
       "Chicago Cubs            3.614035\n",
       "Name: HomeScoreDiff, dtype: float64"
      ]
     },
     "execution_count": 12,
     "metadata": {},
     "output_type": "execute_result"
    }
   ],
   "source": [
    "homeScoreDiff = homeTeamScores.groupby('home_team').mean()['HomeScoreDiff']\n",
    "homeScoreDiff.head()"
   ]
  },
  {
   "cell_type": "code",
   "execution_count": 13,
   "metadata": {},
   "outputs": [
    {
     "name": "stderr",
     "output_type": "stream",
     "text": [
      "/home/bsuwirjo/.local/lib/python3.6/site-packages/ipykernel_launcher.py:3: SettingWithCopyWarning: \n",
      "A value is trying to be set on a copy of a slice from a DataFrame.\n",
      "Try using .loc[row_indexer,col_indexer] = value instead\n",
      "\n",
      "See the caveats in the documentation: http://pandas.pydata.org/pandas-docs/stable/indexing.html#indexing-view-versus-copy\n",
      "  This is separate from the ipykernel package so we can avoid doing imports until\n"
     ]
    },
    {
     "data": {
      "text/plain": [
       "away_team\n",
       "Arizona Diamondbacks    3.194444\n",
       "Atlanta Braves          2.513514\n",
       "Baltimore Orioles       3.461538\n",
       "Boston Red Sox          3.956522\n",
       "Chicago Cubs            4.595745\n",
       "Name: AwayScoreDiff, dtype: float64"
      ]
     },
     "execution_count": 13,
     "metadata": {},
     "output_type": "execute_result"
    }
   ],
   "source": [
    "teamScores = data\n",
    "awayTeamScores = teamScores[teamScores['home_team_outcome'] == 'Loss']\n",
    "awayTeamScores['AwayScoreDiff'] = awayTeamScores['away_team_runs'].sub(awayTeamScores['home_team_runs'], axis=0)\n",
    "awayScoreDiff = awayTeamScores.groupby('away_team').mean()['AwayScoreDiff']\n",
    "awayScoreDiff.head()"
   ]
  },
  {
   "cell_type": "code",
   "execution_count": 14,
   "metadata": {
    "scrolled": true
   },
   "outputs": [
    {
     "data": {
      "text/html": [
       "<div>\n",
       "<style scoped>\n",
       "    .dataframe tbody tr th:only-of-type {\n",
       "        vertical-align: middle;\n",
       "    }\n",
       "\n",
       "    .dataframe tbody tr th {\n",
       "        vertical-align: top;\n",
       "    }\n",
       "\n",
       "    .dataframe thead th {\n",
       "        text-align: right;\n",
       "    }\n",
       "</style>\n",
       "<table border=\"1\" class=\"dataframe\">\n",
       "  <thead>\n",
       "    <tr style=\"text-align: right;\">\n",
       "      <th></th>\n",
       "      <th>Away Score Diff</th>\n",
       "      <th>Home Score Diff</th>\n",
       "    </tr>\n",
       "  </thead>\n",
       "  <tbody>\n",
       "    <tr>\n",
       "      <th>Arizona Diamondbacks</th>\n",
       "      <td>3.194444</td>\n",
       "      <td>3.424242</td>\n",
       "    </tr>\n",
       "    <tr>\n",
       "      <th>Atlanta Braves</th>\n",
       "      <td>2.513514</td>\n",
       "      <td>3.290323</td>\n",
       "    </tr>\n",
       "    <tr>\n",
       "      <th>Baltimore Orioles</th>\n",
       "      <td>3.461538</td>\n",
       "      <td>3.260000</td>\n",
       "    </tr>\n",
       "    <tr>\n",
       "      <th>Boston Red Sox</th>\n",
       "      <td>3.956522</td>\n",
       "      <td>4.191489</td>\n",
       "    </tr>\n",
       "    <tr>\n",
       "      <th>Chicago Cubs</th>\n",
       "      <td>4.595745</td>\n",
       "      <td>3.614035</td>\n",
       "    </tr>\n",
       "  </tbody>\n",
       "</table>\n",
       "</div>"
      ],
      "text/plain": [
       "                      Away Score Diff  Home Score Diff\n",
       "Arizona Diamondbacks         3.194444         3.424242\n",
       "Atlanta Braves               2.513514         3.290323\n",
       "Baltimore Orioles            3.461538         3.260000\n",
       "Boston Red Sox               3.956522         4.191489\n",
       "Chicago Cubs                 4.595745         3.614035"
      ]
     },
     "execution_count": 14,
     "metadata": {},
     "output_type": "execute_result"
    }
   ],
   "source": [
    "scoreDiff = pd.concat([awayScoreDiff, homeScoreDiff], sort=True, axis = 1)\n",
    "scoreDiff.columns = ['Away Score Diff', 'Home Score Diff']\n",
    "scoreDiff.head()"
   ]
  },
  {
   "cell_type": "code",
   "execution_count": 15,
   "metadata": {},
   "outputs": [
    {
     "data": {
      "text/plain": [
       "Text(0, 0.5, 'Avg Score Differential in Wins')"
      ]
     },
     "execution_count": 15,
     "metadata": {},
     "output_type": "execute_result"
    },
    {
     "data": {
      "image/png": "[encoded data removed]",
      "text/plain": [
       "<Figure size 1440x576 with 1 Axes>"
      ]
     },
     "metadata": {
      "needs_background": "light"
     },
     "output_type": "display_data"
    }
   ],
   "source": [
    "score_diff = scoreDiff.plot.bar(figsize=(20,8))\n",
    "score_diff.set_ylabel(\"Avg Score Differential in Wins\")"
   ]
  },
  {
   "cell_type": "code",
   "execution_count": 16,
   "metadata": {},
   "outputs": [
    {
     "name": "stdout",
     "output_type": "stream",
     "text": [
      "Number of teams that have greater score diffferential in home wins then away:  13\n"
     ]
    }
   ],
   "source": [
    "print(\"Number of teams that have greater score diffferential in home wins then away: \", len(scoreDiff.loc[scoreDiff['Home Score Diff'] > scoreDiff['Away Score Diff']]))"
   ]
  },
  {
   "cell_type": "code",
   "execution_count": 17,
   "metadata": {},
   "outputs": [
    {
     "name": "stdout",
     "output_type": "stream",
     "text": [
      "Average Home Win Difference 0.31011882708785476\n"
     ]
    }
   ],
   "source": [
    "homeGreater = scoreDiff.loc[scoreDiff['Home Score Diff'] > scoreDiff['Away Score Diff']]\n",
    "averageDiff = homeGreater['Home Score Diff'].mean() - homeGreater['Away Score Diff'].mean()\n",
    "print(\"Average Home Win Difference\", averageDiff)"
   ]
  },
  {
   "cell_type": "code",
   "execution_count": 18,
   "metadata": {},
   "outputs": [
    {
     "data": {
      "text/plain": [
       "Ttest_indResult(statistic=-1.7972045180290446, pvalue=0.07779432552110915)"
      ]
     },
     "execution_count": 18,
     "metadata": {},
     "output_type": "execute_result"
    }
   ],
   "source": [
    "stats.ttest_ind(scoreDiff['Home Score Diff'], scoreDiff['Away Score Diff'], equal_var = False)"
   ]
  },
  {
   "cell_type": "markdown",
   "metadata": {},
   "source": [
    "When comparing the teams, 13 teams out of 30 teams have a greater score differential in home wins than away. The average difference in score for those 13 teams is .3101.\n",
    "\n",
    "\n",
    "We ran a t-test using a confidence interval of .05. We obtained a p value of .07 so we fail to reject the null hypothes. Therefor we can say there is no significant difference between home and away score differentials. "
   ]
  },
  {
   "cell_type": "code",
   "execution_count": 20,
   "metadata": {},
   "outputs": [
    {
     "data": {
      "text/plain": [
       "home_team\n",
       "Arizona Diamondbacks    0.518519\n",
       "Atlanta Braves          0.740741\n",
       "Baltimore Orioles       0.481481\n",
       "Boston Red Sox          0.493827\n",
       "Chicago Cubs            0.580247\n",
       "Name: home_team_errors, dtype: float64"
      ]
     },
     "execution_count": 20,
     "metadata": {},
     "output_type": "execute_result"
    }
   ],
   "source": [
    "homeErrors = homeTeamSorted['home_team_errors']/81\n",
    "homeErrors.head()"
   ]
  },
  {
   "cell_type": "code",
   "execution_count": 22,
   "metadata": {},
   "outputs": [
    {
     "data": {
      "text/plain": [
       "away_team\n",
       "Arizona Diamondbacks    0.728395\n",
       "Atlanta Braves          0.506173\n",
       "Baltimore Orioles       0.506173\n",
       "Boston Red Sox          0.432099\n",
       "Chicago Cubs            0.666667\n",
       "Name: away_team_errors, dtype: float64"
      ]
     },
     "execution_count": 22,
     "metadata": {},
     "output_type": "execute_result"
    }
   ],
   "source": [
    "awayErrors = awayTeamSorted['away_team_errors']/81\n",
    "awayErrors.head()"
   ]
  },
  {
   "cell_type": "code",
   "execution_count": 24,
   "metadata": {},
   "outputs": [
    {
     "data": {
      "text/html": [
       "<div>\n",
       "<style scoped>\n",
       "    .dataframe tbody tr th:only-of-type {\n",
       "        vertical-align: middle;\n",
       "    }\n",
       "\n",
       "    .dataframe tbody tr th {\n",
       "        vertical-align: top;\n",
       "    }\n",
       "\n",
       "    .dataframe thead th {\n",
       "        text-align: right;\n",
       "    }\n",
       "</style>\n",
       "<table border=\"1\" class=\"dataframe\">\n",
       "  <thead>\n",
       "    <tr style=\"text-align: right;\">\n",
       "      <th></th>\n",
       "      <th>Away Errors</th>\n",
       "      <th>Home Errors</th>\n",
       "    </tr>\n",
       "  </thead>\n",
       "  <tbody>\n",
       "    <tr>\n",
       "      <th>Arizona Diamondbacks</th>\n",
       "      <td>0.728395</td>\n",
       "      <td>0.518519</td>\n",
       "    </tr>\n",
       "    <tr>\n",
       "      <th>Atlanta Braves</th>\n",
       "      <td>0.506173</td>\n",
       "      <td>0.740741</td>\n",
       "    </tr>\n",
       "    <tr>\n",
       "      <th>Baltimore Orioles</th>\n",
       "      <td>0.506173</td>\n",
       "      <td>0.481481</td>\n",
       "    </tr>\n",
       "    <tr>\n",
       "      <th>Boston Red Sox</th>\n",
       "      <td>0.432099</td>\n",
       "      <td>0.493827</td>\n",
       "    </tr>\n",
       "    <tr>\n",
       "      <th>Chicago Cubs</th>\n",
       "      <td>0.666667</td>\n",
       "      <td>0.580247</td>\n",
       "    </tr>\n",
       "  </tbody>\n",
       "</table>\n",
       "</div>"
      ],
      "text/plain": [
       "                      Away Errors  Home Errors\n",
       "Arizona Diamondbacks     0.728395     0.518519\n",
       "Atlanta Braves           0.506173     0.740741\n",
       "Baltimore Orioles        0.506173     0.481481\n",
       "Boston Red Sox           0.432099     0.493827\n",
       "Chicago Cubs             0.666667     0.580247"
      ]
     },
     "execution_count": 24,
     "metadata": {},
     "output_type": "execute_result"
    }
   ],
   "source": [
    "errors = pd.concat([awayErrors, homeErrors], sort=True, axis = 1)\n",
    "errors.columns = ['Away Errors', 'Home Errors']\n",
    "errors.head()"
   ]
  },
  {
   "cell_type": "code",
   "execution_count": null,
   "metadata": {},
   "outputs": [],
   "source": [
    "errorPlot = scoreDiff.plot.bar(figsize=(20,8))\n",
    "errorPlot.set_ylabel(\"Avg Errors\")"
   ]
  }
 ],
 "metadata": {
  "kernelspec": {
   "display_name": "Python 3",
   "language": "python",
   "name": "python3"
  },
  "language_info": {
   "codemirror_mode": {
    "name": "ipython",
    "version": 3
   },
   "file_extension": ".py",
   "mimetype": "text/x-python",
   "name": "python",
   "nbconvert_exporter": "python",
   "pygments_lexer": "ipython3",
   "version": "3.6.7"
  }
 },
 "nbformat": 4,
 "nbformat_minor": 2
}
