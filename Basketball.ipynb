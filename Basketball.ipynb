{
 "cells": [
  {
   "cell_type": "markdown",
   "metadata": {},
   "source": [
    "# Cogs 108 Final Project\n",
    "\n",
    "Bernard Suwirjo\n",
    "\n",
    "Ben Hazarian\n",
    "\n",
    "Cesar Reyes\n",
    "\n",
    "Eric Jiang\n",
    "\n",
    "Gauthier Pred'Astor Gris"
   ]
  },
  {
   "cell_type": "code",
   "execution_count": 2,
   "metadata": {},
   "outputs": [],
   "source": [
    "# Necessary Imports\n",
    "import numpy as np\n",
    "import pandas as pd\n",
    "import matplotlib.pyplot as plt\n",
    "from scipy import stats\n",
    "# Display plots directly in the notebook instead of in a new window\n",
    "%matplotlib inline"
   ]
  },
  {
   "cell_type": "code",
   "execution_count": 3,
   "metadata": {},
   "outputs": [],
   "source": [
    "# Load Datasets\n",
    "\n",
    "# Basketball Dataset\n",
    "nba_data = pd.read_csv('data/nba.games.stats.csv')"
   ]
  },
  {
   "cell_type": "code",
   "execution_count": 4,
   "metadata": {},
   "outputs": [],
   "source": [
    "nba_data['Date'] = pd.to_datetime(nba_data['Date'])"
   ]
  },
  {
   "cell_type": "code",
   "execution_count": 5,
   "metadata": {},
   "outputs": [
    {
     "data": {
      "text/html": [
       "<div>\n",
       "<style scoped>\n",
       "    .dataframe tbody tr th:only-of-type {\n",
       "        vertical-align: middle;\n",
       "    }\n",
       "\n",
       "    .dataframe tbody tr th {\n",
       "        vertical-align: top;\n",
       "    }\n",
       "\n",
       "    .dataframe thead th {\n",
       "        text-align: right;\n",
       "    }\n",
       "</style>\n",
       "<table border=\"1\" class=\"dataframe\">\n",
       "  <thead>\n",
       "    <tr style=\"text-align: right;\">\n",
       "      <th></th>\n",
       "      <th>Team</th>\n",
       "      <th>Game</th>\n",
       "      <th>Home</th>\n",
       "      <th>Opponent</th>\n",
       "      <th>WINorLOSS</th>\n",
       "      <th>TeamPoints</th>\n",
       "      <th>OpponentPoints</th>\n",
       "      <th>FieldGoals</th>\n",
       "      <th>FieldGoalsAttempted</th>\n",
       "      <th>FieldGoals.</th>\n",
       "      <th>...</th>\n",
       "      <th>Opp.FreeThrows</th>\n",
       "      <th>Opp.FreeThrowsAttempted</th>\n",
       "      <th>Opp.FreeThrows.</th>\n",
       "      <th>Opp.OffRebounds</th>\n",
       "      <th>Opp.TotalRebounds</th>\n",
       "      <th>Opp.Assists</th>\n",
       "      <th>Opp.Steals</th>\n",
       "      <th>Opp.Blocks</th>\n",
       "      <th>Opp.Turnovers</th>\n",
       "      <th>Opp.TotalFouls</th>\n",
       "    </tr>\n",
       "  </thead>\n",
       "  <tbody>\n",
       "    <tr>\n",
       "      <th>4920</th>\n",
       "      <td>ATL</td>\n",
       "      <td>1</td>\n",
       "      <td>Home</td>\n",
       "      <td>WAS</td>\n",
       "      <td>1</td>\n",
       "      <td>114</td>\n",
       "      <td>99</td>\n",
       "      <td>44</td>\n",
       "      <td>88</td>\n",
       "      <td>0.500</td>\n",
       "      <td>...</td>\n",
       "      <td>13</td>\n",
       "      <td>18</td>\n",
       "      <td>0.722</td>\n",
       "      <td>12</td>\n",
       "      <td>40</td>\n",
       "      <td>25</td>\n",
       "      <td>14</td>\n",
       "      <td>4</td>\n",
       "      <td>19</td>\n",
       "      <td>20</td>\n",
       "    </tr>\n",
       "    <tr>\n",
       "      <th>4921</th>\n",
       "      <td>ATL</td>\n",
       "      <td>2</td>\n",
       "      <td>Away</td>\n",
       "      <td>PHI</td>\n",
       "      <td>1</td>\n",
       "      <td>104</td>\n",
       "      <td>72</td>\n",
       "      <td>42</td>\n",
       "      <td>85</td>\n",
       "      <td>0.494</td>\n",
       "      <td>...</td>\n",
       "      <td>11</td>\n",
       "      <td>15</td>\n",
       "      <td>0.733</td>\n",
       "      <td>4</td>\n",
       "      <td>39</td>\n",
       "      <td>16</td>\n",
       "      <td>9</td>\n",
       "      <td>5</td>\n",
       "      <td>20</td>\n",
       "      <td>20</td>\n",
       "    </tr>\n",
       "    <tr>\n",
       "      <th>4922</th>\n",
       "      <td>ATL</td>\n",
       "      <td>3</td>\n",
       "      <td>Home</td>\n",
       "      <td>SAC</td>\n",
       "      <td>1</td>\n",
       "      <td>106</td>\n",
       "      <td>95</td>\n",
       "      <td>33</td>\n",
       "      <td>79</td>\n",
       "      <td>0.418</td>\n",
       "      <td>...</td>\n",
       "      <td>13</td>\n",
       "      <td>19</td>\n",
       "      <td>0.684</td>\n",
       "      <td>6</td>\n",
       "      <td>38</td>\n",
       "      <td>26</td>\n",
       "      <td>10</td>\n",
       "      <td>6</td>\n",
       "      <td>19</td>\n",
       "      <td>34</td>\n",
       "    </tr>\n",
       "    <tr>\n",
       "      <th>4923</th>\n",
       "      <td>ATL</td>\n",
       "      <td>4</td>\n",
       "      <td>Home</td>\n",
       "      <td>LAL</td>\n",
       "      <td>0</td>\n",
       "      <td>116</td>\n",
       "      <td>123</td>\n",
       "      <td>41</td>\n",
       "      <td>85</td>\n",
       "      <td>0.482</td>\n",
       "      <td>...</td>\n",
       "      <td>18</td>\n",
       "      <td>20</td>\n",
       "      <td>0.900</td>\n",
       "      <td>11</td>\n",
       "      <td>42</td>\n",
       "      <td>24</td>\n",
       "      <td>11</td>\n",
       "      <td>9</td>\n",
       "      <td>15</td>\n",
       "      <td>25</td>\n",
       "    </tr>\n",
       "    <tr>\n",
       "      <th>4924</th>\n",
       "      <td>ATL</td>\n",
       "      <td>5</td>\n",
       "      <td>Away</td>\n",
       "      <td>WAS</td>\n",
       "      <td>0</td>\n",
       "      <td>92</td>\n",
       "      <td>95</td>\n",
       "      <td>32</td>\n",
       "      <td>83</td>\n",
       "      <td>0.386</td>\n",
       "      <td>...</td>\n",
       "      <td>28</td>\n",
       "      <td>35</td>\n",
       "      <td>0.800</td>\n",
       "      <td>11</td>\n",
       "      <td>46</td>\n",
       "      <td>13</td>\n",
       "      <td>7</td>\n",
       "      <td>3</td>\n",
       "      <td>19</td>\n",
       "      <td>23</td>\n",
       "    </tr>\n",
       "  </tbody>\n",
       "</table>\n",
       "<p>5 rows × 39 columns</p>\n",
       "</div>"
      ],
      "text/plain": [
       "     Team  Game  Home Opponent  WINorLOSS  TeamPoints  OpponentPoints  \\\n",
       "4920  ATL     1  Home      WAS          1         114              99   \n",
       "4921  ATL     2  Away      PHI          1         104              72   \n",
       "4922  ATL     3  Home      SAC          1         106              95   \n",
       "4923  ATL     4  Home      LAL          0         116             123   \n",
       "4924  ATL     5  Away      WAS          0          92              95   \n",
       "\n",
       "      FieldGoals  FieldGoalsAttempted  FieldGoals.  ...  Opp.FreeThrows  \\\n",
       "4920          44                   88        0.500  ...              13   \n",
       "4921          42                   85        0.494  ...              11   \n",
       "4922          33                   79        0.418  ...              13   \n",
       "4923          41                   85        0.482  ...              18   \n",
       "4924          32                   83        0.386  ...              28   \n",
       "\n",
       "      Opp.FreeThrowsAttempted  Opp.FreeThrows.  Opp.OffRebounds  \\\n",
       "4920                       18            0.722               12   \n",
       "4921                       15            0.733                4   \n",
       "4922                       19            0.684                6   \n",
       "4923                       20            0.900               11   \n",
       "4924                       35            0.800               11   \n",
       "\n",
       "      Opp.TotalRebounds  Opp.Assists  Opp.Steals  Opp.Blocks  Opp.Turnovers  \\\n",
       "4920                 40           25          14           4             19   \n",
       "4921                 39           16           9           5             20   \n",
       "4922                 38           26          10           6             19   \n",
       "4923                 42           24          11           9             15   \n",
       "4924                 46           13           7           3             19   \n",
       "\n",
       "      Opp.TotalFouls  \n",
       "4920              20  \n",
       "4921              20  \n",
       "4922              34  \n",
       "4923              25  \n",
       "4924              23  \n",
       "\n",
       "[5 rows x 39 columns]"
      ]
     },
     "execution_count": 5,
     "metadata": {},
     "output_type": "execute_result"
    }
   ],
   "source": [
    "one_season = nba_data.loc[(nba_data['Date'] >= '2016-10-25') & (nba_data['Date'] <= '2017-04-12')]\n",
    "one_season = one_season.drop(columns = ['Date', 'Unnamed: 0'])\n",
    "one_season['WINorLOSS'] = one_season['WINorLOSS'].eq('W').mul(1)\n",
    "one_season.head()"
   ]
  },
  {
   "cell_type": "code",
   "execution_count": 6,
   "metadata": {},
   "outputs": [],
   "source": [
    "teams_ha = one_season.groupby(['Team', 'Home']).sum()"
   ]
  },
  {
   "cell_type": "code",
   "execution_count": 7,
   "metadata": {},
   "outputs": [],
   "source": [
    "win_percentages = teams_ha['WINorLOSS']/41"
   ]
  },
  {
   "cell_type": "code",
   "execution_count": 8,
   "metadata": {},
   "outputs": [
    {
     "data": {
      "text/plain": [
       "Text(0, 0.5, 'Win %')"
      ]
     },
     "execution_count": 8,
     "metadata": {},
     "output_type": "execute_result"
    },
    {
     "data": {
      "image/png": "[encoded data removed]",
      "text/plain": [
       "<Figure size 1440x576 with 1 Axes>"
      ]
     },
     "metadata": {
      "needs_background": "light"
     },
     "output_type": "display_data"
    }
   ],
   "source": [
    "win_percent_team = win_percentages.unstack().plot.bar(figsize=(20,8))\n",
    "win_percent_team.set_ylabel(\"Win %\")"
   ]
  },
  {
   "cell_type": "code",
   "execution_count": 9,
   "metadata": {},
   "outputs": [],
   "source": [
    "team_scores = one_season[['Team','WINorLOSS', 'Game', 'Home','TeamPoints', 'OpponentPoints']]\n",
    "team_scores = team_scores[team_scores['WINorLOSS'] == 1]\n",
    "team_scores['ScoreDiff'] = team_scores['TeamPoints'].sub(team_scores['OpponentPoints'], axis=0)"
   ]
  },
  {
   "cell_type": "code",
   "execution_count": 10,
   "metadata": {},
   "outputs": [],
   "source": [
    "ha_win_score_diff = team_scores.groupby(['Team','Home']).mean()['ScoreDiff']"
   ]
  },
  {
   "cell_type": "code",
   "execution_count": 11,
   "metadata": {},
   "outputs": [
    {
     "data": {
      "text/plain": [
       "Text(0, 0.5, 'Avg Score Differential in Wins')"
      ]
     },
     "execution_count": 11,
     "metadata": {},
     "output_type": "execute_result"
    },
    {
     "data": {
      "image/png": "[encoded data removed]",
      "text/plain": [
       "<Figure size 1440x576 with 1 Axes>"
      ]
     },
     "metadata": {
      "needs_background": "light"
     },
     "output_type": "display_data"
    }
   ],
   "source": [
    "score_diff = ha_win_score_diff.unstack().plot.bar(figsize=(20,8))\n",
    "score_diff.set_ylabel(\"Avg Score Differential in Wins\")"
   ]
  },
  {
   "cell_type": "code",
   "execution_count": 12,
   "metadata": {},
   "outputs": [
    {
     "data": {
      "text/plain": [
       "25"
      ]
     },
     "execution_count": 12,
     "metadata": {},
     "output_type": "execute_result"
    }
   ],
   "source": [
    "df_ha = ha_win_score_diff.unstack()\n",
    "len(df_ha.loc[df_ha['Home'] > df_ha['Away']])"
   ]
  },
  {
   "cell_type": "code",
   "execution_count": 13,
   "metadata": {},
   "outputs": [
    {
     "data": {
      "text/plain": [
       "3.25724297549729"
      ]
     },
     "execution_count": 13,
     "metadata": {},
     "output_type": "execute_result"
    }
   ],
   "source": [
    "home_greater = df_ha.loc[df_ha['Home'] > df_ha['Away']]\n",
    "home_greater['Home'].mean() - home_greater['Away'].mean()"
   ]
  },
  {
   "cell_type": "code",
   "execution_count": 14,
   "metadata": {},
   "outputs": [
    {
     "data": {
      "text/plain": [
       "Ttest_indResult(statistic=4.860888174640401, pvalue=1.7247253869154674e-05)"
      ]
     },
     "execution_count": 14,
     "metadata": {},
     "output_type": "execute_result"
    }
   ],
   "source": [
    "stats.ttest_ind(home_greater['Home'], home_greater['Away'], equal_var = False)"
   ]
  },
  {
   "cell_type": "markdown",
   "metadata": {},
   "source": [
    "There are 25 teams that have a greater score differential in home wins than away wins. The average score differential for these 25 teams is 3.257 points. Running a t-test at the 0.05 confidence level gives a p-value lower than 0.05, so we can reject the null hypothesis stating that there is no significant difference between the means of home and away wins. It is safe to say that the score differential difference is statistically significant."
   ]
  },
  {
   "cell_type": "code",
   "execution_count": 17,
   "metadata": {},
   "outputs": [],
   "source": [
    "#finda average TO per game split by home and away games for every team\n",
    "to_ha = (teams_ha['Turnovers']/41).unstack()"
   ]
  },
  {
   "cell_type": "code",
   "execution_count": 18,
   "metadata": {},
   "outputs": [],
   "source": [
    "#average TO per game, not split by home and away, for every team\n",
    "avg_to = one_season.groupby('Team').sum()['Turnovers']/82"
   ]
  },
  {
   "cell_type": "code",
   "execution_count": 19,
   "metadata": {},
   "outputs": [],
   "source": [
    "#calculates difference in average TO at home/away vs average TO overall\n",
    "to_ha['Home TO Diff'] = to_ha['Home'].sub(avg_to, axis=0)\n",
    "to_ha['Away TO Diff'] = to_ha['Away'].sub(avg_to, axis=0)"
   ]
  },
  {
   "cell_type": "code",
   "execution_count": 23,
   "metadata": {},
   "outputs": [
    {
     "data": {
      "text/plain": [
       "-0.45853658536585384"
      ]
     },
     "execution_count": 23,
     "metadata": {},
     "output_type": "execute_result"
    }
   ],
   "source": [
    "to_ha.loc[to_ha['Home TO Diff'] < 0].mean()['Home TO Diff']"
   ]
  },
  {
   "cell_type": "code",
   "execution_count": 25,
   "metadata": {},
   "outputs": [
    {
     "data": {
      "text/plain": [
       "-0.28048780487804864"
      ]
     },
     "execution_count": 25,
     "metadata": {},
     "output_type": "execute_result"
    }
   ],
   "source": [
    "to_ha.loc[to_ha['Away TO Diff'] < 0].mean()['Away TO Diff']"
   ]
  },
  {
   "cell_type": "markdown",
   "metadata": {},
   "source": [
    "Teams that averaged less TO's at home averaged 0.4585 less TO's compared to theire seasonal average, while teams that averaged Less TO's away averaged 0.2805 less TO's compared to their seasonal average. "
   ]
  },
  {
   "cell_type": "code",
   "execution_count": 27,
   "metadata": {},
   "outputs": [
    {
     "data": {
      "text/plain": [
       "Home\n",
       "Away            1.737765\n",
       "Home            1.601100\n",
       "Home TO Diff    0.043169\n",
       "Away TO Diff    0.043169\n",
       "dtype: float64"
      ]
     },
     "execution_count": 27,
     "metadata": {},
     "output_type": "execute_result"
    }
   ],
   "source": []
  },
  {
   "cell_type": "code",
   "execution_count": 28,
   "metadata": {},
   "outputs": [
    {
     "data": {
      "text/plain": [
       "Ttest_indResult(statistic=1.7780215101087347, pvalue=0.08787410116740832)"
      ]
     },
     "execution_count": 28,
     "metadata": {},
     "output_type": "execute_result"
    }
   ],
   "source": [
    "stats.ttest_ind(to_ha.loc[to_ha['Away TO Diff'] < 0]['Away TO Diff'], \n",
    "                to_ha.loc[to_ha['Home TO Diff'] < 0]['Home TO Diff'], equal_var = False)"
   ]
  },
  {
   "cell_type": "markdown",
   "metadata": {},
   "source": [
    "There are 15 teams that average less TO's at home than they do on the season, and 15 that average less TO's away than they do on the season. However, when running the t-test for an significant difference between the TO differences, I got a p-value of 0.087, which is greater than 0.05. Therefore, we cannot say that turnovers are less frequent at home due to home court advantage. "
   ]
  },
  {
   "cell_type": "code",
   "execution_count": null,
   "metadata": {},
   "outputs": [],
   "source": []
  }
 ],
 "metadata": {
  "kernelspec": {
   "display_name": "Python 3",
   "language": "python",
   "name": "python3"
  },
  "language_info": {
   "codemirror_mode": {
    "name": "ipython",
    "version": 3
   },
   "file_extension": ".py",
   "mimetype": "text/x-python",
   "name": "python",
   "nbconvert_exporter": "python",
   "pygments_lexer": "ipython3",
   "version": "3.6.7"
  }
 },
 "nbformat": 4,
 "nbformat_minor": 2
}
