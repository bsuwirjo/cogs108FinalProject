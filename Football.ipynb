{
 "cells": [
  {
   "cell_type": "markdown",
   "metadata": {},
   "source": [
    "# Cogs 108 Final Project\n",
    "\n",
    "Bernard Suwirjo\n",
    "\n",
    "Ben Hazarian\n",
    "\n",
    "Cesar Reyes\n",
    "\n",
    "Eric Jiang\n",
    "\n",
    "Gauthier Pred'Astor Gris"
   ]
  },
  {
   "cell_type": "code",
   "execution_count": 104,
   "metadata": {},
   "outputs": [],
   "source": [
    "# Necessary Imports\n",
    "import numpy as np\n",
    "import pandas as pd\n",
    "import matplotlib.pyplot as plt\n",
    "from scipy import stats\n",
    "# Display plots directly in the notebook instead of in a new window\n",
    "%matplotlib inline"
   ]
  },
  {
   "cell_type": "code",
   "execution_count": 105,
   "metadata": {},
   "outputs": [
    {
     "data": {
      "text/html": [
       "<div>\n",
       "<style scoped>\n",
       "    .dataframe tbody tr th:only-of-type {\n",
       "        vertical-align: middle;\n",
       "    }\n",
       "\n",
       "    .dataframe tbody tr th {\n",
       "        vertical-align: top;\n",
       "    }\n",
       "\n",
       "    .dataframe thead th {\n",
       "        text-align: right;\n",
       "    }\n",
       "</style>\n",
       "<table border=\"1\" class=\"dataframe\">\n",
       "  <thead>\n",
       "    <tr style=\"text-align: right;\">\n",
       "      <th></th>\n",
       "      <th>Week</th>\n",
       "      <th>Day</th>\n",
       "      <th>Date</th>\n",
       "      <th>Time</th>\n",
       "      <th>Winner/tie</th>\n",
       "      <th>Unnamed: 5</th>\n",
       "      <th>Loser/tie</th>\n",
       "      <th>Unnamed: 7</th>\n",
       "      <th>Pts</th>\n",
       "      <th>Pts.1</th>\n",
       "      <th>YdsW</th>\n",
       "      <th>TOW</th>\n",
       "      <th>YdsL</th>\n",
       "      <th>TOL</th>\n",
       "    </tr>\n",
       "  </thead>\n",
       "  <tbody>\n",
       "    <tr>\n",
       "      <th>0</th>\n",
       "      <td>1</td>\n",
       "      <td>Thu</td>\n",
       "      <td>September 8</td>\n",
       "      <td>8:40PM</td>\n",
       "      <td>Denver Broncos</td>\n",
       "      <td>NaN</td>\n",
       "      <td>Carolina Panthers</td>\n",
       "      <td>boxscore</td>\n",
       "      <td>21</td>\n",
       "      <td>20</td>\n",
       "      <td>307</td>\n",
       "      <td>3</td>\n",
       "      <td>333</td>\n",
       "      <td>1</td>\n",
       "    </tr>\n",
       "    <tr>\n",
       "      <th>1</th>\n",
       "      <td>1</td>\n",
       "      <td>Sun</td>\n",
       "      <td>September 11</td>\n",
       "      <td>1:04PM</td>\n",
       "      <td>Green Bay Packers</td>\n",
       "      <td>@</td>\n",
       "      <td>Jacksonville Jaguars</td>\n",
       "      <td>boxscore</td>\n",
       "      <td>27</td>\n",
       "      <td>23</td>\n",
       "      <td>294</td>\n",
       "      <td>0</td>\n",
       "      <td>348</td>\n",
       "      <td>1</td>\n",
       "    </tr>\n",
       "    <tr>\n",
       "      <th>2</th>\n",
       "      <td>1</td>\n",
       "      <td>Sun</td>\n",
       "      <td>September 11</td>\n",
       "      <td>1:04PM</td>\n",
       "      <td>Baltimore Ravens</td>\n",
       "      <td>NaN</td>\n",
       "      <td>Buffalo Bills</td>\n",
       "      <td>boxscore</td>\n",
       "      <td>13</td>\n",
       "      <td>7</td>\n",
       "      <td>308</td>\n",
       "      <td>1</td>\n",
       "      <td>160</td>\n",
       "      <td>0</td>\n",
       "    </tr>\n",
       "    <tr>\n",
       "      <th>3</th>\n",
       "      <td>1</td>\n",
       "      <td>Sun</td>\n",
       "      <td>September 11</td>\n",
       "      <td>1:05PM</td>\n",
       "      <td>Houston Texans</td>\n",
       "      <td>NaN</td>\n",
       "      <td>Chicago Bears</td>\n",
       "      <td>boxscore</td>\n",
       "      <td>23</td>\n",
       "      <td>14</td>\n",
       "      <td>344</td>\n",
       "      <td>1</td>\n",
       "      <td>258</td>\n",
       "      <td>1</td>\n",
       "    </tr>\n",
       "    <tr>\n",
       "      <th>4</th>\n",
       "      <td>1</td>\n",
       "      <td>Sun</td>\n",
       "      <td>September 11</td>\n",
       "      <td>1:05PM</td>\n",
       "      <td>Kansas City Chiefs</td>\n",
       "      <td>NaN</td>\n",
       "      <td>San Diego Chargers</td>\n",
       "      <td>boxscore</td>\n",
       "      <td>33</td>\n",
       "      <td>27</td>\n",
       "      <td>413</td>\n",
       "      <td>1</td>\n",
       "      <td>388</td>\n",
       "      <td>0</td>\n",
       "    </tr>\n",
       "  </tbody>\n",
       "</table>\n",
       "</div>"
      ],
      "text/plain": [
       "   Week  Day          Date    Time          Winner/tie Unnamed: 5  \\\n",
       "0     1  Thu   September 8  8:40PM      Denver Broncos        NaN   \n",
       "1     1  Sun  September 11  1:04PM   Green Bay Packers          @   \n",
       "2     1  Sun  September 11  1:04PM    Baltimore Ravens        NaN   \n",
       "3     1  Sun  September 11  1:05PM      Houston Texans        NaN   \n",
       "4     1  Sun  September 11  1:05PM  Kansas City Chiefs        NaN   \n",
       "\n",
       "              Loser/tie Unnamed: 7  Pts  Pts.1  YdsW  TOW  YdsL  TOL  \n",
       "0     Carolina Panthers   boxscore   21     20   307    3   333    1  \n",
       "1  Jacksonville Jaguars   boxscore   27     23   294    0   348    1  \n",
       "2         Buffalo Bills   boxscore   13      7   308    1   160    0  \n",
       "3         Chicago Bears   boxscore   23     14   344    1   258    1  \n",
       "4    San Diego Chargers   boxscore   33     27   413    1   388    0  "
      ]
     },
     "execution_count": 105,
     "metadata": {},
     "output_type": "execute_result"
    }
   ],
   "source": [
    "# Load Datasets\n",
    "\n",
    "# Baseball Dataset\n",
    "#NFL_frame = pd.read_csv('data/NFL_16_17.csv')\n",
    "NFL_frame = pd.read_csv('data/nfl_16.csv')\n",
    "NFL_frame.head()"
   ]
  },
  {
   "cell_type": "markdown",
   "metadata": {},
   "source": [
    "Data cleaning"
   ]
  },
  {
   "cell_type": "code",
   "execution_count": 106,
   "metadata": {},
   "outputs": [],
   "source": [
    "NFL_frame = NFL_frame.drop(columns=['Day','Time','Date', 'Unnamed: 7'])\n",
    "NFL_frame.rename(columns={'Unnamed: 5':'Home_play'}, inplace=True)"
   ]
  },
  {
   "cell_type": "markdown",
   "metadata": {},
   "source": [
    "Putting 1 if winning team played at home and 0 otherwise"
   ]
  },
  {
   "cell_type": "code",
   "execution_count": 107,
   "metadata": {},
   "outputs": [
    {
     "name": "stderr",
     "output_type": "stream",
     "text": [
      "/Library/Frameworks/Python.framework/Versions/3.7/lib/python3.7/site-packages/ipykernel_launcher.py:5: FutureWarning: set_value is deprecated and will be removed in a future release. Please use .at[] or .iat[] accessors instead\n",
      "  \"\"\"\n",
      "/Library/Frameworks/Python.framework/Versions/3.7/lib/python3.7/site-packages/ipykernel_launcher.py:3: FutureWarning: set_value is deprecated and will be removed in a future release. Please use .at[] or .iat[] accessors instead\n",
      "  This is separate from the ipykernel package so we can avoid doing imports until\n"
     ]
    }
   ],
   "source": [
    "for index, row in NFL_frame.iterrows():\n",
    "    if row['Home_play'] =='@':\n",
    "        NFL_frame.set_value(index, 'Home_play', 0)\n",
    "    else:\n",
    "        NFL_frame.set_value(index, 'Home_play', 1)"
   ]
  },
  {
   "cell_type": "markdown",
   "metadata": {},
   "source": [
    "Remove ties"
   ]
  },
  {
   "cell_type": "code",
   "execution_count": 108,
   "metadata": {},
   "outputs": [],
   "source": [
    "NFL_frame.head()\n",
    "NFL_frame = NFL_frame.loc[NFL_frame['Pts']!=NFL_frame['Pts.1']]"
   ]
  },
  {
   "cell_type": "markdown",
   "metadata": {},
   "source": [
    "Adding score difference"
   ]
  },
  {
   "cell_type": "code",
   "execution_count": 7,
   "metadata": {},
   "outputs": [],
   "source": [
    "NFL_frame['score_diff'] = NFL_frame['Pts'] - NFL_frame['Pts.1']"
   ]
  },
  {
   "cell_type": "markdown",
   "metadata": {},
   "source": [
    "Home/away win/loss + score diff"
   ]
  },
  {
   "cell_type": "code",
   "execution_count": 8,
   "metadata": {},
   "outputs": [],
   "source": [
    "df_home = NFL_frame.loc[NFL_frame['Home_play']==1]\n",
    "df_away = NFL_frame.loc[NFL_frame['Home_play']==0]\n",
    "\n",
    "df_win_home = df_home.groupby('Winner/tie')['Home_play'].count()\n",
    "df_win_away = df_away.groupby('Winner/tie')['Home_play'].count()\n",
    "\n",
    "df_loss_home = df_away.groupby('Loser/tie')['Home_play'].count()\n",
    "df_loss_away = df_home.groupby('Loser/tie')['Home_play'].count()\n",
    "\n",
    "home_score_diff = df_home.groupby('Winner/tie').mean()['score_diff']\n",
    "away_score_diff = df_away.groupby('Winner/tie').mean()['score_diff']\n",
    "\n",
    "\n",
    "df_total = df_loss_home + df_loss_away + df_win_home + df_win_away"
   ]
  },
  {
   "cell_type": "code",
   "execution_count": 9,
   "metadata": {},
   "outputs": [
    {
     "data": {
      "text/html": [
       "<div>\n",
       "<style scoped>\n",
       "    .dataframe tbody tr th:only-of-type {\n",
       "        vertical-align: middle;\n",
       "    }\n",
       "\n",
       "    .dataframe tbody tr th {\n",
       "        vertical-align: top;\n",
       "    }\n",
       "\n",
       "    .dataframe thead th {\n",
       "        text-align: right;\n",
       "    }\n",
       "</style>\n",
       "<table border=\"1\" class=\"dataframe\">\n",
       "  <thead>\n",
       "    <tr style=\"text-align: right;\">\n",
       "      <th></th>\n",
       "      <th>home_win</th>\n",
       "      <th>home_win_diff</th>\n",
       "      <th>away_win</th>\n",
       "      <th>away_win_diff</th>\n",
       "      <th>home_loss</th>\n",
       "      <th>away_loss</th>\n",
       "      <th>nb_games</th>\n",
       "    </tr>\n",
       "  </thead>\n",
       "  <tbody>\n",
       "    <tr>\n",
       "      <th>Arizona Cardinals</th>\n",
       "      <td>4</td>\n",
       "      <td>17.25</td>\n",
       "      <td>3.0</td>\n",
       "      <td>17.666667</td>\n",
       "      <td>3</td>\n",
       "      <td>5.0</td>\n",
       "      <td>15.0</td>\n",
       "    </tr>\n",
       "    <tr>\n",
       "      <th>Atlanta Falcons</th>\n",
       "      <td>5</td>\n",
       "      <td>13.80</td>\n",
       "      <td>6.0</td>\n",
       "      <td>14.500000</td>\n",
       "      <td>3</td>\n",
       "      <td>2.0</td>\n",
       "      <td>16.0</td>\n",
       "    </tr>\n",
       "    <tr>\n",
       "      <th>Baltimore Ravens</th>\n",
       "      <td>6</td>\n",
       "      <td>12.00</td>\n",
       "      <td>2.0</td>\n",
       "      <td>3.500000</td>\n",
       "      <td>2</td>\n",
       "      <td>6.0</td>\n",
       "      <td>16.0</td>\n",
       "    </tr>\n",
       "    <tr>\n",
       "      <th>Buffalo Bills</th>\n",
       "      <td>4</td>\n",
       "      <td>17.75</td>\n",
       "      <td>3.0</td>\n",
       "      <td>10.333333</td>\n",
       "      <td>4</td>\n",
       "      <td>5.0</td>\n",
       "      <td>16.0</td>\n",
       "    </tr>\n",
       "    <tr>\n",
       "      <th>Carolina Panthers</th>\n",
       "      <td>4</td>\n",
       "      <td>11.00</td>\n",
       "      <td>2.0</td>\n",
       "      <td>7.000000</td>\n",
       "      <td>4</td>\n",
       "      <td>6.0</td>\n",
       "      <td>16.0</td>\n",
       "    </tr>\n",
       "  </tbody>\n",
       "</table>\n",
       "</div>"
      ],
      "text/plain": [
       "                   home_win  home_win_diff  away_win  away_win_diff  \\\n",
       "Arizona Cardinals         4          17.25       3.0      17.666667   \n",
       "Atlanta Falcons           5          13.80       6.0      14.500000   \n",
       "Baltimore Ravens          6          12.00       2.0       3.500000   \n",
       "Buffalo Bills             4          17.75       3.0      10.333333   \n",
       "Carolina Panthers         4          11.00       2.0       7.000000   \n",
       "\n",
       "                   home_loss  away_loss  nb_games  \n",
       "Arizona Cardinals          3        5.0      15.0  \n",
       "Atlanta Falcons            3        2.0      16.0  \n",
       "Baltimore Ravens           2        6.0      16.0  \n",
       "Buffalo Bills              4        5.0      16.0  \n",
       "Carolina Panthers          4        6.0      16.0  "
      ]
     },
     "execution_count": 9,
     "metadata": {},
     "output_type": "execute_result"
    }
   ],
   "source": [
    "data = {'home_win': df_win_home,'home_win_diff': home_score_diff, 'away_win': df_win_away,'away_win_diff': away_score_diff, 'home_loss': df_loss_home, 'away_loss': df_loss_away, 'nb_games': df_total}\n",
    "df_results = pd.DataFrame(data)\n",
    "df_results.fillna(0, inplace=True)\n",
    "\n",
    "df_results.head()"
   ]
  },
  {
   "cell_type": "markdown",
   "metadata": {},
   "source": [
    "Win percentages"
   ]
  },
  {
   "cell_type": "code",
   "execution_count": 10,
   "metadata": {},
   "outputs": [
    {
     "data": {
      "text/plain": [
       "Text(0.5, 0, 'Team')"
      ]
     },
     "execution_count": 10,
     "metadata": {},
     "output_type": "execute_result"
    },
    {
     "data": {
      "image/png": "[encoded data removed]",
      "text/plain": [
       "<Figure size 1440x576 with 1 Axes>"
      ]
     },
     "metadata": {
      "needs_background": "light"
     },
     "output_type": "display_data"
    }
   ],
   "source": [
    "win_percentages = (df_results[['home_win', 'away_win']]/8).plot.bar(figsize=(20,8))\n",
    "win_percentages.set_ylabel(\"Win %\")\n",
    "win_percentages.set_xlabel(\"Team\")"
   ]
  },
  {
   "cell_type": "markdown",
   "metadata": {},
   "source": [
    "Average score difference"
   ]
  },
  {
   "cell_type": "code",
   "execution_count": 11,
   "metadata": {},
   "outputs": [
    {
     "data": {
      "text/plain": [
       "Text(0.5, 0, 'Team')"
      ]
     },
     "execution_count": 11,
     "metadata": {},
     "output_type": "execute_result"
    },
    {
     "data": {
      "image/png": "[encoded data removed]",
      "text/plain": [
       "<Figure size 1440x576 with 1 Axes>"
      ]
     },
     "metadata": {
      "needs_background": "light"
     },
     "output_type": "display_data"
    }
   ],
   "source": [
    "score_win_diff = df_results[['home_win_diff', 'away_win_diff']].plot.bar(figsize=(20,8))\n",
    "score_win_diff.set_ylabel(\"Avg score difference wins\")\n",
    "score_win_diff.set_xlabel(\"Team\")"
   ]
  },
  {
   "cell_type": "code",
   "execution_count": 12,
   "metadata": {},
   "outputs": [
    {
     "data": {
      "text/plain": [
       "24"
      ]
     },
     "execution_count": 12,
     "metadata": {},
     "output_type": "execute_result"
    }
   ],
   "source": [
    "len(df_results .loc[df_results ['home_win_diff'] > df_results ['away_win_diff']])"
   ]
  },
  {
   "cell_type": "markdown",
   "metadata": {},
   "source": [
    "24 teams with higher home than away score win"
   ]
  },
  {
   "cell_type": "code",
   "execution_count": 13,
   "metadata": {},
   "outputs": [
    {
     "data": {
      "text/plain": [
       "5.950148809523809"
      ]
     },
     "execution_count": 13,
     "metadata": {},
     "output_type": "execute_result"
    }
   ],
   "source": [
    "home_greater = df_results.loc[df_results ['home_win_diff'] > df_results ['away_win_diff']]\n",
    "home_greater['home_win_diff'].mean() - home_greater['away_win_diff'].mean()"
   ]
  },
  {
   "cell_type": "code",
   "execution_count": 14,
   "metadata": {},
   "outputs": [
    {
     "data": {
      "text/plain": [
       "Ttest_indResult(statistic=4.827606466012797, pvalue=1.9413479292782724e-05)"
      ]
     },
     "execution_count": 14,
     "metadata": {},
     "output_type": "execute_result"
    }
   ],
   "source": [
    "stats.ttest_ind(home_greater['home_win_diff'], home_greater['away_win_diff'], equal_var = False)"
   ]
  },
  {
   "cell_type": "markdown",
   "metadata": {},
   "source": [
    "Turnovers"
   ]
  },
  {
   "cell_type": "code",
   "execution_count": 15,
   "metadata": {},
   "outputs": [
    {
     "data": {
      "text/html": [
       "<div>\n",
       "<style scoped>\n",
       "    .dataframe tbody tr th:only-of-type {\n",
       "        vertical-align: middle;\n",
       "    }\n",
       "\n",
       "    .dataframe tbody tr th {\n",
       "        vertical-align: top;\n",
       "    }\n",
       "\n",
       "    .dataframe thead th {\n",
       "        text-align: right;\n",
       "    }\n",
       "</style>\n",
       "<table border=\"1\" class=\"dataframe\">\n",
       "  <thead>\n",
       "    <tr style=\"text-align: right;\">\n",
       "      <th></th>\n",
       "      <th>Week</th>\n",
       "      <th>Winner/tie</th>\n",
       "      <th>Home_play</th>\n",
       "      <th>Loser/tie</th>\n",
       "      <th>Pts</th>\n",
       "      <th>Pts.1</th>\n",
       "      <th>YdsW</th>\n",
       "      <th>TOW</th>\n",
       "      <th>YdsL</th>\n",
       "      <th>TOL</th>\n",
       "      <th>score_diff</th>\n",
       "    </tr>\n",
       "  </thead>\n",
       "  <tbody>\n",
       "    <tr>\n",
       "      <th>0</th>\n",
       "      <td>1</td>\n",
       "      <td>Denver Broncos</td>\n",
       "      <td>1</td>\n",
       "      <td>Carolina Panthers</td>\n",
       "      <td>21</td>\n",
       "      <td>20</td>\n",
       "      <td>307</td>\n",
       "      <td>3</td>\n",
       "      <td>333</td>\n",
       "      <td>1</td>\n",
       "      <td>1</td>\n",
       "    </tr>\n",
       "    <tr>\n",
       "      <th>1</th>\n",
       "      <td>1</td>\n",
       "      <td>Green Bay Packers</td>\n",
       "      <td>0</td>\n",
       "      <td>Jacksonville Jaguars</td>\n",
       "      <td>27</td>\n",
       "      <td>23</td>\n",
       "      <td>294</td>\n",
       "      <td>0</td>\n",
       "      <td>348</td>\n",
       "      <td>1</td>\n",
       "      <td>4</td>\n",
       "    </tr>\n",
       "    <tr>\n",
       "      <th>2</th>\n",
       "      <td>1</td>\n",
       "      <td>Baltimore Ravens</td>\n",
       "      <td>1</td>\n",
       "      <td>Buffalo Bills</td>\n",
       "      <td>13</td>\n",
       "      <td>7</td>\n",
       "      <td>308</td>\n",
       "      <td>1</td>\n",
       "      <td>160</td>\n",
       "      <td>0</td>\n",
       "      <td>6</td>\n",
       "    </tr>\n",
       "    <tr>\n",
       "      <th>3</th>\n",
       "      <td>1</td>\n",
       "      <td>Houston Texans</td>\n",
       "      <td>1</td>\n",
       "      <td>Chicago Bears</td>\n",
       "      <td>23</td>\n",
       "      <td>14</td>\n",
       "      <td>344</td>\n",
       "      <td>1</td>\n",
       "      <td>258</td>\n",
       "      <td>1</td>\n",
       "      <td>9</td>\n",
       "    </tr>\n",
       "    <tr>\n",
       "      <th>4</th>\n",
       "      <td>1</td>\n",
       "      <td>Kansas City Chiefs</td>\n",
       "      <td>1</td>\n",
       "      <td>San Diego Chargers</td>\n",
       "      <td>33</td>\n",
       "      <td>27</td>\n",
       "      <td>413</td>\n",
       "      <td>1</td>\n",
       "      <td>388</td>\n",
       "      <td>0</td>\n",
       "      <td>6</td>\n",
       "    </tr>\n",
       "  </tbody>\n",
       "</table>\n",
       "</div>"
      ],
      "text/plain": [
       "   Week          Winner/tie Home_play             Loser/tie  Pts  Pts.1  YdsW  \\\n",
       "0     1      Denver Broncos         1     Carolina Panthers   21     20   307   \n",
       "1     1   Green Bay Packers         0  Jacksonville Jaguars   27     23   294   \n",
       "2     1    Baltimore Ravens         1         Buffalo Bills   13      7   308   \n",
       "3     1      Houston Texans         1         Chicago Bears   23     14   344   \n",
       "4     1  Kansas City Chiefs         1    San Diego Chargers   33     27   413   \n",
       "\n",
       "   TOW  YdsL  TOL  score_diff  \n",
       "0    3   333    1           1  \n",
       "1    0   348    1           4  \n",
       "2    1   160    0           6  \n",
       "3    1   258    1           9  \n",
       "4    1   388    0           6  "
      ]
     },
     "execution_count": 15,
     "metadata": {},
     "output_type": "execute_result"
    }
   ],
   "source": [
    "NFL_frame.head()"
   ]
  },
  {
   "cell_type": "code",
   "execution_count": null,
   "metadata": {},
   "outputs": [],
   "source": []
  },
  {
   "cell_type": "code",
   "execution_count": null,
   "metadata": {},
   "outputs": [],
   "source": []
  },
  {
   "cell_type": "code",
   "execution_count": 109,
   "metadata": {},
   "outputs": [
    {
     "data": {
      "text/plain": [
       "Text(0.5, 0, 'Team')"
      ]
     },
     "execution_count": 109,
     "metadata": {},
     "output_type": "execute_result"
    },
    {
     "data": {
      "image/png": "[encoded data removed]",
      "text/plain": [
       "<Figure size 1440x576 with 1 Axes>"
      ]
     },
     "metadata": {
      "needs_background": "light"
     },
     "output_type": "display_data"
    }
   ],
   "source": [
    "df_TO_mean_home = df_home.groupby('Winner/tie')['TOW'].sum() + df_away.groupby('Loser/tie')['TOL'].sum()\n",
    "df_TO_mean_away = df_away.groupby('Winner/tie')['TOW'].sum() + df_home.groupby('Loser/tie')['TOL'].sum()\n",
    "\n",
    "df_TO_mean = pd.DataFrame({'Home': df_TO_mean_home, 'Away': df_TO_mean_away})\n",
    "df_TO_mean.fillna(0, inplace=True)\n",
    "\n",
    "#df_TO_mean['Home'] = df_TO_mean['Home']/df_TO_mean['Home'].max()\n",
    "#df_TO_mean['Away'] = df_TO_mean['Away']/df_TO_mean['Away'].max()\n",
    "\n",
    "mean_hist = df_TO_mean[['Home', 'Away']].plot.bar(figsize=(20,8))\n",
    "mean_hist.set_ylabel(\"Scaled number of TO\")\n",
    "mean_hist.set_xlabel(\"Team\")"
   ]
  },
  {
   "cell_type": "code",
   "execution_count": 96,
   "metadata": {},
   "outputs": [
    {
     "data": {
      "text/html": [
       "<div>\n",
       "<style scoped>\n",
       "    .dataframe tbody tr th:only-of-type {\n",
       "        vertical-align: middle;\n",
       "    }\n",
       "\n",
       "    .dataframe tbody tr th {\n",
       "        vertical-align: top;\n",
       "    }\n",
       "\n",
       "    .dataframe thead th {\n",
       "        text-align: right;\n",
       "    }\n",
       "</style>\n",
       "<table border=\"1\" class=\"dataframe\">\n",
       "  <thead>\n",
       "    <tr style=\"text-align: right;\">\n",
       "      <th></th>\n",
       "      <th>Week</th>\n",
       "      <th>Winner/tie</th>\n",
       "      <th>Home_play</th>\n",
       "      <th>Loser/tie</th>\n",
       "      <th>Pts</th>\n",
       "      <th>Pts.1</th>\n",
       "      <th>YdsW</th>\n",
       "      <th>TOW</th>\n",
       "      <th>YdsL</th>\n",
       "      <th>TOL</th>\n",
       "      <th>score_diff</th>\n",
       "    </tr>\n",
       "  </thead>\n",
       "  <tbody>\n",
       "    <tr>\n",
       "      <th>3</th>\n",
       "      <td>1</td>\n",
       "      <td>Houston Texans</td>\n",
       "      <td>1</td>\n",
       "      <td>Chicago Bears</td>\n",
       "      <td>23</td>\n",
       "      <td>14</td>\n",
       "      <td>344</td>\n",
       "      <td>1</td>\n",
       "      <td>258</td>\n",
       "      <td>1</td>\n",
       "      <td>9</td>\n",
       "    </tr>\n",
       "    <tr>\n",
       "      <th>31</th>\n",
       "      <td>2</td>\n",
       "      <td>Philadelphia Eagles</td>\n",
       "      <td>0</td>\n",
       "      <td>Chicago Bears</td>\n",
       "      <td>29</td>\n",
       "      <td>14</td>\n",
       "      <td>280</td>\n",
       "      <td>0</td>\n",
       "      <td>284</td>\n",
       "      <td>3</td>\n",
       "      <td>15</td>\n",
       "    </tr>\n",
       "    <tr>\n",
       "      <th>46</th>\n",
       "      <td>3</td>\n",
       "      <td>Dallas Cowboys</td>\n",
       "      <td>1</td>\n",
       "      <td>Chicago Bears</td>\n",
       "      <td>31</td>\n",
       "      <td>17</td>\n",
       "      <td>447</td>\n",
       "      <td>1</td>\n",
       "      <td>390</td>\n",
       "      <td>2</td>\n",
       "      <td>14</td>\n",
       "    </tr>\n",
       "    <tr>\n",
       "      <th>64</th>\n",
       "      <td>5</td>\n",
       "      <td>Indianapolis Colts</td>\n",
       "      <td>1</td>\n",
       "      <td>Chicago Bears</td>\n",
       "      <td>29</td>\n",
       "      <td>23</td>\n",
       "      <td>396</td>\n",
       "      <td>0</td>\n",
       "      <td>522</td>\n",
       "      <td>1</td>\n",
       "      <td>6</td>\n",
       "    </tr>\n",
       "    <tr>\n",
       "      <th>81</th>\n",
       "      <td>6</td>\n",
       "      <td>Jacksonville Jaguars</td>\n",
       "      <td>0</td>\n",
       "      <td>Chicago Bears</td>\n",
       "      <td>17</td>\n",
       "      <td>16</td>\n",
       "      <td>317</td>\n",
       "      <td>2</td>\n",
       "      <td>389</td>\n",
       "      <td>0</td>\n",
       "      <td>1</td>\n",
       "    </tr>\n",
       "    <tr>\n",
       "      <th>92</th>\n",
       "      <td>7</td>\n",
       "      <td>Green Bay Packers</td>\n",
       "      <td>1</td>\n",
       "      <td>Chicago Bears</td>\n",
       "      <td>26</td>\n",
       "      <td>10</td>\n",
       "      <td>406</td>\n",
       "      <td>1</td>\n",
       "      <td>189</td>\n",
       "      <td>2</td>\n",
       "      <td>16</td>\n",
       "    </tr>\n",
       "    <tr>\n",
       "      <th>138</th>\n",
       "      <td>10</td>\n",
       "      <td>Tampa Bay Buccaneers</td>\n",
       "      <td>1</td>\n",
       "      <td>Chicago Bears</td>\n",
       "      <td>36</td>\n",
       "      <td>10</td>\n",
       "      <td>360</td>\n",
       "      <td>1</td>\n",
       "      <td>283</td>\n",
       "      <td>4</td>\n",
       "      <td>26</td>\n",
       "    </tr>\n",
       "    <tr>\n",
       "      <th>150</th>\n",
       "      <td>11</td>\n",
       "      <td>New York Giants</td>\n",
       "      <td>1</td>\n",
       "      <td>Chicago Bears</td>\n",
       "      <td>22</td>\n",
       "      <td>16</td>\n",
       "      <td>329</td>\n",
       "      <td>0</td>\n",
       "      <td>315</td>\n",
       "      <td>1</td>\n",
       "      <td>6</td>\n",
       "    </tr>\n",
       "    <tr>\n",
       "      <th>168</th>\n",
       "      <td>12</td>\n",
       "      <td>Tennessee Titans</td>\n",
       "      <td>0</td>\n",
       "      <td>Chicago Bears</td>\n",
       "      <td>27</td>\n",
       "      <td>21</td>\n",
       "      <td>375</td>\n",
       "      <td>0</td>\n",
       "      <td>411</td>\n",
       "      <td>2</td>\n",
       "      <td>6</td>\n",
       "    </tr>\n",
       "    <tr>\n",
       "      <th>195</th>\n",
       "      <td>14</td>\n",
       "      <td>Detroit Lions</td>\n",
       "      <td>1</td>\n",
       "      <td>Chicago Bears</td>\n",
       "      <td>20</td>\n",
       "      <td>17</td>\n",
       "      <td>323</td>\n",
       "      <td>2</td>\n",
       "      <td>296</td>\n",
       "      <td>0</td>\n",
       "      <td>3</td>\n",
       "    </tr>\n",
       "    <tr>\n",
       "      <th>215</th>\n",
       "      <td>15</td>\n",
       "      <td>Green Bay Packers</td>\n",
       "      <td>0</td>\n",
       "      <td>Chicago Bears</td>\n",
       "      <td>30</td>\n",
       "      <td>27</td>\n",
       "      <td>451</td>\n",
       "      <td>0</td>\n",
       "      <td>449</td>\n",
       "      <td>4</td>\n",
       "      <td>3</td>\n",
       "    </tr>\n",
       "    <tr>\n",
       "      <th>231</th>\n",
       "      <td>16</td>\n",
       "      <td>Washington Redskins</td>\n",
       "      <td>0</td>\n",
       "      <td>Chicago Bears</td>\n",
       "      <td>41</td>\n",
       "      <td>21</td>\n",
       "      <td>478</td>\n",
       "      <td>0</td>\n",
       "      <td>458</td>\n",
       "      <td>5</td>\n",
       "      <td>20</td>\n",
       "    </tr>\n",
       "    <tr>\n",
       "      <th>241</th>\n",
       "      <td>17</td>\n",
       "      <td>Minnesota Vikings</td>\n",
       "      <td>1</td>\n",
       "      <td>Chicago Bears</td>\n",
       "      <td>38</td>\n",
       "      <td>10</td>\n",
       "      <td>374</td>\n",
       "      <td>1</td>\n",
       "      <td>323</td>\n",
       "      <td>5</td>\n",
       "      <td>28</td>\n",
       "    </tr>\n",
       "  </tbody>\n",
       "</table>\n",
       "</div>"
      ],
      "text/plain": [
       "     Week            Winner/tie Home_play      Loser/tie  Pts  Pts.1  YdsW  \\\n",
       "3       1        Houston Texans         1  Chicago Bears   23     14   344   \n",
       "31      2   Philadelphia Eagles         0  Chicago Bears   29     14   280   \n",
       "46      3        Dallas Cowboys         1  Chicago Bears   31     17   447   \n",
       "64      5    Indianapolis Colts         1  Chicago Bears   29     23   396   \n",
       "81      6  Jacksonville Jaguars         0  Chicago Bears   17     16   317   \n",
       "92      7     Green Bay Packers         1  Chicago Bears   26     10   406   \n",
       "138    10  Tampa Bay Buccaneers         1  Chicago Bears   36     10   360   \n",
       "150    11       New York Giants         1  Chicago Bears   22     16   329   \n",
       "168    12      Tennessee Titans         0  Chicago Bears   27     21   375   \n",
       "195    14         Detroit Lions         1  Chicago Bears   20     17   323   \n",
       "215    15     Green Bay Packers         0  Chicago Bears   30     27   451   \n",
       "231    16   Washington Redskins         0  Chicago Bears   41     21   478   \n",
       "241    17     Minnesota Vikings         1  Chicago Bears   38     10   374   \n",
       "\n",
       "     TOW  YdsL  TOL  score_diff  \n",
       "3      1   258    1           9  \n",
       "31     0   284    3          15  \n",
       "46     1   390    2          14  \n",
       "64     0   522    1           6  \n",
       "81     2   389    0           1  \n",
       "92     1   189    2          16  \n",
       "138    1   283    4          26  \n",
       "150    0   315    1           6  \n",
       "168    0   411    2           6  \n",
       "195    2   296    0           3  \n",
       "215    0   449    4           3  \n",
       "231    0   458    5          20  \n",
       "241    1   323    5          28  "
      ]
     },
     "execution_count": 96,
     "metadata": {},
     "output_type": "execute_result"
    }
   ],
   "source": [
    "NFL_frame[NFL_frame['Loser/tie']=='Chicago Bears']"
   ]
  },
  {
   "cell_type": "code",
   "execution_count": null,
   "metadata": {},
   "outputs": [],
   "source": []
  }
 ],
 "metadata": {
  "kernelspec": {
   "display_name": "Python 3",
   "language": "python",
   "name": "python3"
  },
  "language_info": {
   "codemirror_mode": {
    "name": "ipython",
    "version": 3
   },
   "file_extension": ".py",
   "mimetype": "text/x-python",
   "name": "python",
   "nbconvert_exporter": "python",
   "pygments_lexer": "ipython3",
   "version": "3.7.3"
  }
 },
 "nbformat": 4,
 "nbformat_minor": 2
}
