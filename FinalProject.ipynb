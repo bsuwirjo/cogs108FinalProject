{
 "cells": [
  {
   "cell_type": "markdown",
   "metadata": {},
   "source": [
    "# COGS 108 - Final Project "
   ]
  },
  {
   "cell_type": "markdown",
   "metadata": {},
   "source": [
    "# Overview"
   ]
  },
  {
   "cell_type": "markdown",
   "metadata": {},
   "source": [
    "We are exploring the phenomena known as home field advantage and tried to answer this question by exploring different aspects of the sports using datasets from the NBA, MLB, and NFL. We looked at win percentages and score differentials of home and away games and ran statistical tests to determine if there is a significant difference. We also looked at the average number of turnovers/errors committed by teams ant home vs away and also ran statistical tests to determine significance. "
   ]
  },
  {
   "cell_type": "markdown",
   "metadata": {},
   "source": [
    "# Names\n",
    "\n",
    "- Eric Jiang\n",
    "- Ben Hazarian \n",
    "- Gauthier Gris\n",
    "- Bernard Suwirjo\n",
    "- Cesar Reyes "
   ]
  },
  {
   "cell_type": "markdown",
   "metadata": {},
   "source": [
    "# Group Members IDs\n",
    "\n",
    "- A########\n",
    "- A########\n",
    "- A########\n",
    "- A########"
   ]
  },
  {
   "cell_type": "markdown",
   "metadata": {},
   "source": [
    "# Research Question"
   ]
  },
  {
   "cell_type": "markdown",
   "metadata": {},
   "source": [
    "*Fill in your research question here*"
   ]
  },
  {
   "cell_type": "markdown",
   "metadata": {},
   "source": [
    "## Background and Prior Work"
   ]
  },
  {
   "cell_type": "markdown",
   "metadata": {},
   "source": [
    "*Fill in your background and prior work here* \n",
    "\n",
    "References (include links):\n",
    "- 1)\n",
    "- 2)"
   ]
  },
  {
   "cell_type": "markdown",
   "metadata": {},
   "source": [
    "# Hypothesis\n"
   ]
  },
  {
   "cell_type": "markdown",
   "metadata": {},
   "source": [
    "*Fill in your hypotheses here*"
   ]
  },
  {
   "cell_type": "markdown",
   "metadata": {},
   "source": [
    "# Dataset(s)"
   ]
  },
  {
   "cell_type": "markdown",
   "metadata": {},
   "source": [
    "*Fill in your dataset information here*\n",
    "\n",
    "(Copy this information for each dataset)\n",
    "- Dataset Name:\n",
    "- Link to the dataset:\n",
    "- Number of observations:\n",
    "\n",
    "1-2 sentences describing each dataset. \n",
    "\n",
    "If you plan to use multiple datasets, add 1-2 sentences about how you plan to combine these datasets."
   ]
  },
  {
   "cell_type": "markdown",
   "metadata": {},
   "source": [
    "# Setup"
   ]
  },
  {
   "cell_type": "code",
   "execution_count": 1,
   "metadata": {},
   "outputs": [],
   "source": [
    "# Necessary Imports\n",
    "import numpy as np\n",
    "import pandas as pd\n",
    "import matplotlib.pyplot as plt\n",
    "from scipy import stats\n",
    "# Display plots directly in the notebook instead of in a new window\n",
    "%matplotlib inline"
   ]
  },
  {
   "cell_type": "code",
   "execution_count": 5,
   "metadata": {},
   "outputs": [],
   "source": [
    "# NBA Dataset\n",
    "nba_data = pd.read_csv('data/nba.games.stats.csv')\n",
    "# MLB Dataset\n",
    "mlb_data = pd.read_csv('data/baseball2016-2017.csv')\n",
    "# NFL Dataset\n",
    "NFL_data = pd.read_csv('data/nfl_16.csv')"
   ]
  },
  {
   "cell_type": "markdown",
   "metadata": {},
   "source": [
    "# Data Cleaning"
   ]
  },
  {
   "cell_type": "markdown",
   "metadata": {},
   "source": [
    "# NBA"
   ]
  },
  {
   "cell_type": "code",
   "execution_count": 9,
   "metadata": {},
   "outputs": [
    {
     "data": {
      "text/html": [
       "<div>\n",
       "<style scoped>\n",
       "    .dataframe tbody tr th:only-of-type {\n",
       "        vertical-align: middle;\n",
       "    }\n",
       "\n",
       "    .dataframe tbody tr th {\n",
       "        vertical-align: top;\n",
       "    }\n",
       "\n",
       "    .dataframe thead th {\n",
       "        text-align: right;\n",
       "    }\n",
       "</style>\n",
       "<table border=\"1\" class=\"dataframe\">\n",
       "  <thead>\n",
       "    <tr style=\"text-align: right;\">\n",
       "      <th></th>\n",
       "      <th>Unnamed: 0</th>\n",
       "      <th>Team</th>\n",
       "      <th>Game</th>\n",
       "      <th>Date</th>\n",
       "      <th>Home</th>\n",
       "      <th>Opponent</th>\n",
       "      <th>WINorLOSS</th>\n",
       "      <th>TeamPoints</th>\n",
       "      <th>OpponentPoints</th>\n",
       "      <th>FieldGoals</th>\n",
       "      <th>...</th>\n",
       "      <th>Opp.FreeThrows</th>\n",
       "      <th>Opp.FreeThrowsAttempted</th>\n",
       "      <th>Opp.FreeThrows.</th>\n",
       "      <th>Opp.OffRebounds</th>\n",
       "      <th>Opp.TotalRebounds</th>\n",
       "      <th>Opp.Assists</th>\n",
       "      <th>Opp.Steals</th>\n",
       "      <th>Opp.Blocks</th>\n",
       "      <th>Opp.Turnovers</th>\n",
       "      <th>Opp.TotalFouls</th>\n",
       "    </tr>\n",
       "  </thead>\n",
       "  <tbody>\n",
       "    <tr>\n",
       "      <th>0</th>\n",
       "      <td>1</td>\n",
       "      <td>ATL</td>\n",
       "      <td>1</td>\n",
       "      <td>2014-10-29</td>\n",
       "      <td>Away</td>\n",
       "      <td>TOR</td>\n",
       "      <td>L</td>\n",
       "      <td>102</td>\n",
       "      <td>109</td>\n",
       "      <td>40</td>\n",
       "      <td>...</td>\n",
       "      <td>27</td>\n",
       "      <td>33</td>\n",
       "      <td>0.818</td>\n",
       "      <td>16</td>\n",
       "      <td>48</td>\n",
       "      <td>26</td>\n",
       "      <td>13</td>\n",
       "      <td>9</td>\n",
       "      <td>9</td>\n",
       "      <td>22</td>\n",
       "    </tr>\n",
       "    <tr>\n",
       "      <th>1</th>\n",
       "      <td>2</td>\n",
       "      <td>ATL</td>\n",
       "      <td>2</td>\n",
       "      <td>2014-11-01</td>\n",
       "      <td>Home</td>\n",
       "      <td>IND</td>\n",
       "      <td>W</td>\n",
       "      <td>102</td>\n",
       "      <td>92</td>\n",
       "      <td>35</td>\n",
       "      <td>...</td>\n",
       "      <td>18</td>\n",
       "      <td>21</td>\n",
       "      <td>0.857</td>\n",
       "      <td>11</td>\n",
       "      <td>44</td>\n",
       "      <td>25</td>\n",
       "      <td>5</td>\n",
       "      <td>5</td>\n",
       "      <td>18</td>\n",
       "      <td>26</td>\n",
       "    </tr>\n",
       "    <tr>\n",
       "      <th>2</th>\n",
       "      <td>3</td>\n",
       "      <td>ATL</td>\n",
       "      <td>3</td>\n",
       "      <td>2014-11-05</td>\n",
       "      <td>Away</td>\n",
       "      <td>SAS</td>\n",
       "      <td>L</td>\n",
       "      <td>92</td>\n",
       "      <td>94</td>\n",
       "      <td>38</td>\n",
       "      <td>...</td>\n",
       "      <td>27</td>\n",
       "      <td>38</td>\n",
       "      <td>0.711</td>\n",
       "      <td>11</td>\n",
       "      <td>50</td>\n",
       "      <td>25</td>\n",
       "      <td>7</td>\n",
       "      <td>9</td>\n",
       "      <td>19</td>\n",
       "      <td>15</td>\n",
       "    </tr>\n",
       "    <tr>\n",
       "      <th>3</th>\n",
       "      <td>4</td>\n",
       "      <td>ATL</td>\n",
       "      <td>4</td>\n",
       "      <td>2014-11-07</td>\n",
       "      <td>Away</td>\n",
       "      <td>CHO</td>\n",
       "      <td>L</td>\n",
       "      <td>119</td>\n",
       "      <td>122</td>\n",
       "      <td>43</td>\n",
       "      <td>...</td>\n",
       "      <td>20</td>\n",
       "      <td>27</td>\n",
       "      <td>0.741</td>\n",
       "      <td>11</td>\n",
       "      <td>51</td>\n",
       "      <td>31</td>\n",
       "      <td>6</td>\n",
       "      <td>7</td>\n",
       "      <td>19</td>\n",
       "      <td>30</td>\n",
       "    </tr>\n",
       "    <tr>\n",
       "      <th>4</th>\n",
       "      <td>5</td>\n",
       "      <td>ATL</td>\n",
       "      <td>5</td>\n",
       "      <td>2014-11-08</td>\n",
       "      <td>Home</td>\n",
       "      <td>NYK</td>\n",
       "      <td>W</td>\n",
       "      <td>103</td>\n",
       "      <td>96</td>\n",
       "      <td>33</td>\n",
       "      <td>...</td>\n",
       "      <td>8</td>\n",
       "      <td>11</td>\n",
       "      <td>0.727</td>\n",
       "      <td>13</td>\n",
       "      <td>44</td>\n",
       "      <td>26</td>\n",
       "      <td>2</td>\n",
       "      <td>6</td>\n",
       "      <td>15</td>\n",
       "      <td>29</td>\n",
       "    </tr>\n",
       "  </tbody>\n",
       "</table>\n",
       "<p>5 rows × 41 columns</p>\n",
       "</div>"
      ],
      "text/plain": [
       "   Unnamed: 0 Team  Game       Date  Home Opponent WINorLOSS  TeamPoints  \\\n",
       "0           1  ATL     1 2014-10-29  Away      TOR         L         102   \n",
       "1           2  ATL     2 2014-11-01  Home      IND         W         102   \n",
       "2           3  ATL     3 2014-11-05  Away      SAS         L          92   \n",
       "3           4  ATL     4 2014-11-07  Away      CHO         L         119   \n",
       "4           5  ATL     5 2014-11-08  Home      NYK         W         103   \n",
       "\n",
       "   OpponentPoints  FieldGoals  ...  Opp.FreeThrows  Opp.FreeThrowsAttempted  \\\n",
       "0             109          40  ...              27                       33   \n",
       "1              92          35  ...              18                       21   \n",
       "2              94          38  ...              27                       38   \n",
       "3             122          43  ...              20                       27   \n",
       "4              96          33  ...               8                       11   \n",
       "\n",
       "   Opp.FreeThrows.  Opp.OffRebounds  Opp.TotalRebounds  Opp.Assists  \\\n",
       "0            0.818               16                 48           26   \n",
       "1            0.857               11                 44           25   \n",
       "2            0.711               11                 50           25   \n",
       "3            0.741               11                 51           31   \n",
       "4            0.727               13                 44           26   \n",
       "\n",
       "   Opp.Steals  Opp.Blocks  Opp.Turnovers  Opp.TotalFouls  \n",
       "0          13           9              9              22  \n",
       "1           5           5             18              26  \n",
       "2           7           9             19              15  \n",
       "3           6           7             19              30  \n",
       "4           2           6             15              29  \n",
       "\n",
       "[5 rows x 41 columns]"
      ]
     },
     "execution_count": 9,
     "metadata": {},
     "output_type": "execute_result"
    }
   ],
   "source": [
    "#Original dataset\n",
    "nba_data.head()"
   ]
  },
  {
   "cell_type": "code",
   "execution_count": 10,
   "metadata": {},
   "outputs": [
    {
     "data": {
      "text/html": [
       "<div>\n",
       "<style scoped>\n",
       "    .dataframe tbody tr th:only-of-type {\n",
       "        vertical-align: middle;\n",
       "    }\n",
       "\n",
       "    .dataframe tbody tr th {\n",
       "        vertical-align: top;\n",
       "    }\n",
       "\n",
       "    .dataframe thead th {\n",
       "        text-align: right;\n",
       "    }\n",
       "</style>\n",
       "<table border=\"1\" class=\"dataframe\">\n",
       "  <thead>\n",
       "    <tr style=\"text-align: right;\">\n",
       "      <th></th>\n",
       "      <th>Team</th>\n",
       "      <th>Game</th>\n",
       "      <th>Home</th>\n",
       "      <th>Opponent</th>\n",
       "      <th>WINorLOSS</th>\n",
       "      <th>TeamPoints</th>\n",
       "      <th>OpponentPoints</th>\n",
       "      <th>FieldGoals</th>\n",
       "      <th>FieldGoalsAttempted</th>\n",
       "      <th>FieldGoals.</th>\n",
       "      <th>...</th>\n",
       "      <th>Opp.FreeThrows</th>\n",
       "      <th>Opp.FreeThrowsAttempted</th>\n",
       "      <th>Opp.FreeThrows.</th>\n",
       "      <th>Opp.OffRebounds</th>\n",
       "      <th>Opp.TotalRebounds</th>\n",
       "      <th>Opp.Assists</th>\n",
       "      <th>Opp.Steals</th>\n",
       "      <th>Opp.Blocks</th>\n",
       "      <th>Opp.Turnovers</th>\n",
       "      <th>Opp.TotalFouls</th>\n",
       "    </tr>\n",
       "  </thead>\n",
       "  <tbody>\n",
       "    <tr>\n",
       "      <th>4920</th>\n",
       "      <td>ATL</td>\n",
       "      <td>1</td>\n",
       "      <td>Home</td>\n",
       "      <td>WAS</td>\n",
       "      <td>1</td>\n",
       "      <td>114</td>\n",
       "      <td>99</td>\n",
       "      <td>44</td>\n",
       "      <td>88</td>\n",
       "      <td>0.500</td>\n",
       "      <td>...</td>\n",
       "      <td>13</td>\n",
       "      <td>18</td>\n",
       "      <td>0.722</td>\n",
       "      <td>12</td>\n",
       "      <td>40</td>\n",
       "      <td>25</td>\n",
       "      <td>14</td>\n",
       "      <td>4</td>\n",
       "      <td>19</td>\n",
       "      <td>20</td>\n",
       "    </tr>\n",
       "    <tr>\n",
       "      <th>4921</th>\n",
       "      <td>ATL</td>\n",
       "      <td>2</td>\n",
       "      <td>Away</td>\n",
       "      <td>PHI</td>\n",
       "      <td>1</td>\n",
       "      <td>104</td>\n",
       "      <td>72</td>\n",
       "      <td>42</td>\n",
       "      <td>85</td>\n",
       "      <td>0.494</td>\n",
       "      <td>...</td>\n",
       "      <td>11</td>\n",
       "      <td>15</td>\n",
       "      <td>0.733</td>\n",
       "      <td>4</td>\n",
       "      <td>39</td>\n",
       "      <td>16</td>\n",
       "      <td>9</td>\n",
       "      <td>5</td>\n",
       "      <td>20</td>\n",
       "      <td>20</td>\n",
       "    </tr>\n",
       "    <tr>\n",
       "      <th>4922</th>\n",
       "      <td>ATL</td>\n",
       "      <td>3</td>\n",
       "      <td>Home</td>\n",
       "      <td>SAC</td>\n",
       "      <td>1</td>\n",
       "      <td>106</td>\n",
       "      <td>95</td>\n",
       "      <td>33</td>\n",
       "      <td>79</td>\n",
       "      <td>0.418</td>\n",
       "      <td>...</td>\n",
       "      <td>13</td>\n",
       "      <td>19</td>\n",
       "      <td>0.684</td>\n",
       "      <td>6</td>\n",
       "      <td>38</td>\n",
       "      <td>26</td>\n",
       "      <td>10</td>\n",
       "      <td>6</td>\n",
       "      <td>19</td>\n",
       "      <td>34</td>\n",
       "    </tr>\n",
       "    <tr>\n",
       "      <th>4923</th>\n",
       "      <td>ATL</td>\n",
       "      <td>4</td>\n",
       "      <td>Home</td>\n",
       "      <td>LAL</td>\n",
       "      <td>0</td>\n",
       "      <td>116</td>\n",
       "      <td>123</td>\n",
       "      <td>41</td>\n",
       "      <td>85</td>\n",
       "      <td>0.482</td>\n",
       "      <td>...</td>\n",
       "      <td>18</td>\n",
       "      <td>20</td>\n",
       "      <td>0.900</td>\n",
       "      <td>11</td>\n",
       "      <td>42</td>\n",
       "      <td>24</td>\n",
       "      <td>11</td>\n",
       "      <td>9</td>\n",
       "      <td>15</td>\n",
       "      <td>25</td>\n",
       "    </tr>\n",
       "    <tr>\n",
       "      <th>4924</th>\n",
       "      <td>ATL</td>\n",
       "      <td>5</td>\n",
       "      <td>Away</td>\n",
       "      <td>WAS</td>\n",
       "      <td>0</td>\n",
       "      <td>92</td>\n",
       "      <td>95</td>\n",
       "      <td>32</td>\n",
       "      <td>83</td>\n",
       "      <td>0.386</td>\n",
       "      <td>...</td>\n",
       "      <td>28</td>\n",
       "      <td>35</td>\n",
       "      <td>0.800</td>\n",
       "      <td>11</td>\n",
       "      <td>46</td>\n",
       "      <td>13</td>\n",
       "      <td>7</td>\n",
       "      <td>3</td>\n",
       "      <td>19</td>\n",
       "      <td>23</td>\n",
       "    </tr>\n",
       "  </tbody>\n",
       "</table>\n",
       "<p>5 rows × 39 columns</p>\n",
       "</div>"
      ],
      "text/plain": [
       "     Team  Game  Home Opponent  WINorLOSS  TeamPoints  OpponentPoints  \\\n",
       "4920  ATL     1  Home      WAS          1         114              99   \n",
       "4921  ATL     2  Away      PHI          1         104              72   \n",
       "4922  ATL     3  Home      SAC          1         106              95   \n",
       "4923  ATL     4  Home      LAL          0         116             123   \n",
       "4924  ATL     5  Away      WAS          0          92              95   \n",
       "\n",
       "      FieldGoals  FieldGoalsAttempted  FieldGoals.  ...  Opp.FreeThrows  \\\n",
       "4920          44                   88        0.500  ...              13   \n",
       "4921          42                   85        0.494  ...              11   \n",
       "4922          33                   79        0.418  ...              13   \n",
       "4923          41                   85        0.482  ...              18   \n",
       "4924          32                   83        0.386  ...              28   \n",
       "\n",
       "      Opp.FreeThrowsAttempted  Opp.FreeThrows.  Opp.OffRebounds  \\\n",
       "4920                       18            0.722               12   \n",
       "4921                       15            0.733                4   \n",
       "4922                       19            0.684                6   \n",
       "4923                       20            0.900               11   \n",
       "4924                       35            0.800               11   \n",
       "\n",
       "      Opp.TotalRebounds  Opp.Assists  Opp.Steals  Opp.Blocks  Opp.Turnovers  \\\n",
       "4920                 40           25          14           4             19   \n",
       "4921                 39           16           9           5             20   \n",
       "4922                 38           26          10           6             19   \n",
       "4923                 42           24          11           9             15   \n",
       "4924                 46           13           7           3             19   \n",
       "\n",
       "      Opp.TotalFouls  \n",
       "4920              20  \n",
       "4921              20  \n",
       "4922              34  \n",
       "4923              25  \n",
       "4924              23  \n",
       "\n",
       "[5 rows x 39 columns]"
      ]
     },
     "execution_count": 10,
     "metadata": {},
     "output_type": "execute_result"
    }
   ],
   "source": [
    "#Convert 'Date' column to datetime objects\n",
    "nba_data['Date'] = pd.to_datetime(nba_data['Date'])\n",
    "#Grab data from only 2016-2017 season\n",
    "one_season = nba_data.loc[(nba_data['Date'] >= '2016-10-25') & (nba_data['Date'] <= '2017-04-12')]\n",
    "#Drop unnecessary columns\n",
    "one_season = one_season.drop(columns = ['Date', 'Unnamed: 0'])\n",
    "#Convert WINorLOSS column to binary (1 for win, 0 for loss)\n",
    "one_season['WINorLOSS'] = one_season['WINorLOSS'].eq('W').mul(1)\n",
    "#Cleaned dataset\n",
    "one_season.head()"
   ]
  },
  {
   "cell_type": "markdown",
   "metadata": {},
   "source": [
    "# Data Analysis & Results"
   ]
  },
  {
   "cell_type": "markdown",
   "metadata": {},
   "source": [
    "Include cells that describe the steps in your data analysis."
   ]
  },
  {
   "cell_type": "code",
   "execution_count": 15,
   "metadata": {},
   "outputs": [
    {
     "data": {
      "text/html": [
       "<div>\n",
       "<style scoped>\n",
       "    .dataframe tbody tr th:only-of-type {\n",
       "        vertical-align: middle;\n",
       "    }\n",
       "\n",
       "    .dataframe tbody tr th {\n",
       "        vertical-align: top;\n",
       "    }\n",
       "\n",
       "    .dataframe thead th {\n",
       "        text-align: right;\n",
       "    }\n",
       "</style>\n",
       "<table border=\"1\" class=\"dataframe\">\n",
       "  <thead>\n",
       "    <tr style=\"text-align: right;\">\n",
       "      <th></th>\n",
       "      <th></th>\n",
       "      <th>Game</th>\n",
       "      <th>WINorLOSS</th>\n",
       "      <th>TeamPoints</th>\n",
       "      <th>OpponentPoints</th>\n",
       "      <th>FieldGoals</th>\n",
       "      <th>FieldGoalsAttempted</th>\n",
       "      <th>FieldGoals.</th>\n",
       "      <th>X3PointShots</th>\n",
       "      <th>X3PointShotsAttempted</th>\n",
       "      <th>X3PointShots.</th>\n",
       "      <th>...</th>\n",
       "      <th>Opp.FreeThrows</th>\n",
       "      <th>Opp.FreeThrowsAttempted</th>\n",
       "      <th>Opp.FreeThrows.</th>\n",
       "      <th>Opp.OffRebounds</th>\n",
       "      <th>Opp.TotalRebounds</th>\n",
       "      <th>Opp.Assists</th>\n",
       "      <th>Opp.Steals</th>\n",
       "      <th>Opp.Blocks</th>\n",
       "      <th>Opp.Turnovers</th>\n",
       "      <th>Opp.TotalFouls</th>\n",
       "    </tr>\n",
       "    <tr>\n",
       "      <th>Team</th>\n",
       "      <th>Home</th>\n",
       "      <th></th>\n",
       "      <th></th>\n",
       "      <th></th>\n",
       "      <th></th>\n",
       "      <th></th>\n",
       "      <th></th>\n",
       "      <th></th>\n",
       "      <th></th>\n",
       "      <th></th>\n",
       "      <th></th>\n",
       "      <th></th>\n",
       "      <th></th>\n",
       "      <th></th>\n",
       "      <th></th>\n",
       "      <th></th>\n",
       "      <th></th>\n",
       "      <th></th>\n",
       "      <th></th>\n",
       "      <th></th>\n",
       "      <th></th>\n",
       "      <th></th>\n",
       "    </tr>\n",
       "  </thead>\n",
       "  <tbody>\n",
       "    <tr>\n",
       "      <th rowspan=\"2\" valign=\"top\">ATL</th>\n",
       "      <th>Away</th>\n",
       "      <td>1685</td>\n",
       "      <td>20</td>\n",
       "      <td>4116</td>\n",
       "      <td>4190</td>\n",
       "      <td>1523</td>\n",
       "      <td>3416</td>\n",
       "      <td>18.282</td>\n",
       "      <td>366</td>\n",
       "      <td>1077</td>\n",
       "      <td>13.934</td>\n",
       "      <td>...</td>\n",
       "      <td>637</td>\n",
       "      <td>831</td>\n",
       "      <td>31.849</td>\n",
       "      <td>424</td>\n",
       "      <td>1810</td>\n",
       "      <td>894</td>\n",
       "      <td>366</td>\n",
       "      <td>196</td>\n",
       "      <td>578</td>\n",
       "      <td>845</td>\n",
       "    </tr>\n",
       "    <tr>\n",
       "      <th>Home</th>\n",
       "      <td>1718</td>\n",
       "      <td>23</td>\n",
       "      <td>4343</td>\n",
       "      <td>4339</td>\n",
       "      <td>1600</td>\n",
       "      <td>3502</td>\n",
       "      <td>18.790</td>\n",
       "      <td>363</td>\n",
       "      <td>1060</td>\n",
       "      <td>14.056</td>\n",
       "      <td>...</td>\n",
       "      <td>643</td>\n",
       "      <td>827</td>\n",
       "      <td>31.965</td>\n",
       "      <td>452</td>\n",
       "      <td>1788</td>\n",
       "      <td>1025</td>\n",
       "      <td>372</td>\n",
       "      <td>228</td>\n",
       "      <td>629</td>\n",
       "      <td>923</td>\n",
       "    </tr>\n",
       "    <tr>\n",
       "      <th rowspan=\"2\" valign=\"top\">BOS</th>\n",
       "      <th>Away</th>\n",
       "      <td>1607</td>\n",
       "      <td>23</td>\n",
       "      <td>4367</td>\n",
       "      <td>4318</td>\n",
       "      <td>1566</td>\n",
       "      <td>3462</td>\n",
       "      <td>18.589</td>\n",
       "      <td>467</td>\n",
       "      <td>1366</td>\n",
       "      <td>13.975</td>\n",
       "      <td>...</td>\n",
       "      <td>831</td>\n",
       "      <td>1089</td>\n",
       "      <td>31.459</td>\n",
       "      <td>418</td>\n",
       "      <td>1822</td>\n",
       "      <td>892</td>\n",
       "      <td>300</td>\n",
       "      <td>201</td>\n",
       "      <td>556</td>\n",
       "      <td>830</td>\n",
       "    </tr>\n",
       "    <tr>\n",
       "      <th>Home</th>\n",
       "      <td>1796</td>\n",
       "      <td>30</td>\n",
       "      <td>4490</td>\n",
       "      <td>4323</td>\n",
       "      <td>1602</td>\n",
       "      <td>3516</td>\n",
       "      <td>18.718</td>\n",
       "      <td>518</td>\n",
       "      <td>1376</td>\n",
       "      <td>15.433</td>\n",
       "      <td>...</td>\n",
       "      <td>739</td>\n",
       "      <td>953</td>\n",
       "      <td>31.671</td>\n",
       "      <td>465</td>\n",
       "      <td>1830</td>\n",
       "      <td>959</td>\n",
       "      <td>323</td>\n",
       "      <td>224</td>\n",
       "      <td>546</td>\n",
       "      <td>834</td>\n",
       "    </tr>\n",
       "    <tr>\n",
       "      <th>BRK</th>\n",
       "      <th>Away</th>\n",
       "      <td>1745</td>\n",
       "      <td>7</td>\n",
       "      <td>4393</td>\n",
       "      <td>4718</td>\n",
       "      <td>1568</td>\n",
       "      <td>3469</td>\n",
       "      <td>18.595</td>\n",
       "      <td>442</td>\n",
       "      <td>1282</td>\n",
       "      <td>14.007</td>\n",
       "      <td>...</td>\n",
       "      <td>818</td>\n",
       "      <td>1041</td>\n",
       "      <td>32.379</td>\n",
       "      <td>441</td>\n",
       "      <td>1923</td>\n",
       "      <td>1010</td>\n",
       "      <td>375</td>\n",
       "      <td>237</td>\n",
       "      <td>521</td>\n",
       "      <td>822</td>\n",
       "    </tr>\n",
       "  </tbody>\n",
       "</table>\n",
       "<p>5 rows × 36 columns</p>\n",
       "</div>"
      ],
      "text/plain": [
       "           Game  WINorLOSS  TeamPoints  OpponentPoints  FieldGoals  \\\n",
       "Team Home                                                            \n",
       "ATL  Away  1685         20        4116            4190        1523   \n",
       "     Home  1718         23        4343            4339        1600   \n",
       "BOS  Away  1607         23        4367            4318        1566   \n",
       "     Home  1796         30        4490            4323        1602   \n",
       "BRK  Away  1745          7        4393            4718        1568   \n",
       "\n",
       "           FieldGoalsAttempted  FieldGoals.  X3PointShots  \\\n",
       "Team Home                                                   \n",
       "ATL  Away                 3416       18.282           366   \n",
       "     Home                 3502       18.790           363   \n",
       "BOS  Away                 3462       18.589           467   \n",
       "     Home                 3516       18.718           518   \n",
       "BRK  Away                 3469       18.595           442   \n",
       "\n",
       "           X3PointShotsAttempted  X3PointShots.  ...  Opp.FreeThrows  \\\n",
       "Team Home                                        ...                   \n",
       "ATL  Away                   1077         13.934  ...             637   \n",
       "     Home                   1060         14.056  ...             643   \n",
       "BOS  Away                   1366         13.975  ...             831   \n",
       "     Home                   1376         15.433  ...             739   \n",
       "BRK  Away                   1282         14.007  ...             818   \n",
       "\n",
       "           Opp.FreeThrowsAttempted  Opp.FreeThrows.  Opp.OffRebounds  \\\n",
       "Team Home                                                              \n",
       "ATL  Away                      831           31.849              424   \n",
       "     Home                      827           31.965              452   \n",
       "BOS  Away                     1089           31.459              418   \n",
       "     Home                      953           31.671              465   \n",
       "BRK  Away                     1041           32.379              441   \n",
       "\n",
       "           Opp.TotalRebounds  Opp.Assists  Opp.Steals  Opp.Blocks  \\\n",
       "Team Home                                                           \n",
       "ATL  Away               1810          894         366         196   \n",
       "     Home               1788         1025         372         228   \n",
       "BOS  Away               1822          892         300         201   \n",
       "     Home               1830          959         323         224   \n",
       "BRK  Away               1923         1010         375         237   \n",
       "\n",
       "           Opp.Turnovers  Opp.TotalFouls  \n",
       "Team Home                                 \n",
       "ATL  Away            578             845  \n",
       "     Home            629             923  \n",
       "BOS  Away            556             830  \n",
       "     Home            546             834  \n",
       "BRK  Away            521             822  \n",
       "\n",
       "[5 rows x 36 columns]"
      ]
     },
     "execution_count": 15,
     "metadata": {},
     "output_type": "execute_result"
    }
   ],
   "source": [
    "#Group data by teams, and for each team, group by home and away\n",
    "teams_ha = one_season.groupby(['Team', 'Home']).sum()\n",
    "teams_ha.head()"
   ]
  },
  {
   "cell_type": "code",
   "execution_count": 72,
   "metadata": {},
   "outputs": [
    {
     "data": {
      "text/plain": [
       "<matplotlib.legend.Legend at 0x1dd709081d0>"
      ]
     },
     "execution_count": 72,
     "metadata": {},
     "output_type": "execute_result"
    },
    {
     "data": {
      "image/png": "[encoded data removed]",
      "text/plain": [
       "<Figure size 1224x576 with 1 Axes>"
      ]
     },
     "metadata": {
      "needs_background": "light"
     },
     "output_type": "display_data"
    }
   ],
   "source": [
    "#Calculate win percentages for each team at home vs away\n",
    "win_percentages = teams_ha['WINorLOSS']/41\n",
    "#Plot bar chart comparing the percentages\n",
    "win_percent_team = win_percentages.unstack().plot.bar(figsize=(17,8))\n",
    "win_percent_team.set_ylabel(\"Win %\")\n",
    "win_percent_team.legend(prop={'size':15})"
   ]
  },
  {
   "cell_type": "code",
   "execution_count": 34,
   "metadata": {},
   "outputs": [
    {
     "data": {
      "text/plain": [
       "30"
      ]
     },
     "execution_count": 34,
     "metadata": {},
     "output_type": "execute_result"
    }
   ],
   "source": [
    "'''Calculate the number of teams that have a higher win percentage at home than away. Every was more likely\n",
    "to win at home than they were on the road.'''\n",
    "len(win_percentages.unstack().loc[win_percentages.unstack()['Home'] > win_percentages.unstack()['Away']])"
   ]
  },
  {
   "cell_type": "code",
   "execution_count": 19,
   "metadata": {},
   "outputs": [
    {
     "data": {
      "text/html": [
       "<div>\n",
       "<style scoped>\n",
       "    .dataframe tbody tr th:only-of-type {\n",
       "        vertical-align: middle;\n",
       "    }\n",
       "\n",
       "    .dataframe tbody tr th {\n",
       "        vertical-align: top;\n",
       "    }\n",
       "\n",
       "    .dataframe thead th {\n",
       "        text-align: right;\n",
       "    }\n",
       "</style>\n",
       "<table border=\"1\" class=\"dataframe\">\n",
       "  <thead>\n",
       "    <tr style=\"text-align: right;\">\n",
       "      <th></th>\n",
       "      <th>Team</th>\n",
       "      <th>WINorLOSS</th>\n",
       "      <th>Game</th>\n",
       "      <th>Home</th>\n",
       "      <th>TeamPoints</th>\n",
       "      <th>OpponentPoints</th>\n",
       "      <th>ScoreDiff</th>\n",
       "    </tr>\n",
       "  </thead>\n",
       "  <tbody>\n",
       "    <tr>\n",
       "      <th>4920</th>\n",
       "      <td>ATL</td>\n",
       "      <td>1</td>\n",
       "      <td>1</td>\n",
       "      <td>Home</td>\n",
       "      <td>114</td>\n",
       "      <td>99</td>\n",
       "      <td>15</td>\n",
       "    </tr>\n",
       "    <tr>\n",
       "      <th>4921</th>\n",
       "      <td>ATL</td>\n",
       "      <td>1</td>\n",
       "      <td>2</td>\n",
       "      <td>Away</td>\n",
       "      <td>104</td>\n",
       "      <td>72</td>\n",
       "      <td>32</td>\n",
       "    </tr>\n",
       "    <tr>\n",
       "      <th>4922</th>\n",
       "      <td>ATL</td>\n",
       "      <td>1</td>\n",
       "      <td>3</td>\n",
       "      <td>Home</td>\n",
       "      <td>106</td>\n",
       "      <td>95</td>\n",
       "      <td>11</td>\n",
       "    </tr>\n",
       "    <tr>\n",
       "      <th>4925</th>\n",
       "      <td>ATL</td>\n",
       "      <td>1</td>\n",
       "      <td>6</td>\n",
       "      <td>Home</td>\n",
       "      <td>112</td>\n",
       "      <td>97</td>\n",
       "      <td>15</td>\n",
       "    </tr>\n",
       "    <tr>\n",
       "      <th>4926</th>\n",
       "      <td>ATL</td>\n",
       "      <td>1</td>\n",
       "      <td>7</td>\n",
       "      <td>Away</td>\n",
       "      <td>110</td>\n",
       "      <td>106</td>\n",
       "      <td>4</td>\n",
       "    </tr>\n",
       "  </tbody>\n",
       "</table>\n",
       "</div>"
      ],
      "text/plain": [
       "     Team  WINorLOSS  Game  Home  TeamPoints  OpponentPoints  ScoreDiff\n",
       "4920  ATL          1     1  Home         114              99         15\n",
       "4921  ATL          1     2  Away         104              72         32\n",
       "4922  ATL          1     3  Home         106              95         11\n",
       "4925  ATL          1     6  Home         112              97         15\n",
       "4926  ATL          1     7  Away         110             106          4"
      ]
     },
     "execution_count": 19,
     "metadata": {},
     "output_type": "execute_result"
    }
   ],
   "source": [
    "#Grab columns necessary for score differential calculation\n",
    "team_scores = one_season[['Team','WINorLOSS', 'Game', 'Home','TeamPoints', 'OpponentPoints']]\n",
    "#Get wins ONLY\n",
    "team_scores = team_scores[team_scores['WINorLOSS'] == 1]\n",
    "#Get score differential in wins\n",
    "team_scores['ScoreDiff'] = team_scores['TeamPoints'].sub(team_scores['OpponentPoints'], axis=0)\n",
    "team_scores.head()"
   ]
  },
  {
   "cell_type": "code",
   "execution_count": 21,
   "metadata": {},
   "outputs": [
    {
     "data": {
      "text/plain": [
       "Team  Home\n",
       "ATL   Away     9.500000\n",
       "      Home    10.130435\n",
       "BOS   Away     8.869565\n",
       "      Home     9.366667\n",
       "BRK   Away    16.857143\n",
       "Name: ScoreDiff, dtype: float64"
      ]
     },
     "execution_count": 21,
     "metadata": {},
     "output_type": "execute_result"
    }
   ],
   "source": [
    "#Group by team, and for each team, group by home and away. Grab the score differential column.\n",
    "ha_win_score_diff = team_scores.groupby(['Team','Home']).mean()['ScoreDiff']\n",
    "ha_win_score_diff.head()"
   ]
  },
  {
   "cell_type": "code",
   "execution_count": 68,
   "metadata": {},
   "outputs": [
    {
     "data": {
      "text/plain": [
       "<matplotlib.legend.Legend at 0x1dd7056e048>"
      ]
     },
     "execution_count": 68,
     "metadata": {},
     "output_type": "execute_result"
    },
    {
     "data": {
      "image/png": "[encoded data removed]",
      "text/plain": [
       "<Figure size 1224x576 with 1 Axes>"
      ]
     },
     "metadata": {
      "needs_background": "light"
     },
     "output_type": "display_data"
    }
   ],
   "source": [
    "#Plot bar chart to compare score differential in home wins vs away wins\n",
    "score_diff = ha_win_score_diff.unstack().plot.bar(figsize=(17,8))\n",
    "score_diff.set_ylabel(\"Avg Score Differential in Wins\")\n",
    "score_diff.legend(prop={'size':15})"
   ]
  },
  {
   "cell_type": "code",
   "execution_count": 25,
   "metadata": {},
   "outputs": [
    {
     "data": {
      "text/plain": [
       "25"
      ]
     },
     "execution_count": 25,
     "metadata": {},
     "output_type": "execute_result"
    }
   ],
   "source": [
    "'''Calculate the number of teams with a higher score differential in home wins than away wins. \n",
    "25 teams won more comfortably at home than on the road. The other 5 teams did not perform to our \n",
    "expectations, so they were not considered in the analysis'''\n",
    "\n",
    "df_ha = ha_win_score_diff.unstack()\n",
    "len(df_ha.loc[df_ha['Home'] > df_ha['Away']])"
   ]
  },
  {
   "cell_type": "code",
   "execution_count": 26,
   "metadata": {},
   "outputs": [
    {
     "data": {
      "text/plain": [
       "3.25724297549729"
      ]
     },
     "execution_count": 26,
     "metadata": {},
     "output_type": "execute_result"
    }
   ],
   "source": [
    "#Calculate the average difference in score differential for home vs away\n",
    "home_greater = df_ha.loc[df_ha['Home'] > df_ha['Away']]\n",
    "home_greater['Home'].mean() - home_greater['Away'].mean()"
   ]
  },
  {
   "cell_type": "code",
   "execution_count": 35,
   "metadata": {},
   "outputs": [
    {
     "data": {
      "text/plain": [
       "Ttest_indResult(statistic=4.860888174640401, pvalue=1.7247253869154674e-05)"
      ]
     },
     "execution_count": 35,
     "metadata": {},
     "output_type": "execute_result"
    }
   ],
   "source": [
    "'''Run t-test to see if there is a significant difference. The null hypothesis\n",
    "states that there is no significant difference between the mean win score differential \n",
    "at home and the mean win score differential on the road. Our significance level is 0.05. \n",
    "Because our p-value is less than the significance level, we can reject the null hypothesis\n",
    "and say that there is a significant difference. These 25 teams are winning more comfortably\n",
    "at home than away.'''\n",
    "stats.ttest_ind(home_greater['Home'], home_greater['Away'], equal_var = False)"
   ]
  },
  {
   "cell_type": "code",
   "execution_count": 70,
   "metadata": {},
   "outputs": [
    {
     "data": {
      "text/plain": [
       "<matplotlib.legend.Legend at 0x1dd7067c198>"
      ]
     },
     "execution_count": 70,
     "metadata": {},
     "output_type": "execute_result"
    },
    {
     "data": {
      "image/png": "[encoded data removed]",
      "text/plain": [
       "<Figure size 1224x576 with 1 Axes>"
      ]
     },
     "metadata": {
      "needs_background": "light"
     },
     "output_type": "display_data"
    }
   ],
   "source": [
    "#find average TO per game split by home and away games for every team\n",
    "to_ha = (teams_ha['Turnovers']/41).unstack()\n",
    "#average TO per game, not split by home and away, for every team\n",
    "avg_to = one_season.groupby('Team').sum()['Turnovers']/82\n",
    "#calculates difference in average TO at home/away vs average TO overall\n",
    "to_ha['Away TO Diff'] = to_ha['Away'].sub(avg_to, axis=0)\n",
    "to_ha['Home TO Diff'] = to_ha['Home'].sub(avg_to, axis=0)\n",
    "#drop unecessary columns\n",
    "to_ha = to_ha.drop(columns=['Home', 'Away'])\n",
    "#rename columns\n",
    "to_ha = to_ha.rename(columns={'Home TO Diff': 'Home', 'Away TO Diff': 'Away'})\n",
    "#plot bar chart to compare TO differential between home and away\n",
    "to_plot = to_ha.plot.bar(figsize=(17,8))\n",
    "to_plot.set_ylabel('Avg TO Differential')\n",
    "to_plot.legend(prop={'size':15})"
   ]
  },
  {
   "cell_type": "code",
   "execution_count": 39,
   "metadata": {},
   "outputs": [
    {
     "data": {
      "text/plain": [
       "-0.45853658536585384"
      ]
     },
     "execution_count": 39,
     "metadata": {},
     "output_type": "execute_result"
    }
   ],
   "source": [
    "'''15 teams averaged 0.46 less TO's at home compared to their overall average TO on the season, for an overall \n",
    "difference of 0.45 less TO's'''\n",
    "to_ha.loc[to_ha['Home TO Diff'] < 0].mean()['Home TO Diff']"
   ]
  },
  {
   "cell_type": "code",
   "execution_count": 40,
   "metadata": {},
   "outputs": [
    {
     "data": {
      "text/plain": [
       "-0.28048780487804864"
      ]
     },
     "execution_count": 40,
     "metadata": {},
     "output_type": "execute_result"
    }
   ],
   "source": [
    "'''15 teams averaged less TO's on the road compared to their overall average on the season, for an overall \n",
    "difference of 0.28 less TO's'''\n",
    "to_ha.loc[to_ha['Away TO Diff'] < 0].mean()['Away TO Diff']"
   ]
  },
  {
   "cell_type": "code",
   "execution_count": 41,
   "metadata": {},
   "outputs": [
    {
     "data": {
      "text/plain": [
       "Ttest_indResult(statistic=1.7780215101087347, pvalue=0.08787410116740832)"
      ]
     },
     "execution_count": 41,
     "metadata": {},
     "output_type": "execute_result"
    }
   ],
   "source": [
    "'''There are 15 teams that average less TO's at home than they do on the season, and 15 that average less \n",
    "TO's away than they do on the season. The null hypothesis states that there is no significant difference\n",
    "between the home TO differential and the away TO differential. When running the t-test for a significant \n",
    "difference between the TO differences, I got a p-value of 0.087, which is greater than 0.05. Therefore, \n",
    "we cannot reject the null hypothesis and say that turnovers  are less frequent at home due to home court \n",
    "advantage.'''\n",
    "stats.ttest_ind(to_ha.loc[to_ha['Away TO Diff'] < 0]['Away TO Diff'], \n",
    "                to_ha.loc[to_ha['Home TO Diff'] < 0]['Home TO Diff'], equal_var = False)"
   ]
  },
  {
   "cell_type": "markdown",
   "metadata": {},
   "source": [
    "# Ethics & Privacy"
   ]
  },
  {
   "cell_type": "markdown",
   "metadata": {},
   "source": [
    "*Fill in your ethics & privacy discussion here*"
   ]
  },
  {
   "cell_type": "markdown",
   "metadata": {},
   "source": [
    "# Conclusion & Discussion"
   ]
  },
  {
   "cell_type": "markdown",
   "metadata": {},
   "source": [
    "*Fill in your discussion information here*"
   ]
  }
 ],
 "metadata": {
  "kernelspec": {
   "display_name": "Python 3",
   "language": "python",
   "name": "python3"
  },
  "language_info": {
   "codemirror_mode": {
    "name": "ipython",
    "version": 3
   },
   "file_extension": ".py",
   "mimetype": "text/x-python",
   "name": "python",
   "nbconvert_exporter": "python",
   "pygments_lexer": "ipython3",
   "version": "3.7.3"
  }
 },
 "nbformat": 4,
 "nbformat_minor": 2
}
